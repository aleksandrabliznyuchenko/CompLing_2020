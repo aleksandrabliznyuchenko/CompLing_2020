{
 "cells": [
  {
   "cell_type": "markdown",
   "metadata": {
    "colab_type": "text",
    "id": "nzfD_Wk1ZN6L"
   },
   "source": [
    "# Домашнее задание №1\n",
    "\n",
    "### **Dataset of depressive posts in Russian language collected from social media** [(paper)](https://www.sciencedirect.com/science/article/pii/S2352340920300895)\n",
    "\n",
    "Скачать датасет в формате .tsv можно [здесь](https://yadi.sk/d/G5rq-R3AK8SOuw).\n",
    "\n",
    "\n",
    "В качестве задания предлагается:\n",
    "1. Использовать ```pandas``` и ряд инструментов для автоматической обработки текстов на русском языке, чтобы ответить на вопросы.\n",
    "2. Написать функции для извлечения текстовых признаков.\n",
    "\n",
    "Не рекомендуется использовать ```nltk``` для сегментации/токенизации текстов, поскольку существуют инструменты, которые выполняют свою задачу для русского значительно лучше – их мы обсуждали с вами на занятии.\n",
    "\n",
    "\n",
    "**Дедлайн**: 23 сентября 23:59"
   ]
  },
  {
   "cell_type": "code",
   "execution_count": 195,
   "metadata": {
    "colab": {
     "base_uri": "https://localhost:8080/",
     "height": 197
    },
    "colab_type": "code",
    "id": "9tsSaFBdgu1B",
    "outputId": "ab4f6872-15f1-4257-d370-0903ab9fc978"
   },
   "outputs": [
    {
     "data": {
      "text/html": [
       "<div>\n",
       "<style scoped>\n",
       "    .dataframe tbody tr th:only-of-type {\n",
       "        vertical-align: middle;\n",
       "    }\n",
       "\n",
       "    .dataframe tbody tr th {\n",
       "        vertical-align: top;\n",
       "    }\n",
       "\n",
       "    .dataframe thead th {\n",
       "        text-align: right;\n",
       "    }\n",
       "</style>\n",
       "<table border=\"1\" class=\"dataframe\">\n",
       "  <thead>\n",
       "    <tr style=\"text-align: right;\">\n",
       "      <th></th>\n",
       "      <th>text</th>\n",
       "      <th>label</th>\n",
       "      <th>age</th>\n",
       "    </tr>\n",
       "  </thead>\n",
       "  <tbody>\n",
       "    <tr>\n",
       "      <th>0</th>\n",
       "      <td>Когда-то я был добрым романтиком, который стре...</td>\n",
       "      <td>1</td>\n",
       "      <td>32.0</td>\n",
       "    </tr>\n",
       "    <tr>\n",
       "      <th>1</th>\n",
       "      <td>Здраствуйте! Я каждый день просыпаюсь с мыслью...</td>\n",
       "      <td>1</td>\n",
       "      <td>28.0</td>\n",
       "    </tr>\n",
       "    <tr>\n",
       "      <th>2</th>\n",
       "      <td>У меня проблемы с девушкой. Каждую ссору я не ...</td>\n",
       "      <td>1</td>\n",
       "      <td>16.0</td>\n",
       "    </tr>\n",
       "    <tr>\n",
       "      <th>3</th>\n",
       "      <td>Вся моя жизнь это один сплошной ад, в котором ...</td>\n",
       "      <td>1</td>\n",
       "      <td>32.0</td>\n",
       "    </tr>\n",
       "    <tr>\n",
       "      <th>4</th>\n",
       "      <td>Я хочу уснуть и не проснуться.каждый день одно...</td>\n",
       "      <td>1</td>\n",
       "      <td>14.0</td>\n",
       "    </tr>\n",
       "  </tbody>\n",
       "</table>\n",
       "</div>"
      ],
      "text/plain": [
       "                                                text  label   age\n",
       "0  Когда-то я был добрым романтиком, который стре...      1  32.0\n",
       "1  Здраствуйте! Я каждый день просыпаюсь с мыслью...      1  28.0\n",
       "2  У меня проблемы с девушкой. Каждую ссору я не ...      1  16.0\n",
       "3  Вся моя жизнь это один сплошной ад, в котором ...      1  32.0\n",
       "4  Я хочу уснуть и не проснуться.каждый день одно...      1  14.0"
      ]
     },
     "execution_count": 195,
     "metadata": {},
     "output_type": "execute_result"
    }
   ],
   "source": [
    "import pandas as pd\n",
    "\n",
    "\n",
    "df = pd.read_csv(\"depression_data.tsv\", sep=\"\\t\")\n",
    "df.head()"
   ]
  },
  {
   "cell_type": "markdown",
   "metadata": {
    "colab_type": "text",
    "id": "jgwa7XyGfuCI"
   },
   "source": [
    "### Часть 1: Простая статистика (2 балла)"
   ]
  },
  {
   "cell_type": "markdown",
   "metadata": {
    "colab_type": "text",
    "id": "YP1iOWbjh2zw"
   },
   "source": [
    "Зачастую в данных, с которыми вы работаете, может быть много неприятных для обработки вещей. Например, мы видим, что в колонке ```age``` очень грязные значения."
   ]
  },
  {
   "cell_type": "code",
   "execution_count": 196,
   "metadata": {
    "colab": {
     "base_uri": "https://localhost:8080/",
     "height": 244
    },
    "colab_type": "code",
    "id": "uDW6JMhwZuS8",
    "outputId": "5c8f2a9e-2d21-4b1d-9187-e3bc0eaa5db5"
   },
   "outputs": [
    {
     "data": {
      "text/plain": [
       "1.600000e+01    1823\n",
       "1.700000e+01    1811\n",
       "1.800000e+01    1661\n",
       "1.500000e+01    1582\n",
       "2.000000e+01    1543\n",
       "1.900000e+01    1402\n",
       "2.100000e+01    1273\n",
       "1.400000e+01    1228\n",
       "2.200000e+01    1154\n",
       "2.300000e+01    1120\n",
       "2.500000e+01    1011\n",
       "2.400000e+01     917\n",
       "2.600000e+01     760\n",
       "2.700000e+01     700\n",
       "1.300000e+01     673\n",
       "2.800000e+01     608\n",
       "3.000000e+01     577\n",
       "2.900000e+01     479\n",
       "1.200000e+01     353\n",
       "3.200000e+01     338\n",
       "3.100000e+01     311\n",
       "3.300000e+01     274\n",
       "3.500000e+01     269\n",
       "3.400000e+01     243\n",
       "4.000000e+01     213\n",
       "3.800000e+01     212\n",
       "3.600000e+01     208\n",
       "3.700000e+01     182\n",
       "3.900000e+01     144\n",
       "1.100000e+01     117\n",
       "                ... \n",
       "1.250000e+02       1\n",
       "3.650000e+02       1\n",
       "2.728000e+03       1\n",
       "1.214000e+03       1\n",
       "1.230012e+09       1\n",
       "2.025000e+03       1\n",
       "6.800000e+01       1\n",
       "1.090000e+02       1\n",
       "2.000000e+02       1\n",
       "1.550000e+02       1\n",
       "6.900000e+01       1\n",
       "1.650000e+02       1\n",
       "1.318000e+03       1\n",
       "2.122000e+03       1\n",
       "2.223000e+03       1\n",
       "2.650000e+02       1\n",
       "6.660000e+02       1\n",
       "2.750000e+02       1\n",
       "1.314000e+03       1\n",
       "5.000000e+00       1\n",
       "1.590000e+02       1\n",
       "2.411270e+05       1\n",
       "2.150000e+02       1\n",
       "9.296329e+09       1\n",
       "6.869745e+08       1\n",
       "1.160000e+02       1\n",
       "2.950000e+02       1\n",
       "2.425000e+03       1\n",
       "9.200000e+01       1\n",
       "8.300000e+02       1\n",
       "Name: age, Length: 128, dtype: int64"
      ]
     },
     "execution_count": 196,
     "metadata": {},
     "output_type": "execute_result"
    }
   ],
   "source": [
    "df[\"age\"].value_counts()"
   ]
  },
  {
   "cell_type": "markdown",
   "metadata": {
    "colab_type": "text",
    "id": "5SqrBy6iloMd"
   },
   "source": [
    "1. Найдите среднее значение возраста в диапазоне от 14 до 50 лет включительно."
   ]
  },
  {
   "cell_type": "code",
   "execution_count": 197,
   "metadata": {},
   "outputs": [
    {
     "data": {
      "text/plain": [
       "22.704171601526518"
      ]
     },
     "execution_count": 197,
     "metadata": {},
     "output_type": "execute_result"
    }
   ],
   "source": [
    "df[(df.age >= 14) & (df.age <= 50)][\"age\"].mean()"
   ]
  },
  {
   "cell_type": "markdown",
   "metadata": {
    "colab_type": "text",
    "id": "Pw5gpMkDk4R6"
   },
   "source": [
    "2. Какую долю 16-летние авторы составляют в диапазоне от 16 до 26 лет включительно?"
   ]
  },
  {
   "cell_type": "code",
   "execution_count": 198,
   "metadata": {
    "colab": {},
    "colab_type": "code",
    "id": "qXejPDLZj3eX"
   },
   "outputs": [
    {
     "data": {
      "text/plain": [
       "0.1259412780656304"
      ]
     },
     "execution_count": 198,
     "metadata": {},
     "output_type": "execute_result"
    }
   ],
   "source": [
    "# your code and output here\n",
    "valueCounts = df[\"age\"].value_counts()\n",
    "\n",
    "valueCounts[16] / sum([valueCounts[x] for x in range(16, 27)])"
   ]
  },
  {
   "cell_type": "markdown",
   "metadata": {
    "colab_type": "text",
    "id": "vGinA-Swjvlc"
   },
   "source": [
    "3. Сколько в датасете текстов, авторам которых 28 или 30 лет?"
   ]
  },
  {
   "cell_type": "code",
   "execution_count": 199,
   "metadata": {
    "colab": {},
    "colab_type": "code",
    "id": "QNz0sLmjYLxr"
   },
   "outputs": [
    {
     "data": {
      "text/plain": [
       "1185"
      ]
     },
     "execution_count": 199,
     "metadata": {},
     "output_type": "execute_result"
    }
   ],
   "source": [
    "# your code and output here\n",
    "valueCounts[28] + valueCounts[30]"
   ]
  },
  {
   "cell_type": "markdown",
   "metadata": {
    "colab_type": "text",
    "id": "WIiciL_BnJzl"
   },
   "source": [
    "4. С помощью одной встроенной в ```pandas``` функции отобразите всю статистику по колонке ```age``` в диапазоне от 18 до 30 лет включительно."
   ]
  },
  {
   "cell_type": "code",
   "execution_count": 200,
   "metadata": {
    "colab": {},
    "colab_type": "code",
    "id": "q2cC4Sxanka6"
   },
   "outputs": [
    {
     "data": {
      "text/plain": [
       "count    13205.000000\n",
       "mean        22.676638\n",
       "std          3.550254\n",
       "min         18.000000\n",
       "25%         20.000000\n",
       "50%         22.000000\n",
       "75%         25.000000\n",
       "max         30.000000\n",
       "Name: age, dtype: float64"
      ]
     },
     "execution_count": 200,
     "metadata": {},
     "output_type": "execute_result"
    }
   ],
   "source": [
    "# your code and output here\n",
    "df[(df.age >= 18) & (df.age <= 30)][\"age\"].describe()"
   ]
  },
  {
   "cell_type": "markdown",
   "metadata": {
    "colab_type": "text",
    "id": "CT99FXGjoGs1"
   },
   "source": [
    "5. Сколько в датасете положительных / отрицательных примеров?"
   ]
  },
  {
   "cell_type": "code",
   "execution_count": 201,
   "metadata": {
    "colab": {},
    "colab_type": "code",
    "id": "j-nelLWJoMpT"
   },
   "outputs": [
    {
     "data": {
      "text/plain": [
       "0    32021\n",
       "1    32018\n",
       "Name: label, dtype: int64"
      ]
     },
     "execution_count": 201,
     "metadata": {},
     "output_type": "execute_result"
    }
   ],
   "source": [
    "# your code and output here\n",
    "\n",
    "df[\"label\"].value_counts()"
   ]
  },
  {
   "cell_type": "markdown",
   "metadata": {
    "colab_type": "text",
    "id": "QHldQF5FoAyB"
   },
   "source": [
    "### Часть 2: Предобработка (3 балла)"
   ]
  },
  {
   "cell_type": "markdown",
   "metadata": {
    "colab_type": "text",
    "id": "Mc1d4G-q671X"
   },
   "source": [
    "1. Посчитайте количество предложений в каждом тексте. Сохраните эти значения в отдельной колонке датафрейма."
   ]
  },
  {
   "cell_type": "code",
   "execution_count": 202,
   "metadata": {
    "colab": {},
    "colab_type": "code",
    "id": "HTni9dHd-NMz"
   },
   "outputs": [],
   "source": [
    "# your code and output here"
   ]
  },
  {
   "cell_type": "code",
   "execution_count": 203,
   "metadata": {},
   "outputs": [],
   "source": [
    "from razdel import sentenize, tokenize"
   ]
  },
  {
   "cell_type": "code",
   "execution_count": 204,
   "metadata": {},
   "outputs": [],
   "source": [
    "df['sent_count'] = [len(list(sentenize(row['text']))) for index, row in df.iterrows()]"
   ]
  },
  {
   "cell_type": "code",
   "execution_count": 205,
   "metadata": {},
   "outputs": [
    {
     "data": {
      "text/html": [
       "<div>\n",
       "<style scoped>\n",
       "    .dataframe tbody tr th:only-of-type {\n",
       "        vertical-align: middle;\n",
       "    }\n",
       "\n",
       "    .dataframe tbody tr th {\n",
       "        vertical-align: top;\n",
       "    }\n",
       "\n",
       "    .dataframe thead th {\n",
       "        text-align: right;\n",
       "    }\n",
       "</style>\n",
       "<table border=\"1\" class=\"dataframe\">\n",
       "  <thead>\n",
       "    <tr style=\"text-align: right;\">\n",
       "      <th></th>\n",
       "      <th>text</th>\n",
       "      <th>label</th>\n",
       "      <th>age</th>\n",
       "      <th>sent_count</th>\n",
       "    </tr>\n",
       "  </thead>\n",
       "  <tbody>\n",
       "    <tr>\n",
       "      <th>0</th>\n",
       "      <td>Когда-то я был добрым романтиком, который стре...</td>\n",
       "      <td>1</td>\n",
       "      <td>32.0</td>\n",
       "      <td>15</td>\n",
       "    </tr>\n",
       "    <tr>\n",
       "      <th>1</th>\n",
       "      <td>Здраствуйте! Я каждый день просыпаюсь с мыслью...</td>\n",
       "      <td>1</td>\n",
       "      <td>28.0</td>\n",
       "      <td>6</td>\n",
       "    </tr>\n",
       "    <tr>\n",
       "      <th>2</th>\n",
       "      <td>У меня проблемы с девушкой. Каждую ссору я не ...</td>\n",
       "      <td>1</td>\n",
       "      <td>16.0</td>\n",
       "      <td>10</td>\n",
       "    </tr>\n",
       "    <tr>\n",
       "      <th>3</th>\n",
       "      <td>Вся моя жизнь это один сплошной ад, в котором ...</td>\n",
       "      <td>1</td>\n",
       "      <td>32.0</td>\n",
       "      <td>5</td>\n",
       "    </tr>\n",
       "    <tr>\n",
       "      <th>4</th>\n",
       "      <td>Я хочу уснуть и не проснуться.каждый день одно...</td>\n",
       "      <td>1</td>\n",
       "      <td>14.0</td>\n",
       "      <td>18</td>\n",
       "    </tr>\n",
       "  </tbody>\n",
       "</table>\n",
       "</div>"
      ],
      "text/plain": [
       "                                                text  label   age  sent_count\n",
       "0  Когда-то я был добрым романтиком, который стре...      1  32.0          15\n",
       "1  Здраствуйте! Я каждый день просыпаюсь с мыслью...      1  28.0           6\n",
       "2  У меня проблемы с девушкой. Каждую ссору я не ...      1  16.0          10\n",
       "3  Вся моя жизнь это один сплошной ад, в котором ...      1  32.0           5\n",
       "4  Я хочу уснуть и не проснуться.каждый день одно...      1  14.0          18"
      ]
     },
     "execution_count": 205,
     "metadata": {},
     "output_type": "execute_result"
    }
   ],
   "source": [
    "df.head()"
   ]
  },
  {
   "cell_type": "markdown",
   "metadata": {
    "colab_type": "text",
    "id": "NX7FxEafFTiy"
   },
   "source": [
    "2. Напишите функцию для токенизации текста. Удалите стоп-слова."
   ]
  },
  {
   "cell_type": "code",
   "execution_count": 210,
   "metadata": {
    "colab": {},
    "colab_type": "code",
    "id": "Y1S782xBFlIi"
   },
   "outputs": [],
   "source": [
    "# your code and output here"
   ]
  },
  {
   "cell_type": "code",
   "execution_count": 211,
   "metadata": {},
   "outputs": [],
   "source": [
    "import nltk\n",
    "from nltk.corpus import stopwords\n",
    "from string import punctuation"
   ]
  },
  {
   "cell_type": "code",
   "execution_count": 212,
   "metadata": {},
   "outputs": [
    {
     "name": "stdout",
     "output_type": "stream",
     "text": [
      "['и', 'в', 'во', 'не', 'что', 'он', 'на', 'я', 'с', 'со', 'как', 'а', 'то', 'все', 'она', 'так', 'его', 'но', 'да', 'ты', 'к', 'у', 'же', 'вы', 'за', 'бы', 'по', 'только', 'ее', 'мне', 'было', 'вот', 'от', 'меня', 'еще', 'нет', 'о', 'из', 'ему', 'теперь', 'когда', 'даже', 'ну', 'вдруг', 'ли', 'если', 'уже', 'или', 'ни', 'быть', 'был', 'него', 'до', 'вас', 'нибудь', 'опять', 'уж', 'вам', 'ведь', 'там', 'потом', 'себя', 'ничего', 'ей', 'может', 'они', 'тут', 'где', 'есть', 'надо', 'ней', 'для', 'мы', 'тебя', 'их', 'чем', 'была', 'сам', 'чтоб', 'без', 'будто', 'чего', 'раз', 'тоже', 'себе', 'под', 'будет', 'ж', 'тогда', 'кто', 'этот', 'того', 'потому', 'этого', 'какой', 'совсем', 'ним', 'здесь', 'этом', 'один', 'почти', 'мой', 'тем', 'чтобы', 'нее', 'сейчас', 'были', 'куда', 'зачем', 'всех', 'никогда', 'можно', 'при', 'наконец', 'два', 'об', 'другой', 'хоть', 'после', 'над', 'больше', 'тот', 'через', 'эти', 'нас', 'про', 'всего', 'них', 'какая', 'много', 'разве', 'три', 'эту', 'моя', 'впрочем', 'хорошо', 'свою', 'этой', 'перед', 'иногда', 'лучше', 'чуть', 'том', 'нельзя', 'такой', 'им', 'более', 'всегда', 'конечно', 'всю', 'между']\n"
     ]
    }
   ],
   "source": [
    "stop = stopwords.words(\"russian\")\n",
    "print(stop)"
   ]
  },
  {
   "cell_type": "markdown",
   "metadata": {},
   "source": [
    "Но сначала! Пункт 6 про стопслова (сразу расширим список стопслов)"
   ]
  },
  {
   "cell_type": "markdown",
   "metadata": {
    "colab_type": "text",
    "id": "d7VAjC4VHSyi"
   },
   "source": [
    "6. Какие слова мы можем добавить в список стоп-слов? Приведите примеры и объясните, почему."
   ]
  },
  {
   "cell_type": "markdown",
   "metadata": {
    "colab": {},
    "colab_type": "code",
    "id": "bElLevUU-x7m"
   },
   "source": [
    "Помимо отсутствующих в списке предлогов и местоимений имеет смысл избавляться от:\n",
    "\n",
    "1. Числительных. Они не несут высокой смысловой нагрузки в случае нашего деперссивного датасета. Правда, засовывать их в список стопслов затратно, лучше попробовать удалять слова с определенными POS-тегами\n",
    "2. Слов-пустышек, таких, как \"ну\", \"короче\", \"очень\"\n",
    "3. Стандартных приветствий - на \"приветик\", \"приветствую\" посмотреть было бы интересно, а вот на нейтральные \"привет\" и \"здравствуйте\" уже не очень\n",
    "4. Доменов сайтов и т.д."
   ]
  },
  {
   "cell_type": "code",
   "execution_count": 213,
   "metadata": {},
   "outputs": [],
   "source": [
    "own_stopwords = [\"я\", \"ты\", 'он', \"она\", \"оно\", \"мы\", \"вы\", \"они\", \"и\", \"или\", \"но\", \"а\", \"не\", \"кто\", \"что\",\n",
    "                          \"это\", \"этот\", \"эта\", \"эти\", \"этого\", \"этой\", \"этих\", \"этому\", \"этой\", \"этим\", \"этими\",\n",
    "                          \"тот\", \"та\", \"те\", \"того\", \"той\", \"тех\", \"тому\", \"той\", \"тем\", \"теми\",\n",
    "                          \"у\", \"к\", \"от\", \"о\", \"про\", \"без\", \"в\", \"с\", \"за\", \"около\", \"через\", \"перед\", \"под\",\n",
    "                          \"привет\", \"здравствуй\", \"здравствуйте\",\n",
    "                          \"vk\", \"http\", \"https\", \"ru\", \"com\", \"org\"]"
   ]
  },
  {
   "cell_type": "code",
   "execution_count": 214,
   "metadata": {},
   "outputs": [],
   "source": [
    "for stopword in own_stopwords:\n",
    "    if stopword not in stop:\n",
    "        stop.append(stopword)"
   ]
  },
  {
   "cell_type": "code",
   "execution_count": 215,
   "metadata": {},
   "outputs": [
    {
     "name": "stdout",
     "output_type": "stream",
     "text": [
      "['и', 'в', 'во', 'не', 'что', 'он', 'на', 'я', 'с', 'со', 'как', 'а', 'то', 'все', 'она', 'так', 'его', 'но', 'да', 'ты', 'к', 'у', 'же', 'вы', 'за', 'бы', 'по', 'только', 'ее', 'мне', 'было', 'вот', 'от', 'меня', 'еще', 'нет', 'о', 'из', 'ему', 'теперь', 'когда', 'даже', 'ну', 'вдруг', 'ли', 'если', 'уже', 'или', 'ни', 'быть', 'был', 'него', 'до', 'вас', 'нибудь', 'опять', 'уж', 'вам', 'ведь', 'там', 'потом', 'себя', 'ничего', 'ей', 'может', 'они', 'тут', 'где', 'есть', 'надо', 'ней', 'для', 'мы', 'тебя', 'их', 'чем', 'была', 'сам', 'чтоб', 'без', 'будто', 'чего', 'раз', 'тоже', 'себе', 'под', 'будет', 'ж', 'тогда', 'кто', 'этот', 'того', 'потому', 'этого', 'какой', 'совсем', 'ним', 'здесь', 'этом', 'один', 'почти', 'мой', 'тем', 'чтобы', 'нее', 'сейчас', 'были', 'куда', 'зачем', 'всех', 'никогда', 'можно', 'при', 'наконец', 'два', 'об', 'другой', 'хоть', 'после', 'над', 'больше', 'тот', 'через', 'эти', 'нас', 'про', 'всего', 'них', 'какая', 'много', 'разве', 'три', 'эту', 'моя', 'впрочем', 'хорошо', 'свою', 'этой', 'перед', 'иногда', 'лучше', 'чуть', 'том', 'нельзя', 'такой', 'им', 'более', 'всегда', 'конечно', 'всю', 'между', 'оно', 'это', 'эта', 'этих', 'этому', 'этим', 'этими', 'та', 'те', 'той', 'тех', 'тому', 'теми', 'около', 'привет', 'здравствуй', 'здравствуйте', 'vk', 'http', 'https', 'ru', 'com', 'org']\n"
     ]
    }
   ],
   "source": [
    "print(stop)"
   ]
  },
  {
   "cell_type": "markdown",
   "metadata": {},
   "source": [
    "Возвращаемся к пункту 2"
   ]
  },
  {
   "cell_type": "code",
   "execution_count": 216,
   "metadata": {},
   "outputs": [],
   "source": [
    "def tokenization(text):\n",
    "    tokens = list(tokenize(text))\n",
    "    return [token.text.lower() for token in tokens if token.text.lower() not in stop \n",
    "                                                   and token.text.lower() not in punctuation\n",
    "                                                   and len(token.text) > 1]"
   ]
  },
  {
   "cell_type": "markdown",
   "metadata": {
    "colab_type": "text",
    "id": "HVq8if4s8q_1"
   },
   "source": [
    "3. Посчитайте количество токенов в тексте (без стоп-слов). Найдите среднее этих значений как по всей выборке, так и внутри каждого класса. "
   ]
  },
  {
   "cell_type": "code",
   "execution_count": 217,
   "metadata": {
    "colab": {},
    "colab_type": "code",
    "id": "rP8_BV3I-RPE"
   },
   "outputs": [],
   "source": [
    "# your code and output here"
   ]
  },
  {
   "cell_type": "code",
   "execution_count": 218,
   "metadata": {},
   "outputs": [],
   "source": [
    "token_num = []\n",
    "for index, row in df.iterrows():\n",
    "    token_num.append(len(tokenization(row['text'])))\n",
    "df['token_num'] = token_num"
   ]
  },
  {
   "cell_type": "code",
   "execution_count": 219,
   "metadata": {},
   "outputs": [],
   "source": [
    "tokens_mean = df['token_num'].mean()\n",
    "tokens_pos_mean = df[df.label == 0]['token_num'].mean()\n",
    "token_neg_mean = df[df.label == 1]['token_num'].mean()"
   ]
  },
  {
   "cell_type": "code",
   "execution_count": 225,
   "metadata": {},
   "outputs": [
    {
     "name": "stdout",
     "output_type": "stream",
     "text": [
      "Среднее количество токенов: 105.359047\n",
      "Среднее количество позитивных токенов: 140.588239\n",
      "Среднее количество депрессивных токенов: 70.126554\n"
     ]
    }
   ],
   "source": [
    "print('Среднее количество токенов: %f' % tokens_mean)\n",
    "print('Среднее количество позитивных токенов: %f' % tokens_pos_mean)\n",
    "print('Среднее количество депрессивных токенов: %f' % token_neg_mean)"
   ]
  },
  {
   "cell_type": "markdown",
   "metadata": {
    "colab_type": "text",
    "id": "xXsyP9NHG-gO"
   },
   "source": [
    "4. Напишите функцию, которая переводит текст в последовательность лемм."
   ]
  },
  {
   "cell_type": "code",
   "execution_count": 221,
   "metadata": {
    "colab": {},
    "colab_type": "code",
    "id": "n1o_Rh2iHDmH"
   },
   "outputs": [],
   "source": [
    "# your code and output here"
   ]
  },
  {
   "cell_type": "code",
   "execution_count": 222,
   "metadata": {},
   "outputs": [],
   "source": [
    "import pymorphy2\n",
    "morph = pymorphy2.MorphAnalyzer()"
   ]
  },
  {
   "cell_type": "code",
   "execution_count": 223,
   "metadata": {},
   "outputs": [],
   "source": [
    "def lemmatization(text):\n",
    "    tokens = tokenization(text)\n",
    "    lemmas = [morph.parse(word)[0].normal_form for word in tokens]\n",
    "    return lemmas\n",
    "    #return ' '.join(lemmas)"
   ]
  },
  {
   "cell_type": "code",
   "execution_count": 224,
   "metadata": {},
   "outputs": [
    {
     "data": {
      "text/plain": [
       "['когда-то',\n",
       " 'добрый',\n",
       " 'романтик',\n",
       " 'который',\n",
       " 'стремиться',\n",
       " 'помочь',\n",
       " 'весь',\n",
       " 'попросить',\n",
       " 'жалко',\n",
       " 'верить',\n",
       " 'человечность',\n",
       " 'однако',\n",
       " 'фальший',\n",
       " 'суррогатный',\n",
       " 'дружба',\n",
       " 'какой-то',\n",
       " 'непонятный',\n",
       " 'отношение',\n",
       " 'девушка',\n",
       " 'который',\n",
       " 'клясться',\n",
       " 'любить',\n",
       " 'итог',\n",
       " 'изменить',\n",
       " 'уйти',\n",
       " 'другой',\n",
       " 'появиться',\n",
       " 'бесперспективный',\n",
       " 'попросту',\n",
       " 'достаточный',\n",
       " 'достаток',\n",
       " 'собственный',\n",
       " 'жильё',\n",
       " 'родитель',\n",
       " 'шизофрения',\n",
       " '20.2',\n",
       " 'никто',\n",
       " 'поддерживать',\n",
       " 'поддерживать',\n",
       " 'итак',\n",
       " 'отдавать',\n",
       " 'кусочек',\n",
       " 'каждый',\n",
       " 'потерять',\n",
       " 'свой',\n",
       " 'душевный',\n",
       " 'тепло',\n",
       " 'стать',\n",
       " 'безразличный',\n",
       " 'апатия',\n",
       " 'бывший',\n",
       " 'девушка',\n",
       " 'всякий',\n",
       " 'усилие',\n",
       " 'найти',\n",
       " 'новое',\n",
       " 'который',\n",
       " 'сразу',\n",
       " 'жениться',\n",
       " 'возить',\n",
       " 'разный',\n",
       " 'страна',\n",
       " 'мир',\n",
       " 'браться',\n",
       " 'любой',\n",
       " 'работа',\n",
       " 'показать',\n",
       " 'худой',\n",
       " 'часто',\n",
       " 'обманывать',\n",
       " 'недоплачивать',\n",
       " 'оплачивать',\n",
       " 'вовсе',\n",
       " 'простой',\n",
       " 'неудачник',\n",
       " 'который',\n",
       " 'потерять',\n",
       " 'смысл',\n",
       " 'жизнь',\n",
       " 'мой',\n",
       " 'ситуация',\n",
       " 'спасать',\n",
       " 'внешность',\n",
       " 'ужасный',\n",
       " 'попросту',\n",
       " 'урод',\n",
       " 'часто',\n",
       " 'завидовать',\n",
       " 'кома',\n",
       " 'повезти',\n",
       " 'внешность',\n",
       " 'любить',\n",
       " 'даваться',\n",
       " 'легко',\n",
       " 'заниматься',\n",
       " 'свой',\n",
       " 'любимый',\n",
       " 'дело',\n",
       " 'часто',\n",
       " 'посещать',\n",
       " 'мысль',\n",
       " 'никто',\n",
       " 'также',\n",
       " 'тщетно',\n",
       " 'бессмысленно',\n",
       " 'сказываться',\n",
       " 'пустота',\n",
       " 'внутри',\n",
       " 'часто',\n",
       " 'удивлять',\n",
       " 'многий',\n",
       " 'повезти',\n",
       " 'складываться',\n",
       " 'почему',\n",
       " 'складываться',\n",
       " 'почему',\n",
       " 'выходить',\n",
       " 'как-то',\n",
       " 'потерять',\n",
       " 'документ',\n",
       " 'мой',\n",
       " 'заплатить',\n",
       " 'именно',\n",
       " 'именно',\n",
       " 'мой',\n",
       " 'место',\n",
       " 'закрытый',\n",
       " 'именно',\n",
       " 'использовать',\n",
       " 'бросать',\n",
       " 'именно',\n",
       " 'такой',\n",
       " 'родитель',\n",
       " 'хотеться',\n",
       " 'окружающий',\n",
       " 'оказаться',\n",
       " 'мыть',\n",
       " 'место',\n",
       " 'прочувствовать',\n",
       " 'понять',\n",
       " 'каков',\n",
       " 'глубокий',\n",
       " 'просто',\n",
       " 'хотеть',\n",
       " 'прекратить',\n",
       " 'просто',\n",
       " 'прервать',\n",
       " 'свой',\n",
       " 'существование']"
      ]
     },
     "execution_count": 224,
     "metadata": {},
     "output_type": "execute_result"
    }
   ],
   "source": [
    "lemmatization(df[\"text\"][0])"
   ]
  },
  {
   "cell_type": "markdown",
   "metadata": {
    "colab_type": "text",
    "id": "D5kyEWTZ98r3"
   },
   "source": [
    "5. Напишите функцию, которая переводит текст в последовательность частеречных тегов."
   ]
  },
  {
   "cell_type": "code",
   "execution_count": 226,
   "metadata": {
    "colab": {},
    "colab_type": "code",
    "id": "83EABAwH756M"
   },
   "outputs": [],
   "source": [
    "# your code and output here"
   ]
  },
  {
   "cell_type": "code",
   "execution_count": 229,
   "metadata": {},
   "outputs": [],
   "source": [
    "def posTagger(text):\n",
    "    tokens = tokenization(text)\n",
    "    pos_tags = [morph.parse(word)[0].tag.POS for word in tokens]\n",
    "    return pos_tags"
   ]
  },
  {
   "cell_type": "code",
   "execution_count": 230,
   "metadata": {},
   "outputs": [
    {
     "data": {
      "text/plain": [
       "['ADVB',\n",
       " 'ADJF',\n",
       " 'NOUN',\n",
       " 'ADJF',\n",
       " 'VERB',\n",
       " 'INFN',\n",
       " 'ADJF',\n",
       " 'VERB',\n",
       " 'ADVB',\n",
       " 'VERB',\n",
       " 'NOUN',\n",
       " 'CONJ',\n",
       " 'ADJF',\n",
       " 'ADJF',\n",
       " 'NOUN',\n",
       " 'ADJF',\n",
       " 'ADJF',\n",
       " 'NOUN',\n",
       " 'NOUN',\n",
       " 'ADJF',\n",
       " 'VERB',\n",
       " 'VERB',\n",
       " 'NOUN',\n",
       " 'VERB',\n",
       " 'VERB',\n",
       " 'ADJF',\n",
       " 'VERB',\n",
       " 'ADJF',\n",
       " 'ADVB',\n",
       " 'ADJF',\n",
       " 'NOUN',\n",
       " 'ADJF',\n",
       " 'NOUN',\n",
       " 'NOUN',\n",
       " 'NOUN',\n",
       " None,\n",
       " 'NPRO',\n",
       " 'VERB',\n",
       " 'VERB',\n",
       " 'CONJ',\n",
       " 'GRND',\n",
       " 'NOUN',\n",
       " 'ADJF',\n",
       " 'VERB',\n",
       " 'ADJF',\n",
       " 'ADJF',\n",
       " 'ADVB',\n",
       " 'VERB',\n",
       " 'ADJS',\n",
       " 'NOUN',\n",
       " 'ADJF',\n",
       " 'NOUN',\n",
       " 'ADJF',\n",
       " 'NOUN',\n",
       " 'VERB',\n",
       " 'NOUN',\n",
       " 'ADJF',\n",
       " 'ADVB',\n",
       " 'VERB',\n",
       " 'VERB',\n",
       " 'ADJF',\n",
       " 'NOUN',\n",
       " 'NOUN',\n",
       " 'VERB',\n",
       " 'ADJF',\n",
       " 'NOUN',\n",
       " 'INFN',\n",
       " 'COMP',\n",
       " 'ADVB',\n",
       " 'VERB',\n",
       " 'VERB',\n",
       " 'VERB',\n",
       " 'ADVB',\n",
       " 'NOUN',\n",
       " 'NOUN',\n",
       " 'ADJF',\n",
       " 'VERB',\n",
       " 'NOUN',\n",
       " 'NOUN',\n",
       " 'ADJF',\n",
       " 'NOUN',\n",
       " 'VERB',\n",
       " 'NOUN',\n",
       " 'ADJF',\n",
       " 'ADVB',\n",
       " 'NOUN',\n",
       " 'ADVB',\n",
       " 'VERB',\n",
       " 'NOUN',\n",
       " 'VERB',\n",
       " 'NOUN',\n",
       " 'VERB',\n",
       " 'VERB',\n",
       " 'ADVB',\n",
       " 'VERB',\n",
       " 'ADJF',\n",
       " 'ADJF',\n",
       " 'NOUN',\n",
       " 'ADVB',\n",
       " 'VERB',\n",
       " 'NOUN',\n",
       " 'NPRO',\n",
       " 'CONJ',\n",
       " 'ADVB',\n",
       " 'ADVB',\n",
       " 'VERB',\n",
       " 'NOUN',\n",
       " 'PREP',\n",
       " 'ADVB',\n",
       " 'VERB',\n",
       " 'ADJF',\n",
       " 'VERB',\n",
       " 'VERB',\n",
       " 'ADVB',\n",
       " 'VERB',\n",
       " 'ADVB',\n",
       " 'VERB',\n",
       " 'ADVB',\n",
       " 'VERB',\n",
       " 'NOUN',\n",
       " 'ADJF',\n",
       " 'VERB',\n",
       " 'PRCL',\n",
       " 'PRCL',\n",
       " 'ADJF',\n",
       " 'NOUN',\n",
       " 'ADJS',\n",
       " 'PRCL',\n",
       " 'VERB',\n",
       " 'VERB',\n",
       " 'PRCL',\n",
       " 'ADJF',\n",
       " 'NOUN',\n",
       " 'VERB',\n",
       " 'ADJF',\n",
       " 'VERB',\n",
       " 'VERB',\n",
       " 'NOUN',\n",
       " 'VERB',\n",
       " 'VERB',\n",
       " 'ADJS',\n",
       " 'COMP',\n",
       " 'PRCL',\n",
       " 'VERB',\n",
       " 'INFN',\n",
       " 'PRCL',\n",
       " 'INFN',\n",
       " 'ADJF',\n",
       " 'NOUN']"
      ]
     },
     "execution_count": 230,
     "metadata": {},
     "output_type": "execute_result"
    }
   ],
   "source": [
    "posTagger(df[\"text\"][0])"
   ]
  },
  {
   "cell_type": "markdown",
   "metadata": {
    "colab_type": "text",
    "id": "vcLlYOZfIWRX"
   },
   "source": [
    "### Часть 3: Визуализация (1 балл)"
   ]
  },
  {
   "cell_type": "markdown",
   "metadata": {
    "colab_type": "text",
    "id": "b9s_mHYIoOjg"
   },
   "source": [
    "1. Визуализируйте распределение количество предложений / текст."
   ]
  },
  {
   "cell_type": "code",
   "execution_count": null,
   "metadata": {
    "colab": {},
    "colab_type": "code",
    "id": "CUgLhfWoIvKa"
   },
   "outputs": [],
   "source": [
    "# your code and output here"
   ]
  },
  {
   "cell_type": "code",
   "execution_count": 231,
   "metadata": {},
   "outputs": [],
   "source": [
    "import matplotlib.pyplot as plt\n",
    "import seaborn as sns\n",
    "\n",
    "from collections import Counter"
   ]
  },
  {
   "cell_type": "code",
   "execution_count": 232,
   "metadata": {},
   "outputs": [],
   "source": [
    "sentence_text = Counter()\n",
    "for index, row in df.iterrows():\n",
    "    sentence_text[row['sent_count']] += 1"
   ]
  },
  {
   "cell_type": "code",
   "execution_count": 233,
   "metadata": {},
   "outputs": [
    {
     "data": {
      "image/png": "[encoded data removed]",
      "text/plain": [
       "<Figure size 432x288 with 1 Axes>"
      ]
     },
     "metadata": {
      "needs_background": "light"
     },
     "output_type": "display_data"
    }
   ],
   "source": [
    "x = []\n",
    "y = []\n",
    "for i in sentence_text.most_common():\n",
    "    x.append(i[0])\n",
    "    y.append(i[1])\n",
    "plt.plot(x,y)\n",
    "plt.show()"
   ]
  },
  {
   "cell_type": "markdown",
   "metadata": {
    "colab_type": "text",
    "id": "PzPsrj36KJ7n"
   },
   "source": [
    "2. Визуализируйте распределение количество-предложений / текст внутри каждого класса."
   ]
  },
  {
   "cell_type": "code",
   "execution_count": 234,
   "metadata": {
    "colab": {},
    "colab_type": "code",
    "id": "z7R5719eV2Me"
   },
   "outputs": [],
   "source": [
    "# your code and output here"
   ]
  },
  {
   "cell_type": "code",
   "execution_count": 235,
   "metadata": {},
   "outputs": [],
   "source": [
    "sentence_text_neg = Counter()\n",
    "sentence_text_pos = Counter()\n",
    "for index, row in df.iterrows():\n",
    "    if row['label'] == 1:\n",
    "        sentence_text_neg[row['sent_count']] += 1\n",
    "    else:\n",
    "        sentence_text_pos[row['sent_count']] += 1"
   ]
  },
  {
   "cell_type": "markdown",
   "metadata": {},
   "source": [
    "# Позитивные"
   ]
  },
  {
   "cell_type": "code",
   "execution_count": 236,
   "metadata": {},
   "outputs": [
    {
     "data": {
      "image/png": "[encoded data removed]",
      "text/plain": [
       "<Figure size 432x288 with 1 Axes>"
      ]
     },
     "metadata": {
      "needs_background": "light"
     },
     "output_type": "display_data"
    }
   ],
   "source": [
    "x = []\n",
    "y = []\n",
    "for i in sentence_text_pos.most_common():\n",
    "    x.append(i[0])\n",
    "    y.append(i[1])\n",
    "plt.plot(x,y)\n",
    "plt.show()"
   ]
  },
  {
   "cell_type": "markdown",
   "metadata": {},
   "source": [
    "# Депрессивные"
   ]
  },
  {
   "cell_type": "code",
   "execution_count": 237,
   "metadata": {},
   "outputs": [
    {
     "data": {
      "image/png": "[encoded data removed]",
      "text/plain": [
       "<Figure size 432x288 with 1 Axes>"
      ]
     },
     "metadata": {
      "needs_background": "light"
     },
     "output_type": "display_data"
    }
   ],
   "source": [
    "x = []\n",
    "y = []\n",
    "for i in sentence_text_neg.most_common():\n",
    "    x.append(i[0])\n",
    "    y.append(i[1])\n",
    "plt.plot(x,y)\n",
    "plt.show()"
   ]
  },
  {
   "cell_type": "markdown",
   "metadata": {
    "colab_type": "text",
    "id": "5zGMiWUBQKRi"
   },
   "source": [
    "3. Верно ли, что количество предложений в тексте коррелирует с возрастом автора в подвыборке от 16 до 32 лет включительно? Если да, какая это корреляция – положительная или отрицательная? Визуализируйте матрицу корреляции."
   ]
  },
  {
   "cell_type": "code",
   "execution_count": 238,
   "metadata": {
    "colab": {},
    "colab_type": "code",
    "id": "qAeNmcoqQi5x"
   },
   "outputs": [],
   "source": [
    "# your code and output here"
   ]
  },
  {
   "cell_type": "code",
   "execution_count": 239,
   "metadata": {},
   "outputs": [],
   "source": [
    "import seaborn as sn"
   ]
  },
  {
   "cell_type": "code",
   "execution_count": 240,
   "metadata": {},
   "outputs": [],
   "source": [
    "age_filter = df[(df.age >= 16) & (df.age <= 32)]"
   ]
  },
  {
   "cell_type": "code",
   "execution_count": 241,
   "metadata": {},
   "outputs": [
    {
     "data": {
      "image/png": "[encoded data removed]",
      "text/plain": [
       "<Figure size 432x288 with 2 Axes>"
      ]
     },
     "metadata": {
      "needs_background": "light"
     },
     "output_type": "display_data"
    }
   ],
   "source": [
    "correlation = age_filter.corr()\n",
    "sn.heatmap(correlation, annot=True)\n",
    "plt.show()\n"
   ]
  },
  {
   "cell_type": "markdown",
   "metadata": {},
   "source": [
    "По графику видно, что корреляция кол-ва предложений и возраста автора положительная."
   ]
  },
  {
   "cell_type": "markdown",
   "metadata": {
    "colab_type": "text",
    "id": "nBpo_1O5Ld7H"
   },
   "source": [
    "### Часть 4: Извлечение текстовых признаков (4 балла)"
   ]
  },
  {
   "cell_type": "markdown",
   "metadata": {
    "colab_type": "text",
    "id": "oqZUzenfL2sF"
   },
   "source": [
    "1. Самостоятельно реализуйте функцию для получения посимвольных н-грамм (без использования библиотек)."
   ]
  },
  {
   "cell_type": "code",
   "execution_count": 242,
   "metadata": {
    "colab": {},
    "colab_type": "code",
    "id": "UOOp61e1MCU-"
   },
   "outputs": [],
   "source": [
    "# your code and output here\n",
    "\n",
    "def char_ngrams(text, n):\n",
    "    return [text[i:i + n] for i in range(0, len(text) - n + 1)]"
   ]
  },
  {
   "cell_type": "code",
   "execution_count": 243,
   "metadata": {
    "colab": {
     "base_uri": "https://localhost:8080/",
     "height": 34
    },
    "colab_type": "code",
    "id": "LctAR2cEMV0s",
    "outputId": "583c32a5-4efd-4686-97e9-b266350c0af5"
   },
   "outputs": [
    {
     "data": {
      "text/plain": [
       "['уст', 'ста', 'тав', 'авш', 'вша', 'шая', 'ая ', 'я м', ' ма', 'мам']"
      ]
     },
     "execution_count": 243,
     "metadata": {},
     "output_type": "execute_result"
    }
   ],
   "source": [
    "# пример работы функции\n",
    "\n",
    "text = \"уставшая мама мыла грязную раму\"\n",
    "\n",
    "char_ngrams(text, n=3)[:10]"
   ]
  },
  {
   "cell_type": "markdown",
   "metadata": {
    "colab_type": "text",
    "id": "CnPgflCeNsZA"
   },
   "source": [
    "2. Самостоятельно реализуйте функцию для получения пословных н-грамм (без использования библиотек)."
   ]
  },
  {
   "cell_type": "code",
   "execution_count": 244,
   "metadata": {
    "colab": {},
    "colab_type": "code",
    "id": "fX_6RyMFOGL2"
   },
   "outputs": [],
   "source": [
    "# your code and output here\n",
    "def word_ngrams(text, n):\n",
    "    tokens = tokenization(text)\n",
    "    return char_ngrams(tokens, n)"
   ]
  },
  {
   "cell_type": "code",
   "execution_count": 245,
   "metadata": {
    "colab": {
     "base_uri": "https://localhost:8080/",
     "height": 70
    },
    "colab_type": "code",
    "id": "7b-XHdadOVm5",
    "outputId": "ff2948c6-a5f4-4288-d018-f14b8a8b7666"
   },
   "outputs": [
    {
     "data": {
      "text/plain": [
       "[['уставшая', 'мама', 'мыла'],\n",
       " ['мама', 'мыла', 'грязную'],\n",
       " ['мыла', 'грязную', 'раму']]"
      ]
     },
     "execution_count": 245,
     "metadata": {},
     "output_type": "execute_result"
    }
   ],
   "source": [
    "# пример работы функции\n",
    "\n",
    "word_ngrams(text, n=3)"
   ]
  },
  {
   "cell_type": "code",
   "execution_count": 246,
   "metadata": {
    "colab": {
     "base_uri": "https://localhost:8080/",
     "height": 34
    },
    "colab_type": "code",
    "id": "anLUGeXROekT",
    "outputId": "ed3a30af-d19e-48c5-abe6-4605ef6dcca6"
   },
   "outputs": [
    {
     "data": {
      "text/plain": [
       "[['уставшая', 'мама', 'мыла', 'грязную'], ['мама', 'мыла', 'грязную', 'раму']]"
      ]
     },
     "execution_count": 246,
     "metadata": {},
     "output_type": "execute_result"
    }
   ],
   "source": [
    "word_ngrams(text, n=4)"
   ]
  },
  {
   "cell_type": "markdown",
   "metadata": {
    "colab_type": "text",
    "id": "zU4PJTZVOvcQ"
   },
   "source": [
    "3. Самостоятельно реализуйте функцию для получения н-грамм лемм (без использования библиотек)."
   ]
  },
  {
   "cell_type": "code",
   "execution_count": 247,
   "metadata": {
    "colab": {},
    "colab_type": "code",
    "id": "dgWG3NdLO0JF"
   },
   "outputs": [],
   "source": [
    "# your code and output here\n",
    "def lemma_ngrams(text, n):\n",
    "    lemmas = lemmatization(text)\n",
    "    return char_ngrams(lemmas, n)"
   ]
  },
  {
   "cell_type": "code",
   "execution_count": 248,
   "metadata": {
    "colab": {
     "base_uri": "https://localhost:8080/",
     "height": 70
    },
    "colab_type": "code",
    "id": "BfER14VDO8I3",
    "outputId": "97d6a053-3376-47e2-9489-ca9fd612140b"
   },
   "outputs": [
    {
     "data": {
      "text/plain": [
       "[['устать', 'мама', 'мыло'],\n",
       " ['мама', 'мыло', 'грязный'],\n",
       " ['мыло', 'грязный', 'рам']]"
      ]
     },
     "execution_count": 248,
     "metadata": {},
     "output_type": "execute_result"
    }
   ],
   "source": [
    "# пример работы функции\n",
    "\n",
    "lemma_ngrams(text, n=3)"
   ]
  },
  {
   "cell_type": "code",
   "execution_count": 249,
   "metadata": {
    "colab": {
     "base_uri": "https://localhost:8080/",
     "height": 52
    },
    "colab_type": "code",
    "id": "k1XmkQ_rO_p1",
    "outputId": "99a26cb6-ca99-427c-ddc4-c901e3f184a1"
   },
   "outputs": [
    {
     "data": {
      "text/plain": [
       "[['устать', 'мама', 'мыло', 'грязный'], ['мама', 'мыло', 'грязный', 'рам']]"
      ]
     },
     "execution_count": 249,
     "metadata": {},
     "output_type": "execute_result"
    }
   ],
   "source": [
    "lemma_ngrams(text, n=4)"
   ]
  },
  {
   "cell_type": "markdown",
   "metadata": {
    "colab_type": "text",
    "id": "LHUo6LdLOblj"
   },
   "source": [
    "4. Самостоятельно реализуйте функцию для получения н-грамм частеречных тегов (без использования библиотек)."
   ]
  },
  {
   "cell_type": "code",
   "execution_count": 250,
   "metadata": {
    "colab": {},
    "colab_type": "code",
    "id": "YlPDRUCcOoCX"
   },
   "outputs": [],
   "source": [
    "# your code and output here\n",
    "def pos_ngrams(text, n):\n",
    "    pos_tags = posTagger(text)\n",
    "    return char_ngrams(pos_tags, n)"
   ]
  },
  {
   "cell_type": "code",
   "execution_count": 251,
   "metadata": {
    "colab": {
     "base_uri": "https://localhost:8080/",
     "height": 34
    },
    "colab_type": "code",
    "id": "a4kQmEqiPHPv",
    "outputId": "ede469bd-8410-4c03-f361-42887601fc9f"
   },
   "outputs": [
    {
     "data": {
      "text/plain": [
       "[['PRTF', 'NOUN', 'NOUN'], ['NOUN', 'NOUN', 'ADJF'], ['NOUN', 'ADJF', 'NOUN']]"
      ]
     },
     "execution_count": 251,
     "metadata": {},
     "output_type": "execute_result"
    }
   ],
   "source": [
    "# пример работы функции\n",
    "\n",
    "pos_ngrams(text, n=3)"
   ]
  },
  {
   "cell_type": "code",
   "execution_count": 252,
   "metadata": {
    "colab": {
     "base_uri": "https://localhost:8080/",
     "height": 34
    },
    "colab_type": "code",
    "id": "iBh5fRbOPKsn",
    "outputId": "e4fdb66d-2f6e-4558-9072-7536adea29b2"
   },
   "outputs": [
    {
     "data": {
      "text/plain": [
       "[['PRTF', 'NOUN', 'NOUN', 'ADJF'], ['NOUN', 'NOUN', 'ADJF', 'NOUN']]"
      ]
     },
     "execution_count": 252,
     "metadata": {},
     "output_type": "execute_result"
    }
   ],
   "source": [
    "pos_ngrams(text, n=4)"
   ]
  },
  {
   "cell_type": "markdown",
   "metadata": {
    "colab_type": "text",
    "id": "ZnUBQ6hLPNb3"
   },
   "source": [
    "5. Самостоятельно реализуйте функцию для получения частотного словаря частеречных тегов по коллекции документов."
   ]
  },
  {
   "cell_type": "code",
   "execution_count": 253,
   "metadata": {
    "colab": {},
    "colab_type": "code",
    "id": "P69DZahVPctr"
   },
   "outputs": [],
   "source": [
    "# your code and output here\n",
    "\n",
    "def build_pos_dict(corpus):\n",
    "    freq_dict = {}\n",
    "    for text in corpus:\n",
    "        tags = posTagger(text)\n",
    "        for t in tags:\n",
    "            if t not in freq_dict:\n",
    "                freq_dict[t] = 1\n",
    "            else:\n",
    "                freq_dict[t] += 1\n",
    "    return freq_dict"
   ]
  },
  {
   "cell_type": "code",
   "execution_count": 254,
   "metadata": {
    "colab": {
     "base_uri": "https://localhost:8080/",
     "height": 34
    },
    "colab_type": "code",
    "id": "7ZLFo264Pa4b",
    "outputId": "e43a31d5-f4ec-4468-8ad2-c892cfa4c662"
   },
   "outputs": [
    {
     "data": {
      "text/plain": [
       "{'NOUN': 7, 'PRTF': 1, 'ADJF': 2, 'VERB': 1}"
      ]
     },
     "execution_count": 254,
     "metadata": {},
     "output_type": "execute_result"
    }
   ],
   "source": [
    "# пример работы функции\n",
    "\n",
    "corpus = [\n",
    "    \"мама мыла уставшую раму\",\n",
    "    \"высшая школа экономики\",\n",
    "    \"компьютерная лингвистика\",\n",
    "    \"осень наступила\"\n",
    "]\n",
    "\n",
    "build_pos_dict(corpus)"
   ]
  },
  {
   "cell_type": "markdown",
   "metadata": {
    "colab_type": "text",
    "id": "yb_mcJ8sSr3-"
   },
   "source": [
    "6. Постройте частотный словарь лемм по текстам внутри каждого класса. Найдите топ-15 лемм для текстов каждого класса. Есть ли между этими списками пересечение? Если да, сколько лемм пересекается?"
   ]
  },
  {
   "cell_type": "code",
   "execution_count": 255,
   "metadata": {
    "colab": {},
    "colab_type": "code",
    "id": "nP6_MZbHTLtf"
   },
   "outputs": [],
   "source": [
    "# your code and output here"
   ]
  },
  {
   "cell_type": "code",
   "execution_count": 256,
   "metadata": {},
   "outputs": [],
   "source": [
    "pos = df[(df['label'] == 0)]\n",
    "neg = df[(df['label'] == 1)]"
   ]
  },
  {
   "cell_type": "code",
   "execution_count": 261,
   "metadata": {},
   "outputs": [],
   "source": [
    "def build_lemm_dict(corpus):\n",
    "    lemmas_dict = {}\n",
    "    for index, row in corpus.iterrows():\n",
    "        lemmas = lemmatization(row['text'])\n",
    "        for lemma in lemmas:\n",
    "            if lemma in lemmas_dict.keys():\n",
    "                lemmas_dict[lemma] += 1\n",
    "            else:\n",
    "                lemmas_dict[lemma] = 1\n",
    "    return lemmas_dict"
   ]
  },
  {
   "cell_type": "code",
   "execution_count": 262,
   "metadata": {},
   "outputs": [],
   "source": [
    "pos_lemmas = build_lemm_dict(pos)\n",
    "neg_lemmas = build_lemm_dict(neg)"
   ]
  },
  {
   "cell_type": "code",
   "execution_count": 263,
   "metadata": {},
   "outputs": [],
   "source": [
    "neg_lemmas_sorted = {k: v for k, v in sorted(neg_lemmas.items(), key=lambda item: item[1])}"
   ]
  },
  {
   "cell_type": "code",
   "execution_count": 264,
   "metadata": {},
   "outputs": [],
   "source": [
    "pos_lemmas_sorted = sorted(pos_lemmas.items(), key=lambda x: x[1], reverse=True)\n",
    "neg_lemmas_sorted = sorted(neg_lemmas.items(), key=lambda x: x[1], reverse=True)"
   ]
  },
  {
   "cell_type": "code",
   "execution_count": 265,
   "metadata": {},
   "outputs": [
    {
     "data": {
      "text/plain": [
       "[('год', 43876),\n",
       " ('который', 26291),\n",
       " ('один', 17556),\n",
       " ('проект', 16652),\n",
       " ('свой', 15479),\n",
       " ('наш', 15433),\n",
       " ('город', 14453),\n",
       " ('работа', 14257),\n",
       " ('день', 14107),\n",
       " ('апрель', 14053),\n",
       " ('также', 13713),\n",
       " ('россия', 13418),\n",
       " ('область', 13396),\n",
       " ('компания', 12001),\n",
       " ('человек', 11211)]"
      ]
     },
     "execution_count": 265,
     "metadata": {},
     "output_type": "execute_result"
    }
   ],
   "source": [
    "pos_lemmas_sorted[:15]"
   ]
  },
  {
   "cell_type": "code",
   "execution_count": 266,
   "metadata": {},
   "outputs": [
    {
     "data": {
      "text/plain": [
       "[('...', 31848),\n",
       " ('год', 28450),\n",
       " ('жить', 25568),\n",
       " ('хотеть', 24525),\n",
       " ('жизнь', 24254),\n",
       " ('мочь', 21324),\n",
       " ('человек', 19236),\n",
       " ('весь', 18923),\n",
       " ('очень', 18423),\n",
       " ('мой', 17515),\n",
       " ('просто', 16200),\n",
       " ('знать', 15877),\n",
       " ('который', 14926),\n",
       " ('свой', 14614),\n",
       " ('..', 13568)]"
      ]
     },
     "execution_count": 266,
     "metadata": {},
     "output_type": "execute_result"
    }
   ],
   "source": [
    "neg_lemmas_sorted[:15]"
   ]
  },
  {
   "cell_type": "markdown",
   "metadata": {},
   "source": [
    "Пересечения есть - это леммы \"год\", \"который\", \"свой\", \"человек\". И теперь стало очень интересно, что же такого позитивного люди находят в апреле... :))"
   ]
  },
  {
   "cell_type": "markdown",
   "metadata": {
    "colab_type": "text",
    "id": "AqfZJ4csRSxZ"
   },
   "source": [
    "7. Какие текстовые признаки могли бы быть полезными для решения задачи классификации на этих данных? Приведите примеры и перечислите ресурсы, которые вы бы использовали для конструирования этих признаков."
   ]
  },
  {
   "cell_type": "markdown",
   "metadata": {
    "colab": {},
    "colab_type": "code",
    "id": "4T5Rdx1HRjWX"
   },
   "source": [
    "# Ответ"
   ]
  },
  {
   "cell_type": "markdown",
   "metadata": {},
   "source": [
    "Во-первых, можно посмотреть на именованные сущности, в частности, города (они извлекаются с помощью natasha). В каких городах пишут больше депрессивных постов, а в каких - больше позитивных? Какие зависимости прослеживаются между эмоциональной окраской поста, городом и возрастом автора? И т.д."
   ]
  },
  {
   "cell_type": "markdown",
   "metadata": {},
   "source": [
    "Также было бы интересно взглянуть на пунктуацию. Почему-то интуитивно кажется, что в позитивно окрашенных постах будет больше знаков препинания, а также будут присутствовать \"сложные\" знаки препинания, такие как двоеточия, тире, точки с запятой - а в депрессивных постах пунктуация будет проще и её будет меньше. Но, как видно из выборки частотных лемм, в депрессивных текстах может быть больше точек и двоеточий."
   ]
  },
  {
   "cell_type": "markdown",
   "metadata": {},
   "source": [
    "Чтобы изучить пунктуацию, будет достаточно питоновских регулярок."
   ]
  },
  {
   "cell_type": "markdown",
   "metadata": {},
   "source": [
    "Ещё интересно выявить, в какое время года люди больше склонны к депрессии. К сожалению, в датасете нет информации о дате-времени создания каждого поста, поэтому можно попробовать вытащить из текстов даты и месяцы с помощью той же natasha и/или новых правил для yargy. Вот, например, в позитивных текстах часто встречался апрель."
   ]
  }
 ],
 "metadata": {
  "colab": {
   "collapsed_sections": [],
   "name": "hw_01.ipynb",
   "provenance": []
  },
  "kernelspec": {
   "display_name": "Python 3",
   "language": "python",
   "name": "python3"
  },
  "language_info": {
   "codemirror_mode": {
    "name": "ipython",
    "version": 3
   },
   "file_extension": ".py",
   "mimetype": "text/x-python",
   "name": "python",
   "nbconvert_exporter": "python",
   "pygments_lexer": "ipython3",
   "version": "3.7.4"
  }
 },
 "nbformat": 4,
 "nbformat_minor": 1
}
