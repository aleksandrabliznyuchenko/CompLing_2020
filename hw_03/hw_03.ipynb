{
  "nbformat": 4,
  "nbformat_minor": 0,
  "metadata": {
    "colab": {
      "name": "hw_03.ipynb",
      "provenance": [],
      "authorship_tag": "ABX9TyMyN/i4SQd51tqXmYCaclcW",
      "include_colab_link": true
    },
    "kernelspec": {
      "name": "python3",
      "display_name": "Python 3"
    }
  },
  "cells": [
    {
      "cell_type": "markdown",
      "metadata": {
        "id": "view-in-github",
        "colab_type": "text"
      },
      "source": [
        "<a href=\"https://colab.research.google.com/github/aleksandrabliznyuchenko/CompLing_2020/blob/main/hw_03/hw_03.ipynb\" target=\"_parent\"><img src=\"https://colab.research.google.com/assets/colab-badge.svg\" alt=\"Open In Colab\"/></a>"
      ]
    },
    {
      "cell_type": "markdown",
      "metadata": {
        "id": "x7GAfsSPtes0"
      },
      "source": [
        "Скачиваем и распаковываем архивные данные"
      ]
    },
    {
      "cell_type": "code",
      "metadata": {
        "id": "STA-fztntCOQ"
      },
      "source": [
        "!wget http://ai.stanford.edu/~amaas/data/sentiment/aclImdb_v1.tar.gz\n",
        "!gunzip aclImdb_v1.tar.gz\n",
        "!tar -xvf aclImdb_v1.tar"
      ],
      "execution_count": null,
      "outputs": []
    },
    {
      "cell_type": "markdown",
      "metadata": {
        "id": "vfjAjrHNuQ_Q"
      },
      "source": [
        "Собираем данные в датафреймы, делим на тренировочную и тестовую выборки"
      ]
    },
    {
      "cell_type": "code",
      "metadata": {
        "id": "8rcYb9eiDPsI"
      },
      "source": [
        "import os\n",
        "import pandas as pd\n",
        "import numpy as np"
      ],
      "execution_count": null,
      "outputs": []
    },
    {
      "cell_type": "code",
      "metadata": {
        "id": "cerXEK5mtcDb"
      },
      "source": [
        "train_texts, test_texts = [],[]\n",
        "train_eval, test_eval = [],[]\n",
        "train_label, test_label = [], []\n",
        "\n",
        "for file in os.listdir('aclImdb/train/pos'):\n",
        "  with open(os.path.join('aclImdb/train/pos', file)) as f:\n",
        "    train_texts.append(f.read())\n",
        "    train_eval.append(1)\n",
        "    train_label.append('POS')\n",
        "for file in os.listdir('aclImdb/train/neg'):\n",
        "  with open(os.path.join('aclImdb/train/neg', file)) as f:\n",
        "    train_texts.append(f.read())\n",
        "    train_eval.append(0)\n",
        "    train_label.append('NEG')\n",
        "\n",
        "for file in os.listdir('aclImdb/test/pos'):\n",
        "  with open(os.path.join('aclImdb/test/pos', file)) as f:\n",
        "    test_texts.append(f.read())\n",
        "    test_eval.append(1)\n",
        "    test_label.append('POS')\n",
        "for file in os.listdir('aclImdb/test/neg'):\n",
        "  with open(os.path.join('aclImdb/test/neg', file)) as f:\n",
        "    test_texts.append(f.read())\n",
        "    test_eval.append(0)\n",
        "    test_label.append('NEG')"
      ],
      "execution_count": null,
      "outputs": []
    },
    {
      "cell_type": "code",
      "metadata": {
        "id": "U7iuEbtBFiWJ"
      },
      "source": [
        "train = pd.DataFrame({'text': train_texts, 'evaluation': train_eval, 'label': train_label})\n",
        "test = pd.DataFrame({'text': test_texts, 'evaluation': test_eval, 'label': test_label})"
      ],
      "execution_count": null,
      "outputs": []
    },
    {
      "cell_type": "code",
      "metadata": {
        "id": "FZt8Z03jtchy",
        "outputId": "72b5ee40-4178-4775-fe50-f660eb3be978",
        "colab": {
          "base_uri": "https://localhost:8080/",
          "height": 352
        }
      },
      "source": [
        "train.head(10)"
      ],
      "execution_count": null,
      "outputs": [
        {
          "output_type": "execute_result",
          "data": {
            "text/html": [
              "<div>\n",
              "<style scoped>\n",
              "    .dataframe tbody tr th:only-of-type {\n",
              "        vertical-align: middle;\n",
              "    }\n",
              "\n",
              "    .dataframe tbody tr th {\n",
              "        vertical-align: top;\n",
              "    }\n",
              "\n",
              "    .dataframe thead th {\n",
              "        text-align: right;\n",
              "    }\n",
              "</style>\n",
              "<table border=\"1\" class=\"dataframe\">\n",
              "  <thead>\n",
              "    <tr style=\"text-align: right;\">\n",
              "      <th></th>\n",
              "      <th>text</th>\n",
              "      <th>evaluation</th>\n",
              "      <th>label</th>\n",
              "    </tr>\n",
              "  </thead>\n",
              "  <tbody>\n",
              "    <tr>\n",
              "      <th>0</th>\n",
              "      <td>There are a number of things that are not corr...</td>\n",
              "      <td>1</td>\n",
              "      <td>POS</td>\n",
              "    </tr>\n",
              "    <tr>\n",
              "      <th>1</th>\n",
              "      <td>This movie is one of those \"WOW!\" movies. Not ...</td>\n",
              "      <td>1</td>\n",
              "      <td>POS</td>\n",
              "    </tr>\n",
              "    <tr>\n",
              "      <th>2</th>\n",
              "      <td>I was looking through the movie listings in my...</td>\n",
              "      <td>1</td>\n",
              "      <td>POS</td>\n",
              "    </tr>\n",
              "    <tr>\n",
              "      <th>3</th>\n",
              "      <td>ROAD TO PERDITION can be summed up by Thomas N...</td>\n",
              "      <td>1</td>\n",
              "      <td>POS</td>\n",
              "    </tr>\n",
              "    <tr>\n",
              "      <th>4</th>\n",
              "      <td>The movie has a great written genre story. It ...</td>\n",
              "      <td>1</td>\n",
              "      <td>POS</td>\n",
              "    </tr>\n",
              "    <tr>\n",
              "      <th>5</th>\n",
              "      <td>Clara Lago is wonderful as the title character...</td>\n",
              "      <td>1</td>\n",
              "      <td>POS</td>\n",
              "    </tr>\n",
              "    <tr>\n",
              "      <th>6</th>\n",
              "      <td>The arrival of White Men in Arctic Canada chal...</td>\n",
              "      <td>1</td>\n",
              "      <td>POS</td>\n",
              "    </tr>\n",
              "    <tr>\n",
              "      <th>7</th>\n",
              "      <td>This film isn't just about a school shooting, ...</td>\n",
              "      <td>1</td>\n",
              "      <td>POS</td>\n",
              "    </tr>\n",
              "    <tr>\n",
              "      <th>8</th>\n",
              "      <td>Richard Dreyfuss stars in \"Moon Over Parador,\"...</td>\n",
              "      <td>1</td>\n",
              "      <td>POS</td>\n",
              "    </tr>\n",
              "    <tr>\n",
              "      <th>9</th>\n",
              "      <td>I find Alan Jacobs review very accurate concer...</td>\n",
              "      <td>1</td>\n",
              "      <td>POS</td>\n",
              "    </tr>\n",
              "  </tbody>\n",
              "</table>\n",
              "</div>"
            ],
            "text/plain": [
              "                                                text  evaluation label\n",
              "0  There are a number of things that are not corr...           1   POS\n",
              "1  This movie is one of those \"WOW!\" movies. Not ...           1   POS\n",
              "2  I was looking through the movie listings in my...           1   POS\n",
              "3  ROAD TO PERDITION can be summed up by Thomas N...           1   POS\n",
              "4  The movie has a great written genre story. It ...           1   POS\n",
              "5  Clara Lago is wonderful as the title character...           1   POS\n",
              "6  The arrival of White Men in Arctic Canada chal...           1   POS\n",
              "7  This film isn't just about a school shooting, ...           1   POS\n",
              "8  Richard Dreyfuss stars in \"Moon Over Parador,\"...           1   POS\n",
              "9  I find Alan Jacobs review very accurate concer...           1   POS"
            ]
          },
          "metadata": {
            "tags": []
          },
          "execution_count": 44
        }
      ]
    },
    {
      "cell_type": "code",
      "metadata": {
        "id": "MpAJzR6gtcpC",
        "outputId": "1f9fd02a-e2d4-44f6-cacd-62dd7ec098a2",
        "colab": {
          "base_uri": "https://localhost:8080/",
          "height": 352
        }
      },
      "source": [
        "test.head(10)"
      ],
      "execution_count": null,
      "outputs": [
        {
          "output_type": "execute_result",
          "data": {
            "text/html": [
              "<div>\n",
              "<style scoped>\n",
              "    .dataframe tbody tr th:only-of-type {\n",
              "        vertical-align: middle;\n",
              "    }\n",
              "\n",
              "    .dataframe tbody tr th {\n",
              "        vertical-align: top;\n",
              "    }\n",
              "\n",
              "    .dataframe thead th {\n",
              "        text-align: right;\n",
              "    }\n",
              "</style>\n",
              "<table border=\"1\" class=\"dataframe\">\n",
              "  <thead>\n",
              "    <tr style=\"text-align: right;\">\n",
              "      <th></th>\n",
              "      <th>text</th>\n",
              "      <th>evaluation</th>\n",
              "      <th>label</th>\n",
              "    </tr>\n",
              "  </thead>\n",
              "  <tbody>\n",
              "    <tr>\n",
              "      <th>0</th>\n",
              "      <td>Late one night on Tom Snyder's \"Tomorrow\" Show...</td>\n",
              "      <td>1</td>\n",
              "      <td>POS</td>\n",
              "    </tr>\n",
              "    <tr>\n",
              "      <th>1</th>\n",
              "      <td>Luc Besson's first work is also his first fora...</td>\n",
              "      <td>1</td>\n",
              "      <td>POS</td>\n",
              "    </tr>\n",
              "    <tr>\n",
              "      <th>2</th>\n",
              "      <td>This film is not only the last piece of the Th...</td>\n",
              "      <td>1</td>\n",
              "      <td>POS</td>\n",
              "    </tr>\n",
              "    <tr>\n",
              "      <th>3</th>\n",
              "      <td>See No Evil With Kane. The Movie Has a great s...</td>\n",
              "      <td>1</td>\n",
              "      <td>POS</td>\n",
              "    </tr>\n",
              "    <tr>\n",
              "      <th>4</th>\n",
              "      <td>I throughly enjoyed this short, even as a Toro...</td>\n",
              "      <td>1</td>\n",
              "      <td>POS</td>\n",
              "    </tr>\n",
              "    <tr>\n",
              "      <th>5</th>\n",
              "      <td>... But it is also Minnie's and Pete's too! Ye...</td>\n",
              "      <td>1</td>\n",
              "      <td>POS</td>\n",
              "    </tr>\n",
              "    <tr>\n",
              "      <th>6</th>\n",
              "      <td>This scene shows how Wallace's experiment by u...</td>\n",
              "      <td>1</td>\n",
              "      <td>POS</td>\n",
              "    </tr>\n",
              "    <tr>\n",
              "      <th>7</th>\n",
              "      <td>This movie was talked about in Fangoria where ...</td>\n",
              "      <td>1</td>\n",
              "      <td>POS</td>\n",
              "    </tr>\n",
              "    <tr>\n",
              "      <th>8</th>\n",
              "      <td>exquisite!! in simple words... both Aparna Sen...</td>\n",
              "      <td>1</td>\n",
              "      <td>POS</td>\n",
              "    </tr>\n",
              "    <tr>\n",
              "      <th>9</th>\n",
              "      <td>As an adult, I am grateful to have caught this...</td>\n",
              "      <td>1</td>\n",
              "      <td>POS</td>\n",
              "    </tr>\n",
              "  </tbody>\n",
              "</table>\n",
              "</div>"
            ],
            "text/plain": [
              "                                                text  evaluation label\n",
              "0  Late one night on Tom Snyder's \"Tomorrow\" Show...           1   POS\n",
              "1  Luc Besson's first work is also his first fora...           1   POS\n",
              "2  This film is not only the last piece of the Th...           1   POS\n",
              "3  See No Evil With Kane. The Movie Has a great s...           1   POS\n",
              "4  I throughly enjoyed this short, even as a Toro...           1   POS\n",
              "5  ... But it is also Minnie's and Pete's too! Ye...           1   POS\n",
              "6  This scene shows how Wallace's experiment by u...           1   POS\n",
              "7  This movie was talked about in Fangoria where ...           1   POS\n",
              "8  exquisite!! in simple words... both Aparna Sen...           1   POS\n",
              "9  As an adult, I am grateful to have caught this...           1   POS"
            ]
          },
          "metadata": {
            "tags": []
          },
          "execution_count": 45
        }
      ]
    },
    {
      "cell_type": "markdown",
      "metadata": {
        "id": "n42CEFBe7cox"
      },
      "source": [
        "Строим модель при помощи CountVectorizer"
      ]
    },
    {
      "cell_type": "code",
      "metadata": {
        "id": "gtTyQnYZuXWw"
      },
      "source": [
        "from sklearn.linear_model import LogisticRegression\n",
        "from sklearn.feature_extraction.text import CountVectorizer"
      ],
      "execution_count": null,
      "outputs": []
    },
    {
      "cell_type": "code",
      "metadata": {
        "id": "5tcfnckJuXe5"
      },
      "source": [
        "count_vect = CountVectorizer()"
      ],
      "execution_count": null,
      "outputs": []
    },
    {
      "cell_type": "code",
      "metadata": {
        "id": "rd3l144xuXiA"
      },
      "source": [
        "train_X = count_vect.fit_transform(train['text'])\n",
        "test_X = count_vect.transform(test['text'])"
      ],
      "execution_count": null,
      "outputs": []
    },
    {
      "cell_type": "code",
      "metadata": {
        "id": "_071plOkuXnU",
        "outputId": "c6758f67-d54b-4638-92be-05c38b5bf0fd",
        "colab": {
          "base_uri": "https://localhost:8080/",
          "height": 268
        }
      },
      "source": [
        "clf = LogisticRegression()\n",
        "clf.fit(train_X, pd.to_numeric(train.evaluation))"
      ],
      "execution_count": null,
      "outputs": [
        {
          "output_type": "stream",
          "text": [
            "/usr/local/lib/python3.6/dist-packages/sklearn/linear_model/_logistic.py:940: ConvergenceWarning: lbfgs failed to converge (status=1):\n",
            "STOP: TOTAL NO. of ITERATIONS REACHED LIMIT.\n",
            "\n",
            "Increase the number of iterations (max_iter) or scale the data as shown in:\n",
            "    https://scikit-learn.org/stable/modules/preprocessing.html\n",
            "Please also refer to the documentation for alternative solver options:\n",
            "    https://scikit-learn.org/stable/modules/linear_model.html#logistic-regression\n",
            "  extra_warning_msg=_LOGISTIC_SOLVER_CONVERGENCE_MSG)\n"
          ],
          "name": "stderr"
        },
        {
          "output_type": "execute_result",
          "data": {
            "text/plain": [
              "LogisticRegression(C=1.0, class_weight=None, dual=False, fit_intercept=True,\n",
              "                   intercept_scaling=1, l1_ratio=None, max_iter=100,\n",
              "                   multi_class='auto', n_jobs=None, penalty='l2',\n",
              "                   random_state=None, solver='lbfgs', tol=0.0001, verbose=0,\n",
              "                   warm_start=False)"
            ]
          },
          "metadata": {
            "tags": []
          },
          "execution_count": 49
        }
      ]
    },
    {
      "cell_type": "code",
      "metadata": {
        "id": "0xkqSuCKuXlM"
      },
      "source": [
        "pred = clf.predict(test_X)"
      ],
      "execution_count": null,
      "outputs": []
    },
    {
      "cell_type": "code",
      "metadata": {
        "id": "OoC3qUeU_Nom",
        "outputId": "e4e3c71d-7ce0-401c-e2b9-4213aafc67c0",
        "colab": {
          "base_uri": "https://localhost:8080/",
          "height": 35
        }
      },
      "source": [
        "pred"
      ],
      "execution_count": null,
      "outputs": [
        {
          "output_type": "execute_result",
          "data": {
            "text/plain": [
              "array([1, 1, 1, ..., 0, 0, 0])"
            ]
          },
          "metadata": {
            "tags": []
          },
          "execution_count": 51
        }
      ]
    },
    {
      "cell_type": "code",
      "metadata": {
        "id": "LEqauZDGHu36"
      },
      "source": [
        "from sklearn.metrics import f1_score, classification_report, accuracy_score"
      ],
      "execution_count": null,
      "outputs": []
    },
    {
      "cell_type": "code",
      "metadata": {
        "id": "GSZTNin8HwCf",
        "outputId": "8e3dabcf-fa5f-4886-d362-144e7dbd1d11",
        "colab": {
          "base_uri": "https://localhost:8080/",
          "height": 177
        }
      },
      "source": [
        "print(classification_report(test.evaluation, pred))"
      ],
      "execution_count": null,
      "outputs": [
        {
          "output_type": "stream",
          "text": [
            "              precision    recall  f1-score   support\n",
            "\n",
            "           0       0.86      0.87      0.87     12500\n",
            "           1       0.87      0.86      0.86     12500\n",
            "\n",
            "    accuracy                           0.86     25000\n",
            "   macro avg       0.86      0.86      0.86     25000\n",
            "weighted avg       0.86      0.86      0.86     25000\n",
            "\n"
          ],
          "name": "stdout"
        }
      ]
    },
    {
      "cell_type": "code",
      "metadata": {
        "id": "3SYbrPd_IUHH",
        "outputId": "20c074cc-dfca-4e3f-8093-727aade792e5",
        "colab": {
          "base_uri": "https://localhost:8080/",
          "height": 35
        }
      },
      "source": [
        "print('Accuracy: %f' % accuracy_score(test.evaluation, pred))"
      ],
      "execution_count": null,
      "outputs": [
        {
          "output_type": "stream",
          "text": [
            "Accuracy: 0.864040\n"
          ],
          "name": "stdout"
        }
      ]
    },
    {
      "cell_type": "code",
      "metadata": {
        "id": "kioo8FUxI0eQ"
      },
      "source": [
        "from sklearn.metrics import precision_score, recall_score"
      ],
      "execution_count": null,
      "outputs": []
    },
    {
      "cell_type": "code",
      "metadata": {
        "id": "sONk_EjvMHXc",
        "outputId": "0864a82c-21d1-4a00-87c1-68275beb2db8",
        "colab": {
          "base_uri": "https://localhost:8080/",
          "height": 52
        }
      },
      "source": [
        "acc = accuracy_score(test.evaluation, pred)\n",
        "f1 = f1_score(test.evaluation, pred)\n",
        "p = precision_score(test.evaluation, pred)\n",
        "r = recall_score(test.evaluation, pred)\n",
        "print('acc={0:1.4f}'.format(acc))\n",
        "print('F1={0:1.4f}, Precision={1:1.4f}, Recall={2:1.4f}'.format(f1, p, r))"
      ],
      "execution_count": null,
      "outputs": [
        {
          "output_type": "stream",
          "text": [
            "acc=0.8640\n",
            "F1=0.8629, Precision=0.8702, Recall=0.8557\n"
          ],
          "name": "stdout"
        }
      ]
    },
    {
      "cell_type": "markdown",
      "metadata": {
        "id": "WPkXMc5KMirx"
      },
      "source": [
        "Построим ROC кривую и посчитаем ROC AUC"
      ]
    },
    {
      "cell_type": "code",
      "metadata": {
        "id": "Th1vA0z3Mc9-"
      },
      "source": [
        "import numpy as np\n",
        "from sklearn.metrics import roc_auc_score, roc_curve\n",
        "from matplotlib import pyplot"
      ],
      "execution_count": null,
      "outputs": []
    },
    {
      "cell_type": "code",
      "metadata": {
        "id": "59I06UrDMnZP",
        "outputId": "b83503a7-87fb-4e58-f989-5a2af9e870e3",
        "colab": {
          "base_uri": "https://localhost:8080/",
          "height": 279
        }
      },
      "source": [
        "fpr, tpr, thrhld = roc_curve(test.evaluation, pred)\n",
        "pyplot.plot(fpr, tpr, marker='.', label='Test')\n",
        "pyplot.xlabel('False Positive Rate')\n",
        "pyplot.ylabel('True Positive Rate')\n",
        "pyplot.legend()\n",
        "pyplot.show()"
      ],
      "execution_count": null,
      "outputs": [
        {
          "output_type": "display_data",
          "data": {
            "image/png": "[encoded data removed]",
            "text/plain": [
              "<Figure size 432x288 with 1 Axes>"
            ]
          },
          "metadata": {
            "tags": [],
            "needs_background": "light"
          }
        }
      ]
    },
    {
      "cell_type": "code",
      "metadata": {
        "id": "Kx4h3uTrMyVY",
        "outputId": "e5db213d-5887-43fc-c353-cb4b815e391e",
        "colab": {
          "base_uri": "https://localhost:8080/",
          "height": 35
        }
      },
      "source": [
        "print('ROC AUC: %f' % roc_auc_score(test.evaluation, pred))"
      ],
      "execution_count": null,
      "outputs": [
        {
          "output_type": "stream",
          "text": [
            "ROC AUC: 0.864040\n"
          ],
          "name": "stdout"
        }
      ]
    },
    {
      "cell_type": "markdown",
      "metadata": {
        "id": "hzjrePQFNUl4"
      },
      "source": [
        "ТОП-15 самых позитивных и самых негативных рецензий по мнению модели"
      ]
    },
    {
      "cell_type": "code",
      "metadata": {
        "id": "-vL3B4JPNSEy"
      },
      "source": [
        "proba = clf.predict_proba(test_X)"
      ],
      "execution_count": null,
      "outputs": []
    },
    {
      "cell_type": "code",
      "metadata": {
        "id": "XdGRwOq5NtTy"
      },
      "source": [
        "top_neg = [elem[0] for elem in list(proba)]\n",
        "top_pos = [elem[1] for elem in list(proba)]"
      ],
      "execution_count": null,
      "outputs": []
    },
    {
      "cell_type": "code",
      "metadata": {
        "id": "DTFwzYqPOIm_"
      },
      "source": [
        "test['top_pos'] = list(top_pos)\n",
        "test['top_neg'] = list(top_neg)"
      ],
      "execution_count": null,
      "outputs": []
    },
    {
      "cell_type": "code",
      "metadata": {
        "id": "gX39ynS3OVFj",
        "outputId": "29c2be77-0149-4539-e019-8829d9e8feac",
        "colab": {
          "base_uri": "https://localhost:8080/",
          "height": 352
        }
      },
      "source": [
        "test.head(10)"
      ],
      "execution_count": null,
      "outputs": [
        {
          "output_type": "execute_result",
          "data": {
            "text/html": [
              "<div>\n",
              "<style scoped>\n",
              "    .dataframe tbody tr th:only-of-type {\n",
              "        vertical-align: middle;\n",
              "    }\n",
              "\n",
              "    .dataframe tbody tr th {\n",
              "        vertical-align: top;\n",
              "    }\n",
              "\n",
              "    .dataframe thead th {\n",
              "        text-align: right;\n",
              "    }\n",
              "</style>\n",
              "<table border=\"1\" class=\"dataframe\">\n",
              "  <thead>\n",
              "    <tr style=\"text-align: right;\">\n",
              "      <th></th>\n",
              "      <th>text</th>\n",
              "      <th>evaluation</th>\n",
              "      <th>label</th>\n",
              "      <th>top_pos</th>\n",
              "      <th>top_neg</th>\n",
              "    </tr>\n",
              "  </thead>\n",
              "  <tbody>\n",
              "    <tr>\n",
              "      <th>0</th>\n",
              "      <td>Late one night on Tom Snyder's \"Tomorrow\" Show...</td>\n",
              "      <td>1</td>\n",
              "      <td>POS</td>\n",
              "      <td>0.986223</td>\n",
              "      <td>0.013777</td>\n",
              "    </tr>\n",
              "    <tr>\n",
              "      <th>1</th>\n",
              "      <td>Luc Besson's first work is also his first fora...</td>\n",
              "      <td>1</td>\n",
              "      <td>POS</td>\n",
              "      <td>0.926014</td>\n",
              "      <td>0.073986</td>\n",
              "    </tr>\n",
              "    <tr>\n",
              "      <th>2</th>\n",
              "      <td>This film is not only the last piece of the Th...</td>\n",
              "      <td>1</td>\n",
              "      <td>POS</td>\n",
              "      <td>0.999965</td>\n",
              "      <td>0.000035</td>\n",
              "    </tr>\n",
              "    <tr>\n",
              "      <th>3</th>\n",
              "      <td>See No Evil With Kane. The Movie Has a great s...</td>\n",
              "      <td>1</td>\n",
              "      <td>POS</td>\n",
              "      <td>0.969713</td>\n",
              "      <td>0.030287</td>\n",
              "    </tr>\n",
              "    <tr>\n",
              "      <th>4</th>\n",
              "      <td>I throughly enjoyed this short, even as a Toro...</td>\n",
              "      <td>1</td>\n",
              "      <td>POS</td>\n",
              "      <td>0.987343</td>\n",
              "      <td>0.012657</td>\n",
              "    </tr>\n",
              "    <tr>\n",
              "      <th>5</th>\n",
              "      <td>... But it is also Minnie's and Pete's too! Ye...</td>\n",
              "      <td>1</td>\n",
              "      <td>POS</td>\n",
              "      <td>0.999384</td>\n",
              "      <td>0.000616</td>\n",
              "    </tr>\n",
              "    <tr>\n",
              "      <th>6</th>\n",
              "      <td>This scene shows how Wallace's experiment by u...</td>\n",
              "      <td>1</td>\n",
              "      <td>POS</td>\n",
              "      <td>0.031276</td>\n",
              "      <td>0.968724</td>\n",
              "    </tr>\n",
              "    <tr>\n",
              "      <th>7</th>\n",
              "      <td>This movie was talked about in Fangoria where ...</td>\n",
              "      <td>1</td>\n",
              "      <td>POS</td>\n",
              "      <td>0.447887</td>\n",
              "      <td>0.552113</td>\n",
              "    </tr>\n",
              "    <tr>\n",
              "      <th>8</th>\n",
              "      <td>exquisite!! in simple words... both Aparna Sen...</td>\n",
              "      <td>1</td>\n",
              "      <td>POS</td>\n",
              "      <td>0.998446</td>\n",
              "      <td>0.001554</td>\n",
              "    </tr>\n",
              "    <tr>\n",
              "      <th>9</th>\n",
              "      <td>As an adult, I am grateful to have caught this...</td>\n",
              "      <td>1</td>\n",
              "      <td>POS</td>\n",
              "      <td>0.627026</td>\n",
              "      <td>0.372974</td>\n",
              "    </tr>\n",
              "  </tbody>\n",
              "</table>\n",
              "</div>"
            ],
            "text/plain": [
              "                                                text  ...   top_neg\n",
              "0  Late one night on Tom Snyder's \"Tomorrow\" Show...  ...  0.013777\n",
              "1  Luc Besson's first work is also his first fora...  ...  0.073986\n",
              "2  This film is not only the last piece of the Th...  ...  0.000035\n",
              "3  See No Evil With Kane. The Movie Has a great s...  ...  0.030287\n",
              "4  I throughly enjoyed this short, even as a Toro...  ...  0.012657\n",
              "5  ... But it is also Minnie's and Pete's too! Ye...  ...  0.000616\n",
              "6  This scene shows how Wallace's experiment by u...  ...  0.968724\n",
              "7  This movie was talked about in Fangoria where ...  ...  0.552113\n",
              "8  exquisite!! in simple words... both Aparna Sen...  ...  0.001554\n",
              "9  As an adult, I am grateful to have caught this...  ...  0.372974\n",
              "\n",
              "[10 rows x 5 columns]"
            ]
          },
          "metadata": {
            "tags": []
          },
          "execution_count": 69
        }
      ]
    },
    {
      "cell_type": "code",
      "metadata": {
        "id": "1L0FacIaOevY"
      },
      "source": [
        "sorted_top_pos = test.sort_values(['top_pos'], ascending=[False])\n",
        "sorted_top_neg = test.sort_values(['top_neg'], ascending=[False])"
      ],
      "execution_count": null,
      "outputs": []
    },
    {
      "cell_type": "code",
      "metadata": {
        "id": "YsAAEECVOotg"
      },
      "source": [
        "texts_top_pos = sorted_top_pos.head(15).text.tolist()\n",
        "texts_top_neg = sorted_top_neg.head(15).text.tolist()"
      ],
      "execution_count": null,
      "outputs": []
    },
    {
      "cell_type": "code",
      "metadata": {
        "id": "RF0MLCrzOyCL",
        "outputId": "8ed7c801-52f4-4a62-8efa-e2e4823d6eaa",
        "colab": {
          "base_uri": "https://localhost:8080/",
          "height": 592
        }
      },
      "source": [
        "print('ТОП-15 положительных рецензий: \\n')\n",
        "\n",
        "counter = 1\n",
        "for text in texts_top_pos:\n",
        "  print('%d. %s \\n' % (counter, text))\n",
        "  counter += 1"
      ],
      "execution_count": null,
      "outputs": [
        {
          "output_type": "stream",
          "text": [
            "ТОП-15 положительных рецензий: \n",
            "\n",
            "1. The Hand of Death aka Countdown in Kung Fu (1976) is a vastly underrated early work by director John Woo. The film stars Dorian Tan (Tan Tao-liang) and features Jackie Chan, Sammo Hung and James Tien in significant supporting roles. Many people believe, or have been lead to believe by deceptive advertising, that this is a Jackie Chan film. This is not a Jackie Chan film, Dorian Tan is the star but Jackie gives one of his best (most serious) early performances.<br /><br />The Hand of Death is about a Shaolin disciple named Yunfei (Tan) who is sent on a mission to assassinate a Shaolin traitor named Shih Xiaofeng (Tien) and protect a revolutionary named Zhang Yi (Woo). Along his journey Yunfei meets up with a young woodcutter named Tan (Chan) and a disgraced sword fighter (Chang Chung) known as \"the wanderer.\" Both men have suffered at the hands of Shih and want to take revenge. The three team up to defeat Shih and his eight bodyguards and escort the revolutionary to safety.<br /><br />The martial arts action is above average under the direction of Sammo Hung. Dorian Tan uses his trademark high kicks very effectively as the \"Northern eighteen styles kicks\" along with some \"Southern five styles boxing.\" Sammo Hung and Jackie Chan provide excellent martial arts performances as well. James Tien is not the greatest martial artist on the Jade screen but does an acceptable job. Some of the early fights are a bit slow and seem over choreographed but the final showdowns featuring Chan, Tan and Hung are very good.<br /><br />Director John Woo provides plenty of interesting character development in the film, which is refreshing. The cinematography by Leung Wing Kat is very stylish, unique and beautiful for a kung fu film of this era. Joseph Koo's music: a combination of soft flutes and 70's \"Shaft\" style orchestral pieces is kung fu cinema at its best. Hand of Death is not Jackie and Sammo's usual kung fu comedy. Hand of Death is a serious, straightforward revenge driven story.<br /><br />Hand of Death aka Countdown in Kung Fu is an underrated classic in the old school kung fu genre. The film is one of the best artistically of its time and a preview of the great things to come from Jackie Chan and Sammo Hung. Hung's great choreography is put on display here before his directorial debut and Chan's early charisma and talent can be clearly seen.<br /><br />Hand of Death is a solid, stylish old school kung fu film and a brilliant early work of the legendary John Woo.<br /><br />Kung Fu Genre Rating 7.5/10 <br /><br />Wanderer to Tan (referring to his new weapon): \"The Little Eagle Wing God Lance.\" <br /><br />Tan: \"Just a knickknack.\" \n",
            "\n",
            "2. Director Mikhail Kalatozov's film The Cranes are Flying (Letyat zhuravli) is a glorious piece of cinema. From the screenplay by Viktor Rozov, based on his own play, Kalatozov shows us a vision of the heroism of war and the suffering by those left at home. Inundated with countless war movies showing us the frontlines and the carnage, the topic itself becomes tedious and avoidable. However, this Russian gem shows how the tale of hardship can be told in a different way; by telling us, straight from a soldier's mouth how war is hated by all, that they hope those who died did so for a cause that will allow for peace and the end of fighting, we see a new vision of WWII. We have young men volunteering to wage war for peace, to keep their families and loved ones safe at home rather than draftees fighting a battle they don't believe in. With so much hatred towards our current situation in the Middle East, and how people are dying for no reason, against their will, it's nice to see a film that shows just how selfless and heroic these soldiers are, as well as those awaiting their return.<br /><br />Communist Russia shows how involved all were in the war. While Boris may have volunteered to go to the frontlines, his father is head doctor of a hospital aiding in the mending of soldiers injured and his sister is helping him there as well as his girl Veronika, doing all she can to keep her mind off the fact that no letter has arrived from her love. An entire city comes out to send the boys off in celebration. Even the factory that Boris and his friend Stepan work for send representatives over with gifts of gratitude. Whether this is all a glorified look into Russia at the outset of WWII or not, I don't know. There are no protests or badmouthing of these boys risking their lives for a country, it is all praise and thanks. Some in America could learn a lesson from this because whether you agree with the war at hand or not, protesting and wreaking havoc in its name only sullies what these men and women are sacrificing each and everyday.<br /><br />The acting is top-notch throughout, but some deserve singling out. I really enjoyed Antonina Bogdanova in a small role as Boris' grandmother. She is the one family member he can trust and her sadness at his leaving is very evident on her face and through her body language. Vasili Merkuryev, as the patriarch Fyodor Ivanovich, brings what is perhaps the best performance. As spoken at the end, about fathers needing to choke back hidden tears, Merkuryev epitomizes those sentiments. He puts on a tough exterior, especially cracking jokes and riding his son hard when he finds out about his volunteering just hours before he must leave. But when Boris exits to go to the assembly station we see the true pain of the man, seated in sorrow at the table. He loves his son dearly and although he may not be able to show it to him, his actions throughout the film express it to the audience. Aleksey Batalov is effective as Boris, a happy-go-lucky young man, and idealist, doing what he believes is right, and Aleksandr Shvorin is good as the villainous Mark, staying home due to his talented piano skills, or maybe just to steal his cousin's love. That love, played by Tatyana Samojlova, really draws the audience in to her grief, dejection, and slim glimmer of hope. The true star of the film, she must go through many emotions on a journey where she does lose her way, needing to steer back on course, hoping that she did so soon enough for Boris' return.<br /><br />Besides the realism to the story, as well as being unafraid to use tragedy to get the theme across, I also loved the visual style of the film. Sergei Urusevsky's cinematography is amazing, especially when considering the movie was shot in fullscreen. It is one thing to create stunning compositions in a widescreen panorama; it is completely different to do so in a square frame. Right from the beginning we get a beautiful static shot of a winding walkway along water, a bridge in the background at the top, as our two lovers skip their way up the screen and into the distance. There are multiple instances of the camera being behind barriers yet still allowing for the action to be seen, creating unique spatial depth and interest at all times. Sharp angles are utilized, as well as careful blocking to allow for overhead shots and exaggerated juxtapositions of characters in frame together.<br /><br />The real feats, however, are those instances of the long shot. Used well towards the end to follow Veronika through the mass of returning soldiers, it is magnificent earlier on as she roams through those saying goodbye to their loved ones while she searches for Boris, her own farewell needing to be said. The planning for this shot must have been extensive because while she weaves in and out of people, the camera focuses on couples kisses, people yelling to one another, and more, all purposely in frame at specific moments while the camera moves through. Everyone needed to hit his mark precisely and it leads to a brilliant piece of cinema. It's just one part of an overall masterpiece of tone and style; The Cranes are Flying shows how successful placement and mise en scène can be in showing the audience what it needs in as simple a way as possible. Composition and professionalism from the actors and crew can work wonders, adding something that huge setpieces and special effects can never do. \n",
            "\n",
            "3. 1904. The North African nation of Morocco is hanging onto a tenuous Independence, as the various European powers - France, Germany, Britain, Russia, Spain, and now the United States - are vying for influence in the region. The Sultan (Marc Zuber) is a weak puppet; his uncle, the Bashaw (Vladek Sheybal), who is being manipulated by the French and Germans, is the real power behind the throne. Enter Berber Chieftan Raisuli (Sean Connery), the leader of the Rif tribe and \"the last of the Barbary Pirates\", who kidnaps an American missionary, Eden Pedecaris (Candice Bergen) and her two children and takes them hostage. Back in the US, President Theodore Roosevelt (Brian Keith) threatens to go to war over the issue: \"Pedecaris Alive or Raisuli Dead!\" - seeing the issue as the perfect way to exercise his \"Big Stick\" diplomacy, though Secretary of State John Hay (John Huston) is not so confident. However, the Raisuli has less sinister plans for the Pedecarises, who are more than capable of handling themselves in any event.<br /><br />John Milius's great historical film, based VERY loosely off of a true story (i.e. Pedecaris was a middle-aged man), is a wonderful bit of escapism. It has some amazing action scenes, a witty, well-written script, a fine cast enjoying themselves with the material, and does not overstay its welcome like, say, \"Pirates of the Caribbean\" or the \"Lord of the Rings\" movies. It's not really an \"epic\" film in the strictest sense, but it's one of the best pure action movies ever made.<br /><br />While the historical context is shaky, the storyline is interesting, and as some reviewers point out, it is even more pertinent today than it was when made. As President Roosevelt says, \"America is like a grizzly bear\" - fierce, strong, but a little blind and reckless at times. At the time of the film's setting, America has just been propelled onto the world stage as superpower, following their resounding victory in the Spanish-American War - and Roosevelt seizes this incident as a way to prove America's worth. In real life, it didn't quite work out that way, but allegorically it works well. While written from a right-wing perspective, Milius's screenplay is pretty accurate in assessing America and its place in the world. He admires Roosevelt and his method of \"big stick\" diplomacy, and correctly recognizes (in the words of Roosevelt) that while America may be feared and respected, they'll never be truly \"loved\" by the world, no matter what they do. And there are some scenes - like Roosevelt's target shooting of European leaders and the almost-comic surprise attack by Marines on the Bashaw's palace - which show America's reckless and violent side, while others - the climactic showdown with the Germans - show their heroism.<br /><br />The historical/political context of the film is, of course, merely meat on the bones of what is essentially a rousing action/adventure film. There are some brilliantly done action scenes, such as Raisuli's rescue of the Pedecaris's from double-crossing tribesmen, which features some of the best swordplay in any film. The opening entrance of the Raisuli and the aforementioned march and attack of the US Marines are brilliantly done bravura set pieces. And the final battle, which combines elements of \"Lawrence of Arabia\" and \"The Wild Bunch\", while a major historical fantasy (a three-way battle between Germans, Americans, and the Rifs), is a superbly staged, adrenaline-pumping sequence.<br /><br />The excellent cast gives some wonderful performances. Everyone seems to be having a fun time with the film, and it shows. Sean Connery is surprisingly convincing as a Berber with a Scottish accent, but manages to pull off his interesting, well-drawn and chivalrous character who comes to respect his hostage and abhors modern, uncivil warfare. Candice Bergen, an actress whom I've never been fond of, gives a fine performance as the feisty Eden Pedecaris, who is every bit as tough as her captor. Brian Keith is an amazingly convincing TR - you really feel he must have been like this, an athletic, blustering, yet practical and intelligent man with an admirable sense of self. The scenes of Roosevelt boxing and target-shooting while discussing foreign policy are some of the greatest \"bad ass\" moments in movie history - and who can forget lines like \"Why spoil the beauty of the thing with legality?\" John Huston provides solid support as the weary, cautious Hay, acting as a perfect foil to the much more impetuous Roosevelt. <br /><br />Among the fine supporting cast, the best are Geoffrey Lewis as Samuel Gummere, the cynical Ambassador caught in the middle of the political intrigue, and Steve Kanaly, as the gung-ho Marine Captain who cheerfully advocates (and carries out) \"Military intervention!\" as the blunt and simple solution to the whole complex situation. Other familiar faces such as Vladek Sheybal, Nadim Sawalha, Roy Jenson, Larry Cross, Marc Zuber, and Darrell Fetty also do fine work, no matter how small their role. Spaghetti Western fans will recognize Antoine Saint-John (\"A Fistful of Dynamite\") as the German general and Aldo Sambrell as one of Raisuli's tribesmen.<br /><br />\"The Wind and the Lion\" is, all around, a wonderfully done adventure film. It has something for everyone: wonderful gun- and swordplay, a lot of humor, a tough, feisty heroine (and her two cute children), a nice (if unconsummated) romance, and an interesting (if fanciful) political/historical context. It's not a masterpiece, but hey, it wasn't trying to be. I give \"The Wind and the Lion\" a stirring nine stars and my highest recommendation. \n",
            "\n",
            "4. Life is comprised of infinite possibilities; some known, others a mystery and destined to remain so. And what of the vast unknown, the realms beyond which knowledge has no established boundaries or parameters? Who is to say what exists or what is possible? Valid questions, all of which are raised and explored in the story of a particular individual's personal journey, a strange and dramatic odyssey that defies facts and logic, in `K-PAX,' directed by Iain Softley, and starring Kevin Spacey and Jeff Bridges. In the wake of an incident in New York's Central Station, a man named Prot (Spacey) is transported to a psychiatric hospital in Manhattan, where he is delivered into the care of Dr. Mark Powell (Bridges), who attempts to uncover the truth about his patient, who claims to be from the distant planet K-PAX. It quickly becomes a challenge for Dr. Powell, as Prot, with his calm, direct, forthcoming manner and a propensity for produce (he eats bananas peels and all, and Red Delicious Apples are his favorites) is quite convincing. But it's Powell's job, as well as his nature, to be skeptical. Prot's claims, however, remain intact and stand up even under the most intense probing and the watchful eye of Dr. Powell, who finds himself in something of a quandary-- Prot even tells him the exact date and time that he will depart for K-PAX, a scheduled return trip that allows Powell but a short time to sort it all out. And Powell just can't seem to get his mind around the idea that he is dealing with a real alien being; and it's something he is going to have to resolve quickly, if he is ever going to know the truth. And he has to know. The truth, after all, is the only thing that is going to set him free in his own mind.<br /><br />\tSoftley has created and delivered a sensitive, thought-provoking film that challenges the viewer by sustaining the mystery surrounding Prot while forcing you to reflect upon your own concepts of what is, in fact, possible. And as you never know for sure about Prot until the denouement, you are able to identify with Powell, seeing the situation from his point of view and trying to solve the riddle right along with him. Softley creates an atmosphere of wonder and a real sense of being confronted with something that is truly unique as the story unfolds and you begin to realize that Prot just may be what he says he is. And in the context of the reality to which the film is disposed, it's an engrossing matter to try to wrap your mind around. How do you react when all of the evidence is contrary to the physical limitations we've set for ourselves? While at the heart of the film there is a resounding depth of humanity that is evident, not only in Prot, but in Dr. Powell, as well. All of which makes for an extremely engaging and gripping drama.<br /><br />\tAs we've come to expect, Kevin Spacey gives a brilliant performance as Prot, presenting his character from the inside out, emotionally deep and physically convincing at the same time. This is a unique individual, and Spacey brings him to life with care and the ability to share those moments that are particularly revealing, which adds to the believability of the character and the credibility of the story itself. For this film to work, it is essential that we believe who and what Prot is; we do, and it does. Spacey simply pulls it off magnificently. It's a memorable performance, from which evolves a character that will stay with you for a long, long time.<br /><br />\tJeff Bridges, meanwhile, emerges on equal footing with Spacey, adeptly making a very real person of Dr. Powell. It's a fairly straightforward role, and the challenge for Bridges was to take this very normal and ordinary character and make him unique in his own right, which, opposite the character of Prot was no small task. And, again, for this film to work it was necessary for Bridges to rise to the occasion. And, with exceptional skill and being the consummate professional that he is, he succeeds without question. Bridges infuses Powell with an underlying complexity, and is so giving in his performance, that it makes the interaction between Powell and Prot vibrant, and at times intense. It's a demonstration of two of the finest actors in the business doing what they do best, creating a dynamic that is alive and inspiring. It's a great job by Bridges, who never attempts to steal the spotlight from Prot, which serves to raise the level of the film to an even higher notch.<br /><br />\tThe supporting cast includes Mary McCormack (Rachel), Alfre Woodard (Dr. Villers), Ajay Naidu (Dr. Naidiu), Vincent Laresca (Navarro), Kimberly Scott (Joyce), Conchata Ferrell (Betty) and Saul Williams (Ernie). An entertaining, emotionally involving film, `K-PAX' is a dissertation on possibilities, as well as an examination of the ever evolving complexities of the human condition. It's a film that demands an open mind and rewards those who are able to approach it on it's own terms and embrace it. In the end, it makes you realize just how real K-PAX is; and it makes you appreciate Prot's journey, and just how much we all share and have in common with those around us, human or alien. And it may just make you reflect upon your own journey-- where you've been and where you're going. And that's the magic of the movies. I rate this one 10/10. <br /><br /> \n",
            "\n",
            "5. Universal Studios version of \"Flipper\" (1996) is a great heartwarming film for the entire family with good values and sentimentality. It is the story of Sandy Ricks, a teenager from Chicago who reluctantly spends his vacation with his Uncle Porter Ricks in the Bahamas. This ultimately changes the teenagers life and he grows up in the process. He learns to appreciate nature and to have a respect for the environment. I grew up in the 1960's and the NBC television show \"Flipper\" was my favorite childhood show. Elijah Wood is perfectly cast as a 1990's Sandy Ricks and gives an excellent performance. As much as I liked the NBC television show and MGM theatrical feature films with Luke Halpin as Sandy in the 1960's I liked this feature the best! I feel Elijah Wood is the best Sandy Ricks. With respect to Luke Halpin I feel Elijah Wood has more of a range of acting talent and emotes more as an actor which makes his performance excellent and more believable. I think Elijah Wood is the best young actor working today in films. Director Alan Shapiro also wrote the screenplay and has done an excellent job as both writer and director of this film. Paul Hogan gives a comical and likable performance as Sandy's Uncle Porter Ricks. Mr. Hogan's performance perfectly offsets Elijah's role as Sandy. I am a big fan of underwater films. This film was beautifully shot in the Bahamas like \"Thunderball\" (1965 UA) was. The director of photography was Bill Butler A.S.C. who lensed the film \"Jaws\" in 1975. Mr. Butler is a very talented cinematographer. The underwater director of photography was Pete Romano. He did a superb job with the underwater cinematography. I enjoyed the film score by Joel McNeely. This good film score featured Crosby, Stills and Nash among other talented artists. This motion picture was shot in Panavision like \"Thunderball\" in the aspect ratio of 2.35:1 If possible try to see this film in a scope version as originally framed and visioned by Alan Shapiro and Bill Butler. Another very nice thing is that Mr. Shapiro gave the \"original\" Sandy Ricks (Luke Halpin) a small part in this remake. He portrayed Bounty Fisherman #3 in this film. This was a very kind gesture on Mr. Shapiro's part! As you can tell I am a real true fan of this film. Sadly this beautiful film was met with harsh words by the majority of movie critics. I originally saw this movie on my birthday, May 31st of 1996 in a movie theater. It meant a lot to me. I have it on numerous video versions. The VHS versions are in \"pan and scan\". The laserdisc version is \"letterboxed\" 2.35:1! I even have a VCD in 2.35:1 from Hong Kong which is \"letterboxed\". But my most prized possession is an \"original\" 16mm theatrical feature print which I will treasure for the rest of my life! Thank you Mr. Shapiro, Elijah Wood, Paul Hogan and everyone involved for making this a memorable movie for me to enjoy!<br /><br />P.S. I must add that the quality of the Universal DVD is superb! It is the best DVD as far as quality I have ever seen. The color and resolution is spectacular. The soundtrack is great. I think Universal must have used the same transfer for the DVD that they did for the laserdisc version. The 35mm scope print is \"mint\" and Alan's film really has a wonderful look to it. A great tribute to a wonderful film! The DVD's resolution is even superior to the laserdisc quality! It's just spectacular! Thank you Universal Home Video for the great quality control and transfer. Many thank's for doing a superb job on this wonderful family film. Also many thank's to you Alan for all your extreme kindness to me!!! It's a real honor to know you!!! (Review Revised/Updated June 27, 2005) \n",
            "\n",
            "6. Tony Hawk's Pro Skater 2x, isn't much different at all from the previous games (excluding Tony Hawk 3). The only thing new that is featured in Tony Hawk's Pro Skater 2x, is the new selection of levels, and tweaked out graphics. Tony Hawk's Pro Skater 2x offers a new career mode, and that is the 2x career. The 2x career is basically Tony Hawk 1 career, because there is only about five challenges per level. If you missed Tony Hawk 1 and 2, I suggest that you buy Tony Hawk's Pro Skater 2x, but if you have played the first two games, you should still try this one. Overall, there really isn't anything new, but it is still very fun to go through the game. Hopefully this review benefits your needs.<br /><br />Graphics: 7 out of 10 Overall, the clean visuals isn't really one of Tony Hawk's Pro Skater 2x's main characteristics. The atmosphere has been changed around a lot from Tony Hawk 1 and 2, and the character models look a little bit improved. When you look back to Tony Hawk's Pro Skater 1 and 2 on the old PS1, the thought that those old graphics are ugly run through your head. In Tony Hawk's Pro Skater 2x, the graphics are rendered A LOT better. The character models are no longer filled with jaggys, the textures are more smooth, but not to the farthest extent. Tony Hawk's Pro Skater 2x's visuals do not compare to Tony Hawk 3's graphics, but Activision probably didn't want to make Tony Hawk's Pro Skater 2x have extraordinary graphics. Overall, the graphics deserve an average score of 7 because they did not put the full power of the Xbox to use in here. Graphics are nice, and clean, that's all I have to say.<br /><br />Sound: 8 out of 10 The sound effects don't deliver much to the imagination, but the skateboards popping off of the ground sound great. The main reason why I gave the sound factor a rating, was because you are not obligated to listen to the below average Tony Hawk soundtrack, because there is a custom soundtrack feature. The sound effects sound a lot better than the sounds in Tony Hawk 1 and 2, mainly because it is more clearer, and just the fact that everything sounds great. One of the main reasons why I bought this game, is because of the custom soundtrack. The grind sound effects still sound the same as the first two games did, just a little tweaked out. One of the major problems of the sound factor, is the fact that if the song is over, it will NOT proceed to the next track, the song that you have just listened to will just play over again. I don't like the in-game soundtrack, but like I said, you are not obligated to listen to it.<br /><br />Controls: 10 out of 10 The controls are the best part of Tony Hawk's Pro Skater 2x. The control set-up is marvelously comfortable, and easy to get used to. Back in the Playstation days, people thought that the controls were the best ever, but it looks like 2x has done a better job with the Xbox control. Surprisingly, it is very easy to use the control stick to execute tricks. Activision has done great work with Tony Hawk's Pro Skater 2x's controls. They have made the Xbox controller the best for Tony Hawk games. You will not be disappointed with the control style, and that is a guarantee.<br /><br />Game play: 10 out of 10 Excluding the fact that Tony Hawk's Pro Skater 2x is basically Tony Hawk 1 and 2 put together, the game play is still unbelievably fun. The game play factor has been changed around a bit. This time, you get A LOT more air than in the first two games, and it is a lot easier to perform tricks. In Tony Hawk's Pro Skater 2x, each character has three career modes, consisting of Tony Hawk 1 career, Tony Hawk 2 career, and the 2x career. Tony Hawk 1 career is rather easy because in the first game, you get NOTHING for air. The Tony Hawk 2 career delivers the same amount of difficulty as the playstation version did. The only amount of difficulty that applies to the 2x career, is finding out where all items are, but after you've done that, 2x career is no hard at all. In the 2x career, there is a total of 3 levels, and the first two levels consist of finding the secret tapes, collecting S-K-A-T-E, and doing whatever else is required for that particular level. The third level out of the three, is the competition level, where you have to get a certain amount of points to get the gold. In the first two levels, the secret tapes, and collecting the letters S-K-A-T-E, are featured in both of them. Overall, Tony Hawk's Pro Skater 2x still maintains the old Tony Hawk's Pro Skater vibe.<br /><br />Story: -<br /><br />Fun factor: 10 out of 10 Tony Hawk's Pro Skater 2x is by far, the most funnest game on Xbox today. I have played Tony Hawk's Pro Skater 1 and 2, and back then, I didn't like them, but for some reason, Tony Hawk's Pro Skater 2x is really fun. There really isn't much to say, except that Tony Hawk's Pro Skater 2x is by far, the best game on Xbox today. One problem, is that if you've already gone through the game once, you will play it a couple more times, but it will be repetitive.<br /><br />Replay value: 10 out of 10 Tony Hawk's Pro Skater 2x delivers a high amount of replay value. There is a lot of cheats to unlock, and a lot of character videos. Overall, Tony Hawk's Pro Skater 2x has lots of replay value, mainly because it is so fun.<br /><br />Best feature: You are not obligated to listen to the crappy in-game soundtrack. Worst feature: The custom soundtrack is a bit messed up.<br /><br />Final Statement: Lots of people have complained in the past that they didn't like Tony Hawk's Pro Skater 2x because there is nothing new, but they should stop complaining because your getting a lot of game for $50.00.<br /><br />Graphics: 7 out of 10. Sound: 8 out of 10. Control: 10 out of 10. Game play: 10 out of 10. Story: N/A Fun factor: 10 out of 10.<br /><br />Overall score: 9 out of 10. \n",
            "\n",
            "7. OZ is the greatest show ever mad full stop.OZ is the greatest show ever mad full stop.OZ is the greatest show ever mad full stop.OZ is the greatest show ever mad full stop.OZ is the greatest show ever mad full stop.OZ is the greatest show ever mad full stop.OZ is the greatest show ever mad full stop.OZ is the greatest show ever mad full stop.OZ is the greatest show ever mad full stop.OZ is the greatest show ever mad full stop.OZ is the greatest show ever mad full stop.OZ is the greatest show ever mad full stop.OZ is the greatest show ever mad full stop.OZ is the greatest show ever mad full stop.OZ is the greatest show ever mad full stop.OZ is the greatest show ever mad full stop.OZ is the greatest show ever mad full stop.OZ is the greatest show ever mad full stop.OZ is the greatest show ever mad full stop.OZ is the greatest show ever mad full stop.OZ is the greatest show ever mad full stop.OZ is the greatest show ever mad full stop.OZ is the greatest show ever mad full stop.OZ is the greatest show ever mad full \n",
            "\n",
            "8. The Hand of Death aka Countdown in Kung Fu (1976) is a vastly underrated early work by director John Woo. The film stars Dorian Tan (Tan Tao-liang) and features Jackie Chan, Sammo Hung and James Tien in significant supporting roles. Many people believe, or have been lead to believe by deceptive advertising, that this is a Jackie Chan film. This is not a Jackie Chan film, Dorian Tan is the star but Jackie gives one of his best (most serious) early performances.<br /><br />The Hand of Death is about a Shaolin disciple named Yunfei (Tan) who is sent on a mission to assassinate a Shaolin traitor named Shih Xiaofeng (Tien) and protect a revolutionary named Zhang Yi (Woo). Along his journey Yunfei meets up with a young woodcutter named Tan (Chan) and a disgraced sword fighter (Chang Chung) known as \"the wanderer.\" Both men have suffered at the hands of Shih and want to take revenge. The three team up to defeat Shih and his eight bodyguards and escort the revolutionary to safety.<br /><br />The martial arts action is above average under the direction of Sammo Hung. Dorian Tan uses his trademark high kicks very effectively as the \"Northern eighteen styles kicks\" along with some \"Southern five styles boxing.\" Sammo Hung and Jackie Chan provide excellent martial arts performances as well. James Tien is not the greatest martial artist on the Jade screen but does an acceptable job. Some of the early fights are a bit slow and seem over choreographed but the final showdowns featuring Chan, Tan and Hung are very good.<br /><br />Director John Woo provides plenty of interesting character development in the film, which is refreshing. The cinematography by Leung Wing Kat is very stylish, unique and beautiful for a kung fu film of this era. Joseph Koo's music: a combination of soft flutes and 70's \"Shaft\" style orchestral pieces is kung fu cinema at its best. Hand of Death is not Jackie and Sammo's usual kung fu comedy. Hand of Death is a serious, straightforward revenge driven story.<br /><br />Hand of Death aka Countdown in Kung Fu is an underrated classic in the old school kung fu genre. The film is one of the best artistically of its time and a preview of the great things to come from Jackie Chan and Sammo Hung. Hung's great choreography is put on display here before his directorial debut and Chan's early charisma and talent can be clearly seen.<br /><br />Hand of Death is a solid, stylish old school kung fu film and a brilliant early work of the legendary John Woo.<br /><br />Kung Fu Genre Rating 7.5/10 <br /><br />Wanderer to Tan (referring to his new weapon): \"The Little Eagle Wing God Lance.\" <br /><br />Tan: \"Just a knickknack.\" \n",
            "\n",
            "9. This is a great German slasher, that's often quite suspenseful, and creative, with a fun story and solid performances. All the characters are cool, and Benno Fürmann is great as the psycho killer, plus Franka Potente gives a fantastic performance as the main lead. It did take a little while to get going, but it was never boring, and it had some good death scenes as well, plus the music is wonderfully creepy. I was lucky enough to get the subtitled version, instead of the dubbed, and I thought all the characters were quite likable, plus it's very well made and written as well. It has some really good plot twists too, and the effects are extremely well done, plus the ending is great. The finale is especially suspenseful, and Franka Potente was the perfect casting choice in my opinion, plus I wish Arndt Schwering-Sohnrey(David) didn't get killed of so soon, because he was a really cool character. There were actually a couple of moments where I felt uncomfortable but in a good way, and I must say this film deserved all it's praise, plus while it does have plot holes, it's not enough to hamper the film. This is a great German slasher, that's often quite suspenseful, and creative, with a fun story, and solid performances, I highly recommend this one!. The Direction is great!. Stefan Ruzowitzky does a great! Job here with excellent camera work, very good angles, great close ups (see the opening sex scene), doing a great job of adding creepy atmosphere, and just keeping the film at a very fast pace.<br /><br />There is quite a bit of blood and gore. We get cadavers cut open,plenty of very gory surgery scenes,lots of bloody stabbings,people are dissected while still being conscious, severed finger, self mutilation, gutting's, bloody slit throat, lots of wicked looking frozen corpses, plenty of blood and more.<br /><br />The Acting is very solid!. Franka Potente is fantastic as the main lead, she was very likable, remained cool under pressure, was vulnerable, easy on the eyes, and we are able to care for her character, the only time she seemed to suffer, was when she had to spurt out some bad dialog here and there, but that wasn't very often, she was wonderful!. Benno Fürmann is excellent as the psycho killer, he was simply chilling, and wonderfully OTT, he really gave me the creeps, and was one effective killer!. Anna Loos played her role very well, as the smart slut, I dug her. Sebastian Blomberg was great here as Caspar, he was quite likable, and had a mysterious character,his chemistry with Potente was also on, and there was a great twists involving him at the end. Holger Speckhahn was good as the Idiot Phil and did his job well. Traugott Buhre is good as Prof. Grombek. Arndt Schwering-Sohnrey was great as David, he had a really cool character, and I wish he didn't get killed of so soon. Rest of the cast do fine.<br /><br />Overall I highly recommend this great German slasher!. ***1/2 out of 5 \n",
            "\n",
            "10. Wallace and Gromit are the main characters in some of the best cartoons ever crafted. The excellent mix of visual humor and claymation makes \"A Grand Day Out,\" \"The Wrong Trousers,\" and also \"A Close Shave\" some of the best animated footage ever put on television. Winning several Oscars and also countless other awards, Nick Park became quite the popular man in the U.K., yet his impact on the United States has not been big. After the third Wallace and Gromit short, there was all this speculation about a full-length Wallace and Gromit movie, yet for years nothing had happened. Then in 2000 instead of a full-length Wallace and Gromit film, we get another brilliant claymation film from Nick Park, which was Chicken Run, which almost got nominated for best picture in the Academy Awards. Perhaps it was the success of this film that ultimately drove Park to finally work on a Wallace and Gromit project.<br /><br />5 years later (these kinds of films do take long you know) and a lot of anticipation, Wallace and Gromit finally hits the big screen. Despite the rather weak trailers and marketing campaign, this movie delivers in so many ways. This film will be a delight for both kids and parents. With tons of adult humor hidden beneath the brilliant animation, Wallace and Gromit: Curse of the Were-Rabbit is one of the few films that perfectly manages to equally appeal to both kids and adults. This rather difficult technique is one that only Pixar has already perfected and DreamWorks has had a lot of trouble doing lately. Despite the DreamWorks logo slapped onto the poster, this film is mainly from the very creative staff of Aardman Animations.<br /><br />Wallace and Gromit are first seen running a business that protects the townspeople's crops from being ruined by rabbits, which apparently had been running around wild and in great numbers lately. Their business has gotten them plenty of respect from the others living in the town because a gigantic vegetable contest was rapidly approaching and the crops needed protection. Complications arise when Wallace attempts to manipulate the rabbits into not liking vegetables and then a great eating machine is unleashed on the area. It is up to Wallace and Gromit to find the gigantic animal and stop it from eating away through gardens and also their approval from the townspeople. To add to that, Wallace wants to impress Lady Tottington, which also captured the attention of a snobby suitor by the name of Victor. Simple plot yes, but there is more than meets the eye, be prepared for a few fun surprises along the way, kind of like in the other Wallace and Gromit cartoons.<br /><br />In animated films with little dialogue, it is the animation that has to set the pacing and the mood of the film. Despite requiring 5 years to produce only 85 minutes of footage, the payoff is fantastic. There is a massive amount of detail that requires more than one viewing to truly notice. Even more incredible than the detailed and nearly flawless animation is the truly unspeakable amount of visual humor put into the film. Whether it is a creatively placed shot or normal labels put into the funniest position possible, or it is the oh-so-adorable rabbits that is constantly shown in the film, most Curse of the Were-Rabbit's humor comes strictly from just watching the movie itself and catching all the references before it is too late. Just picture the movie Madagascar, except funnier much fewer pop culture references, and better animation.<br /><br />Casting was great, even though in a film with not much dialogue, it was not that important. Peter Sallis yet again does a wonderful job as Wallace, even though in this movie there was no stand-out quote that can be used anytime (The Wrong Trousers: \"It's the wrong trousers Gromit, and they've gone wrong!\"). Ralph Fiennes does a superb job as the lead villain Victor and also Helena Bonham Carter (known as the crazy female lead in the cult hit \"Fight Club\") lends her lovely voice as she plays Wallace's love interest. Even though nothing could top the final chase in \"The Wrong Trousers,\" Curse of the Ware-Rabbit did have plenty of action scenes, including one fantastically done chase scene between Gromit and Victor's evil dog. Last but not least, the rabbits really steal the show at some moments. Whether it is their cute expressions, their funny movements, or their howling, the rabbits in the film even take some of the glory from the main stars. The funniest rabbit in the movie is the \"cursed\" rabbit himself, to the very end of the movie he had the audience rolling in laughter.<br /><br />Bottom Line: Despite not being as memorable as \"The Wrong Trousers\", this film is just as good and entertaining as Chicken Run. Unlike almost every movie to come out this year, the movie does not drag at all, clocking in at a short 85 minutes yet containing so much joy and fun, it will leave everyone watching it asking for more. There is very little wrong with the film; it was a pure delight to watch. This film is a total contrast of the decent yet vulgar, uncut, raw movies that have made a surprising amount of money earlier this year (40-Year-Old Virgin, Wedding Crashers, and Sin City) and for families and those who want harmless entertainment; that is a good thing. Highly recommend, this is the top animated movie to come out this year and among the best we have seen this decade. Wallace and Gromit: Curse of the Were-Rabbit: totally harmless fun from second 1 to second 5,100. \n",
            "\n",
            "11. Looking back at the career of Alfred Hitchcock, it never fails to be surprising how such a brilliant and visionary man could be denied sufficient recognition for how revolutionary he was for the film industry. It is likely a sign of how ahead of his time Hitchcock was, always attempting to push the envelope, and never coasting along with a film made simply for the purpose of being entertaining, but always with a deeper, more poignant motive on his mind. Strangers on a Train, one of Hitchcock's first and more underrated hits, is a perfect example of these traits - an entertaining and suspenseful story, even when viewed over 50 years later, yes, but so carefully and intelligently constructed it stands today as a masterpiece in film technique. <br /><br />Arguably one of the pioneering \"suspense thrillers\", Strangers on a Train may come across as slightly dated in certain aspects, but it retains every bit of superbly crafted tension as it did back in 1951 (if perhaps slightly less shocking). The brilliant use of cinematography and lighting as well as quick, careful editing are what really make the film stand out, drawing out every possible iota of tension and retaining the audience's focus even in slower scenes. If there was ever any doubt of what a simply masterful filmmaker Hitchcock was, simply watching five minutes of Strangers on a Train should be enough to disavow such sentiments; every shot is so carefully chosen and constructed, all serving to drive the storyline ahead in a particularly innovative fashion. Sadly enough, there are certain moments in the story which are screechingly out of place enough to jar our focus away from the superb cinematography and editing - Bruno being able to reach down to the bottom of a sewer grate is simply unbelievable, and the figure of a stereotypical old man crawling under a wildly out of control carousel provides unintentional comedic relief in what is meant to be the film's most tense and engaging scene. These are only brief moments, but they are enough to stand out as painfully weak in an otherwise stellar film.<br /><br />But what really makes Strangers on a Train stand out is the story premise. As Hollywood films of late run the risk of descending inescapably further and further into the vat of turgid clichée after clichée, it's wonderfully refreshing to see a 50 year old film with a premise which actually comes across as smart and original. Sure it's fairly straightforward, but the concept of \"swapping murders\" is simply one that would not fly in films of today's day and age, which makes it all the more entertaining to watch; the film's brilliant screenplay keeps the action flowing at a swift pace while providing us with some wonderfully memorable lines all the while. One can't help but notice the deeper themes Hitchcock is alluding to throughout as well, especially the concept of \"darkness in humanity's heart\", demonstrated by elderly ladies being fascinated and exhilarated by the prospect of murder, as well as Bruno's own cavalier attitude towards death. Hitch also works in many moments of dark humour (Bruno popping a child's balloon with his cigarette is priceless), and irony, shooting suspenseful scenes in happy, easy-going environments, such as the iconic carnival scenes, to create an even more eerie atmosphere. This may be a suspense thriller, yes, but to overlook the brain concealed beneath it would be simply inexcusable. <br /><br />The antagonistic figure of Bruno (essayed to perverse perfection by Robert Walker, sadly in his last film role, but easily stealing the film from his admittably very talented fellow cast members) is without a doubt what makes Strangers on a Train so memorable, as the character is a marvel to behold. Here we have a simply superbly crafted villainous figure, all the more intriguing by how ordinary and unassuming he seems. Rather than cackling madly and thwarting the hero at every possible moment, Bruno is a calm, controlled, psychotic mess. He speaks of murder in such an offhand tone, yet retains a passionate glint in his eye when discussing different fashions of killing people. Bruno could seem to represent the \"Id\", as Freud would put it, the inner, darker and uninhibited aspects of mankind. It makes an interesting contrast to the hero figure, Guy Haines, and how bland and uninteresting he seems, almost as if to drive home the prospect of evil being much more interesting and appealing than constantly striving to do the right thing. <br /><br />Yet despite this implied message, Hitch still twists our emotions enough that we root for Guy at every turn, and cheer at each new obstacle he is forced to overcome. It's a testament to actor Farley Granger's talent that despite Robert Walker's villain easily stealing the show, Granger's hero still comes across as sympathetic, still commanding our support even when falling prey to being a far less compelling character. Superb support is given by Ruth Roman, who manages to overcome the clichée and be a more innovative and complex romantic interest figure, Kasey Rogers giving a stunning performance as Guy's horrifyingly manipulative and hedonistic first wife, and Patricia Hitchcock, proving that she is far more talented than being simply \"the director's daughter\" would imply. The superb cast (headed by a simply wonderful Walker) really bring the film to life, adding so much more merit to the film than simply Hitchcock's breathtaking stylistics. <br /><br />All in all, Strangers on a Train may still come across as slightly too dated for certain viewers, but it's still a shock how modern and appealing to contemporary audiences seems, considering it was released half a century ago. Once again, Hitchcock proves his unparalleled mastery of tension and film technique, and the film's surprisingly original and enjoyable premise is alone worth a viewing. Highly recommended to anyone wishing to undertake a brilliantly made but superbly entertaining film experience! <br /><br />-9/10 \n",
            "\n",
            "12. 1983 was \"the battle of the Bonds\". That year both Roger Moore and Sean Connery starred in two separate James Bond film, the former (Octopussy) was produced by the \"official\" makers of the Bond films while the later (Never Say Never Again) was produced \"unofficially\" by a group led by Kevin McClory who held the film rights to Thunderball. Surprisingly enough is the \"unofficial\" film that is better despite the obvious flaw of and the fact that Never Say Never Again is a remake of Thunderball.<br /><br />Never Say Never Again has the distinction of sporting one of the best casts ever assembled for a Bond film. It all starts with Sean Connery, returning to the play Bond for the first time since 1971's Diamonds Are Forever. Connery might be older then he was then but he looks better here then he did in Diamonds Are Forever. The Bond of Never Say Never Again is the sleek and dangerous shark of Dr. No or From Russia With Love, just a few years older. Connery's delivery of one liners and dialogue is as dead on as it ever was. The one downside to Connery's age is his believability, especially when it comes to the ladies of the film. Let's face it even Connery, despite being in top physical shape, looks as odd as Moore when he is bedding women half his age. Yet despite this believability issue, Never Say Never Again shows Connery in one of his better Bond performances and a definite improvement on his two earlier Bond performances.<br /><br />Kim Bassinger plays Domino in one of her early film roles. Bassinger plays the role with considerable confidence for a relative newcomer and she makes the character believable. Bassinger holds her own against her co-stars and has considerable chemistry with them as well. In fact she may well outshine her Thunderball counter-part played by Claudine Auger.<br /><br />Then there's the villain, Maximilian Largo played by Klaus Maria Brandauer. Brandauer's Largo is everything a James Bond film villain should be: suave, charming, evil and above all believable none the less. Brandauer makes the role realistic and chooses not to fall into the trap many other Bond villains have fallen into by going over the top. Brandauer plays Largo with a silent menace and charisma unseen in many adversaries of 007.<br /><br />The excellent cast extends into the supporting cast as well. Barbara Carrera makes a fine henchwoman in Fatima Blush and the screen lights up when she appears. Max Von Sydow a nice appearance as Blofeld, though his appearance is more akin to a cameo. Rowan Atkinson makes an appearance as Bond's bumbling contact that makes for some of the best scenes in the film. With all that the highlight of the supporting cast comes from the MI6 staff from Edward Fox's M who makes for a great contrast to Bernard Lee, Pamela Salem who make s affine Moneypenny and the icing on the cake with Alec McCowen's wonderful Q. The supporting cast has a couple of misfires though in the form of Bernie Casey as Felix Leiter and Gavin O'Herlihy as Jack Petachi who both seem to lack credibility in their respective roles. Otherwise this film sports one of the best casts ever assembled for a Bond film.<br /><br />On top of an excellent cast the film has several other essential ingredients. From the opening Central America sequence to the fight at Shrublands to the underwater sequences and motorbike chase, this is a film where the action sequences are not only great but service the plot as well for the most part. The film also sports good special effects in terms of cruise missile models, explosions, and all the things we expect from a Bond film. Irvin Kershner, then fresh off doing The Empire Strikes Back, brings a tight sense of direction to the film especially in sequences like the substation of nuclear warheads and the subsequent theft of the cruise missiles.<br /><br />Yet this film is far from perfect. Never Say Never Again is easily one of the most dated of the Bond films with its heavy use of 1980's computer sand video games. While technology dates any film after a time, this film's heavy reliance on it, especially in the hijacking of the cruise missiles and the Domination sequence makes the film look incredibly dated some quarter of a century after its release. The script also tends to suffer from predictability due to the very fact it's a remake of Thunderball.<br /><br />Yet for its predictability the script for Never Say Never Again is pretty good. The script sports good dialogue scenes, not a single cringe worthy one liner (how many of the Roger Moore era scripts can you say that about?), some humorous situations, and yet is watchable and tense for the most part. Once you look past he fact that it's a remake, there's quite a lot of good things in the script for the film.<br /><br />Music is in fact the biggest weakness of the film. Due to the \"unofficial\" status of the film, the James Bond Theme could not be used. That said this could have shown with the right composer that a Bond score without it could work. Unfortunately Michael Legrand's score is far from adequate. Legrand's score is totally out of place in a Bond film and there is only of or two places where it actually works. To make matters worse the film is also lumbered with one of the worst title sequences ever to grace a James Bond film.<br /><br />Despite being heavily dated, somewhat predicable, and having a bad score Never Say Never Again is still a good Bond film. With one of the best casts of any Bond film, good action sequences, good special effects, good direction, and some terrific dialogue, this film proves that \"unofficial\" isn't a bad thing. In fact it is is better then Octopussy and the winner of \"the battle of the Bonds\". \n",
            "\n",
            "13. Anthony Minghella's 'The English Patient' is a film that takes us back to the golden years of Hollywood. It is grand and impressive in scale, and yet so heartbreakingly intimate in its portrayal of human love and suffering. At the 1997 Academy Awards, the film owned the night, taking home nine awards from twelve nominations, the most decisive cleansweep since Bernardo Bertolucci's 'The Last Emperor' in 1988. Based on Canadian author Michael Ondaatje's 1992 Booker Prize-winning novel of the same name, 'The English Patient' is a touching meditation on life, love and loss, tracing the history of a critically-burnt man in the aftermath of World War Two.<br /><br />During the war, a man (Ralph Fiennes) is discovered in the burning remnants of a crashed plane. With his face scarred beyond recognition, and with the man seemingly suffering from amnesia, he is assumed to be an Allied soldier, and is simply referred to as \"the English patient.\" After the war, in the mine-ridden hills of Italy, a kind nurse, Hana (Juliette Binoche), who has apparently lost everybody close to her, remains in a ruined monastery to look after the dying man. Over time, she comes to learn more and more about her \"English patient,\" who is actually revealed to be a Hungarian geographer, Count Laszlo de Almásy. Rather than losing his memory in the plane crash, we learn that this scar-ridden man has perhaps chosen to forget his past, both to protect himself from persecution and to cure himself of the tragic memories of his past love. Via numerous flashbacks, we learn of Almásy's former exploits in the Sahara desert, and his romantic liaison with a married woman, Katharine Clifton (Kristin Scott Thomas).<br /><br />It's certainly easy to see why 'The English Patient' was so successful at the Oscars. It is such a beautiful film, blending the quiet beauty of the Italian countryside with the endless golden sands of the desert. Cinematographer John Seale captures the landscape to perfection; not since David Lean's magnificent 'Lawrence of Arabia' has a film shown the desert with such beauty and grandeur, making particularly good use of sweeping aerial shots from Almásy's plane. Even in the film's more intimate moments, excellent use of close-ups and lighting capture the emotion of the scene, coupled, of course, with the brilliant performances from all the cast members.<br /><br />A long-time favourite actor of mine, 'The English Patient' might just contain Ralph Fiennes' finest performance, and, considering his history includes such films as 'Schindler's List' and 'The Constant Gardener,' this is not a complement that is to be taken lightly. His Count Laszlo de Almásy is initially a very sympathetic character, but, as we slowly learn more about his past, his likable qualities are eroded by his less-admirable tendencies towards others. \"Ownership\" is a major theme of the film. When asked by Katherine what he hates most, Almásy replies with \"Ownership. Being owned. When you leave you should forget me.\" However, as the relationship progresses, and Katherine perhaps tries to distance herself from him, Almásy reveals a hint of arrogance, insisting that his love for her somehow entitles him to have her whenever he likes: \"I want to touch you. I want the things which are mine, which belong to me.\"<br /><br />Juliette Binoche, who received an Oscar for her performance here, is excellent as Hana, the lonesome nurse who fears to love because of the tragedies that have always harmed those close to her. After some time of caring for Almásy alone, she is joined by a dubious Canadian thief, David Caravaggio (Willem Dafoe), who lost his thumbs during the war, and who suspects that it was Almásy who betrayed him to the Germans. Hana also strikes up a tentative romantic relationship with Kip (Naveen Andrews), an Indian bomb-diffuser in the British Army. However, due to her past history, Hana is afraid that becoming involved with Kip will doom him to death, particularly considering his very dangerous line of work.<br /><br />At 160 minutes in length, 'The English Patient' wonderfully evokes memories of the classic romantic epics of old, successfully finding a balance of mystery, love, joy and tragedy. The ending of the film is heartbreaking and sorrowful, but also uplifting in its own way. Whilst some romantic relationships are doomed from the very beginning, others have a very good chance of bringing happiness. Nevertheless, in every case, it is always better to have loved and lost, than never to have loved at all. \n",
            "\n",
            "14. I have never been a great fan of Oliver Stone, often because I have found his films to be forced, preachy and generally flawed. The two Stone films I truly like are JFK and Talk Radio, yet Talk Radio takes the cake for being Stone's finest achievement. Stone is a director whereby you are either a fan or you are not, it is safe to say that before watching Talk Radio I was not fond of the guy and considered one of the most overrated directors in the film industry, though after watching Talk Radio some of my perceptions have changed. Talk Radio is an unsettling and amusing attack on what is now known as \"reality TV\".<br /><br />Talk Radio follows a self-indulgent, dysfunctional, determined, hysterical, outrageous and perplexing radio host, named Barry Champlain who hosts a controversial late-night radio show in Dallas. Quickly becoming well known for his bold and quirky air-presence he becomes a late night sensation, whereby depraved junkies, delinquents, racists, sociopaths, sickos, perverts and morons call in to be ridiculed on air. The film shows the rise and fall of the man's career, carefully making an accurate portrayal on freedom of speech. Originally adapted from a stage-play, the film attaches itself to the theatre theme that it was originally built around, wonderfully conveying the film's fierce nature.<br /><br />With the ferocious energy and non-stereotypical air, Talk Radio brings all the hilarity behind \"crass media\". It remains even more poignant today than it was in the late '80s. The film goes into depth studying the likes of arrogance, self-obsession, offensive behaviour, controversy, hypocrisy and ignorance. The film shows through a controlled manner how it is good to have a personal opinion and freedom of speech, yet it is something that should be used wisely rather than shamefully blunt. Stone tries to show how freedom of speech is a crucial importance in life, but is something that we should be wary and cautious about. The film asks the question of \"is our main protagonist just the same as the sad people who call up the show?\" <br /><br />Stone fabulously creates the film's key set-piece (the radio station) with an ambition and cold atmosphere. He then succeeds in capturing the isolation, fear, ambiguity and the dangerous emotions that are built up at the radio station. Eric Bogosian is perfectly cast as the isolated, self-absorbed and complex genius, Barry Champlain. He fits the role perfectly letting off his lines with such enthusiasm, urgency, perplexity, brusqueness and ultimately the bold hilarity of his offensive nature. The performance brims with spark, which was evidently robbed of an Oscar nomination. His voice suits the character, being that a primary element of a radio host and his power of acting along with tragedy and comedy works brilliantly.<br /><br />There is a strong use of editing in Stone's films and Talk Radio boasts some of his cleanest, most rhythmic editing. He uses beautifully controlled camera techniques, which differ from being calm to suddenly becoming turbulent. There is a vibrant energy behind the film, with its raw and wonderfully delightful script working as a centre-piece for the greatness of the film. The striking and virtuous cinematography stands out in the moments inside and outside the studio, most impressively capturing the city at night. Not forgetting the hauntingly heartbreaking and yet darkly funny climatic \"spiral to decline\" is ultimately remarkable cinema.<br /><br />Talk Radio is an essential modern masterpiece, I am certain you will be surprised by just how great it really is. I highly recommend Talk Radio for anyone interested in media or film. Talk Radio is a fine example of top-notch, intellectual and insightful entertainment, which still packs a well-earned wakeup call. Finally, if it was not for Eric Bogosian the film would not be the fun, delightful and enduring masterpiece it is today. \n",
            "\n",
            "15. This is a surprisingly great low budget Horror/Comedy, it's funny and pretty well made, with good performances and a really cool twist ending!. All the characters are pretty cool, and the story while unoriginal is very good, plus Eric Jungmann(Adam) and Justin Urich(Harley) had fantastic chemistry together. One of the funniest moments in the film for me is when Adam is trapped in the bathroom, and Harley wakes up to find that monster truck sitting there, and decides to take a p*ss in the truck, and Aimee Brooks is just plain sexy!, plus this is one of the best low budget Horror films I have seen in a long time. It's very gory, but in a comical way, and I thought it was very well written as well, plus Michael Bailey Smith is fantastic as the Monster Man and had some wicked makeup!. It's similar to films like Joy Ride, Duel, Jeepers Creepers, etc, etc and it has some suspenseful moments here and there, plus The gore effects are really well done for the most part. This is a surprisingly great low budget Horror/Comedy, it's funny and pretty well made, with good performances and a really cool twist ending, I highly recommend this one!. The Direction is very good!. Michael Davis does a very good! job here, with great camera work, good angles,good use of colors, and using a great setting, plus he kept the film funny and at a very fast pace.<br /><br />There is a lot of gore!. We get extremely bloody nose bleeds,gory impaling's, bloody stabbings,guy is cut in half by a monster truck, human remains in a cooked stew, guts all over the place,guys guts fall out,pencil in the eyes,bloody slit throat,bunch of people walking around without limbs,gory dead squirrel,heads are squished,severed limbs,bloody and mangled corpses,decent amount of bloodshed,one very gory scene at the very end and more!.<br /><br />The Acting is very good for a low budget film. Eric Jungmann is fantastic here as Adam, he was a nerd but a very likable one, he had fantastic chemistry with Justin Urich, had some cool lines,and I just loved his character, he also seemed to be enjoying himself,and he was especially good at the end!. Justin Urich is excellent as the ass of a Best Friend, however I just couldn't help but love him as he was very funny, and often stole a lot of the scenes, I really dug him!. Aimee Brooks is gorgeous, and did great with what she had to do, she had good chemistry with Jungmann and like Jungmann was especially good at the end, as I loved her mysterious character. Michael Bailey Smith is wonderful as The Monster Man he was very creepy looking, had some awesome makeup, and is now one of my favorite slashers!. Rest of the cast do fine.<br /><br />Overall I highly recommend this one!. ***1/2 out of 5 \n",
            "\n"
          ],
          "name": "stdout"
        }
      ]
    },
    {
      "cell_type": "code",
      "metadata": {
        "id": "J5uJP_4ePSv-",
        "outputId": "7595e6c9-488c-4d03-98e6-998d282cc6da",
        "colab": {
          "base_uri": "https://localhost:8080/",
          "height": 592
        }
      },
      "source": [
        "print('ТОП-15 негативных рецензий: \\n')\n",
        "\n",
        "counter = 1\n",
        "for text in texts_top_neg:\n",
        "  print('%d. %s \\n' % (counter, text))\n",
        "  counter += 1"
      ],
      "execution_count": null,
      "outputs": [
        {
          "output_type": "stream",
          "text": [
            "ТОП-15 негативных рецензий: \n",
            "\n",
            "1. La Ragazza del Vagone Letto, or Terror Express! as it was called on the version I saw, starts as various passengers board a long distance train. Three thuggish idiots, Dave, Phil & Ernie (Carlo De Mejo) board & it's clear that they're there to cause trouble as they intimidate & verbally abuse the other passengers & staff. As the train speeds along things turn nasty when a prostitute named Juliette (Silvia Dionisio) refuses to have sex with Dave, he & his mates decide to hold the entire train hostage so they can have an orgy with Juliette &, well not much else actually happens apart from some hero cop & his prisoner who set about saving the day. Erm, that's it really...<br /><br />This Italian production was directed by Ferdinando Baldi & is complete total & utter crap from start to finish. The script by George Eastman as Luigi Montefiori could just as easily be described as a really boring porno as much as a horror/thriller. It is tediously slow, it's 35 minutes before anything even remotely sleazy happens & as a whole the film lacks the sort of exploitation elements that Italian sleaze & horror was delivering at that time. The film can be compared to another Italian production the infinitely better The House on the Edge of the Park (1980) made the same year, it's a very broad comparison though as everything that made The House on the Edge of the Park the notorious film that it is is absent from La Ragazza del Vagone Letto, there's no blood, no gore, almost no violence, there's only a couple of really tame rapes, the story has no twists or turns & as it's incredibly boring to watch. Italian sleaze & horror from the late 70's & early 80's isn't known for it's strong story lines or great scripts but this films really does scrape the bottom-of-the-barrel on all counts. The character's are awful, the film spends the first 30 plus minutes building them up & giving some background as to why they're on the train but this is all quickly forgotten & comes to absolutely nothing. I hated the lame ending as well & I don't know if I missed something but was any sort of reasonable explanation given as to why these three lamebrains would hijack a train? I don't think there was, was there? I'm sorry but because your angry at a prostitute is not enough of a reason, surely the filmmakers could have come up with something a bit more substantial & interesting if not more plausible. In my opinion this film stinks, it's as simple & straight forward as that I'm afraid.<br /><br />Director Baldi does an OK job, to be fair he only has one corridor & a few train compartments to work with so I'll cut him some slack, having said that the film does become very repetitive. There is no style & he films the sex scenes like a bad soft core porno complete with awful romantic sounding piano music. There is NOT ONE SINGLE DROP OF BLOOD SPILT IN THE ENTIRE FILM, that's right not one single drop. Forget about any gore or violence as you'll be very disappointed if you do, like I did. There are a couple of rapes but they're amateurishly staged & have zero impact, the nasty exploitation & sleaze of say I Spit on Your Grave (1978) or The Last House on the Left (1972) is not here.<br /><br />Technically La Ragazza del Vagone Letto is OK & it's quite well made on what must have been a low budget but the setting obviously helped keep the cost down to a minimum. The acting is poor as usual, although since it was dubbed the original performances have been lost. Fans of Italian horror will recognise a lot of the voices here.<br /><br />La Ragazza del Vagone Letto is a terrible film, it's just my opinion but I was bored to tears waiting for something to happen & when it eventually never I felt cheated, I want those 80 minutes of my life back. This piece of crap isn't even fit to grace the 99p VHS bargain bin in your local Blockbuster, one to avoid. \n",
            "\n",
            "2. I knew it was going to be awful but not this awful!!, as it's one of the most boring movies i have ever seen, not a damn thing happens!. All the characters are dull, and the story is stupid and incredibly boring!,plus The ending is especially lame!. The only reason i rented this piece of crap because i am a big fan of Michael Dudikoff, however he is wasted here, and looks extremely bored and shows no emotion what so ever!, plus i cheered out loud when the movie was over!. It's like the movie had no plot and it was all about nothing, and Ice-T is god awful(even though he is OK in some stuff), plus Dudikoff and Yvette Nipar had no chemistry together at all. There's one scene that the director tried to make emotional but he fails miserably as Yvette Nipar didn't really show all that much emotion, however there is a decent Car chase scene, but that's not enough for me to recommend this god awful film!, plus the dialog is atrocious. Avoid this movie like the plague not a damn thing happens, please avoid and trust me on this one you may thank me afterwords. The Direction is horrible!. Fred Olen Ray does a horrible job here, with shoddy camera work, laughably cheap looking set pieces, terrible angles, laughable use of stock footage, and keeping the film at an incredibly dull pace. The Acting is terrible!. Michael Dudikoff is nowhere near his usual amazing self, he looks extremely bored, and shows no emotion what so ever, his character is also extremely dull, as i can't believe he signed on for this piece of garbage, he also had no chemistry with Yvette Nipar(Dudikoff still rules!!!). Ice-T has barely anything to do and also looks bored, and he didn't convince me one bit. Hannes Jaenicke is not very good here, he had somewhat of a wimpy character, i didn't like him. Yvette Nipar is pretty but was really terrible here, she didn't show much emotion, and had no chemistry with Dudikoff, and as a result i didn't give a damn about her character!. Art Hindle,(Owen Marsh),Kathy Harren(Katharine Marsh), and the rest of the cast are bad as well. Overall Please avoid like the plague!, Fred Olen Ray and Steve Lathshaw should be ashamed of themselves!. BOMB out of 5 \n",
            "\n",
            "3. For the first time in reviewing films, I found myself immediately uninterested in this story. I don't know if it was the way that it was filmed or the story behind the characters, but it felt bland, overused, and completely unoriginal. Within the first thirty minutes, I found myself rather apathetic with all the characters and the story. I felt as if I had seen this structure before, and Tart was providing nothing new to surprise me. After thinking that it may just be my mood, I stopped the film and chose to start it fresh in the morning, but the same feeling persisted. I just didn't care. That is not a good sign. The characters were bland. When I say bland, I literally mean that by watching them develop, you will never have any flavor hit your palate. The story seemed recycled, nearly to the point of plagiarism. Now, I am not saying that Christina Wayne stole this story, but she added nothing fresh to the perspective. The casting was horrid, the underlying symbolism and themes were so far lost that no critic could find them (nor the characters), and the stories were vague and sloppy. You knew nothing about anyone or anything, and instead of pushing more emphasis on the characters, we instead found ourselves with drugs, minor sex, and money pushed into our faces. These are themes we have seen in every film since the dawn of film time, yet somehow could not be creatively captured by Wayne.<br /><br />What immediately pulled me away from this story? It was mainly the characters. I have seen most of Brad Renfro's work, and honestly he needs to redefine himself. Director Larry Clark has defined him, and oddly he cannot get out of that stereotypical character. Within the first twenty minutes of Renfro's screen time I was bored. I knew exactly what he was trying to portray and why. It was spectacular nor impressive, just repetitive. He needed to bring some excitement or suspense to his role, instead of just blandly playing this random socialite. Without a strong character, the final climax of this film comes instead as a letdown. Renfro did not showcase the best of his abilities in this film. While I am on the subject  nobody showcased the best of their abilities. What is going on with Dominique Swain, outside of Lolita, I don't believe she has really emerged as an actress, and following-up with roles such as Cat Storm doesn't help. Bijou Phillips was the only actress that I witnessed actually try to bring something remarkable to the screen, sadly due to everyone else's horrid acting, she was lost. Rambling here and there, and honestly nearly forgotten about during the second act. Melanie Griffith was a pointless cast and most of this film's budget probably went to her TWO scenes that she was in. Maybe the rest of it went to the random guy from The Kids in the Hall, who desperately needs to place himself far away from this project.<br /><br />My biggest problem, outside of the acting, was the pacing of this film. Nothing, and this is hard for me to say, but nothing gelled together. There were so many sub-stories happening throughout the course of the film that no actual substance was formed. The robberies, the teenage \"angst and woe\", the wealthy socialites learning how horrible real life is, the random Kids in the Hall guy, and even the ending just felt rushed and horribly edited together. With this shoddy craftsmanship the whole story never really formed any true shape. Family structures were never defined, characters were never given any emotion, and all we are left with are bits and pieces of honest leftovers. Wayne did not complete the task at hand.<br /><br />While I hate to put the entire burden on the director, with this film I am left with little choice. With a horrid title that just screamed the complete opposite of what this film was about, with amateurish directional ability the cast pretty much was able to give every emotion in every scenes, leaving us with disgusting acting and poor developments, and with vague storytelling it is hard to place any \"good\" behind Tart. This was a film I had heard nothing about, and after viewing it I can see why. All Wayne has done with this film is random take excerpts from other films that have done a better job of defining all the elements above and cut all together to make the film Tart. It is hard for me to say this, but Wayne ruined this film. While I don't believe there was much to fully take from the story, any remaining elements of excitement were drained as Wayne took the helm. While most of the time you can credit some of the story, perhaps strong acting, or even the music, in Tart you can credit nothing. From the opening sequence until the end, I felt like I was swimming through very lumpy oatmeal. No consistency, no strength.<br /><br />Overall, this film is a waste of your time. If you are searching for some deep symbolic elements or possibly some banter on our society, you will not find it in this film. While I know that was what Wayne was attempting to show, the final product seems like it was edited on an Etch-a-Sketch. It was an embarrassing film to sit through, and encourage nobody to pick it up. Wayne threw to the wind all the teachings of her Columbia University education and destroyed two hours of my life. Avoid at all costs! <br /><br />Grade: * out of ***** \n",
            "\n",
            "4. My qualifications for this review? I own all the Alien and Predator movies & I have and have read almost all the books I can find that are related to this series.<br /><br />I can safely say, this movie is a Stinker. Save your money & don't waste your time. If you like mindless action, mindless gore, no plot to speak of & like being taken by Hollywood, see the movie.<br /><br />If you are a serious Alien series fan, send a message to the over stuffed, over paid suits in Hollywood & 20th Century Fox & don't give them a penny.<br /><br />This movie has so many plot holes in it you could sieve pasta through it. Read the other negative reviews to get the big picture, it has all be said accurately, so I don't have to repeat them.<br /><br />The characters in this movie are cardboard. You want them all dead. And, the movie doesn't disappoint, almost all of them die. Even the hot, bubble headed blond. Do you feel sorry for her? Nope. No plot, no character development....who cares. The Predators are now idiots too. They scan everything but their own dead warrior. They are suppose to be a high technology society, right? In the Predator movie, they scanned the soldiers and the girl to determine who was armed. Trophy kills. In AvP, they scanned Charles Weyland and let him go because he had Cancer. Major Plot hole!<br /><br />Also, the R rating is because they have kids in the movie that get a face hugger, lots of gore and violence and there is one hospital scene where a very large pregnant women is injected with chest bursters. She is implanted by the Hybrid Alien with 4 or 5 eggs in a mouth-to-mouth love scene-orgy and they all hatch in, say, 30 seconds. Sensational gore a plenty, nothing more. These scenes are laughable, not serious. It is almost like the violence happens and the Alien looks at the camera and waits for applause, a thumbs up or a nod of some sort.<br /><br />The Aliens in this movie are all on performance enhancing drugs. They develop fast and spread quickly all over the town, tons of them, everywhere in record spawn time. Pathetic because it does not stick to the series story line and adds nothing to the Aliens, Aliens Predator continuity.<br /><br />I have noticed the positive reviews are written by people who love the gore. Laughable. As a movie, as a continuation of the Aliens franchise and the development of the Aliens vs Predator franchise, this movie is a cheesecake cliché at best. If you have faithfully followed this series, all the rules are broken and the Aliens and Predators are reduced to comic book characters.<br /><br />There is not one fantastic, memorable action scene. There are almost no special effects worth remembering. There are no brand name actors. The plot is as thin as onion paper that ultimately ends with a, \"We have two choices to get out of this mess...The Hospital or the center of town!\". I just about wet myself. The center of town means everyone is going to get nuked by Big Brother who somehow knows the town has been infested because they have an AWAC in the air that can see the infestation on a radar screen in special effects Red Spots. I just about fell out of my chair. Special effects red spot alien radar on an AWAC over middle America. I am splitting my gut laughing.<br /><br />Having to get to the Helicopter Pad made me choke on my popcorn. Has anyone played a game called ZOMBIES!? You have to get your playing pieces to the Helicopter Pad to win. I almost wet myself laughing.<br /><br />The ending is enough to make you shake your head in wonderment. Who did 20th Century Fox hire to write this script!? OH, OH, ask me.... a Grade 5 student. There really can't be any other answer. Oh, yes there can be another answer... Low Budget Cheesecake Sci-Fi.<br /><br />The ending? \"Col. Stevens takes the Predator pulse rifle to Ms. Yutani (Francoise Yip). She tells him that the earth is not ready for the technology it represents. Col. Stevens knows Yutani doesn't want the technology to use on earth.\" You are kidding me, right? Ms. Yutani? Who is Ms Yutani? (forshadow:Weyland-Yutani: The Corporation) She is in the movie exactly 2 seconds and yet, in her infinite far east wisdom, she says the world is not ready for the technology. Seriously??!! The Brothers Dweebs (Strause) as directors? Who is responsible for this hemorrhage-abortion of a movie? They are the Doug and Bob McKenzie of directors and yet Fox entrusted the flailing Alien franchise to them. They are touted as special effects experts and yet the movie is all low budget special effects. Hmmm, I see a pattern. Laughable.<br /><br />This movie is only made to empty your wallet. It serves no other purpose. It has no plot. It has no main characters worth mentioning. It is disjointed. It does not adhere to any of the character principles established in previous movies. It does nothing to advance the franchise. The special effects are lame, minimal and low budget. And, it has no ending to speak of. It is low budget and strictly designed to take your hard earned money. Nothing more.<br /><br />Save your money. Either watch it on TV where it will very quickly end up. Buy a bootleg or miss this bleeding ulcer altogether. There is a reason why Fox did not Preview this movie to the critics. The critics would have eaten this mess alive and no one would have gone to the theaters to see it. JR Giger, the original creator, is at this very moment, leaning over a toilet spilling his lunch.<br /><br />20th Century Fox, this movie is a stinker. It is as bad or worse than Alien 3. You insult us. <br /><br />Flush now... \n",
            "\n",
            "5. BELL WITCH HAUNTING (aka THE HAUNT) is an American horror movie supposedly based on real events that took place during the period 1817 to 1821.<br /><br />This is not to be confused with BELL WITCH: THE MOVIE, a movie starring Betsy Palmer based on the same events. However, I can say that I wish I had seen this other movie instead of the one I saw! I enjoyed Betsy Palmer's chilling performance in Friday THE 13TH. As such, I believe that even on a bad day, she'd pull off a better performance than anyone involved in the travesty known as THE HAUNT.<br /><br />With regard to my heading, this movie is not painful to watch because the content is disturbing. It is painful to watch because it is just downright boring.<br /><br />Reading the positive reviews for this movie, I could only identify three possibilities. The first possibility - these authors were involved in the production in some way. The second possibility - the authors whilst not directly involved were paid to write positive reviews after production was completed. The final possibility - none of these authors has seen a sufficient number of horror movies and therefore is inexperienced with the concepts that successful attempts utilise.<br /><br />The setting for the plot is Robertson County, Tennessee. James Johnston receives a visit from two journalists eager to hear the story of the Bell Witch. The story is told as a series of flashbacks. A series of supernatural events begin happening at the home of John Bell and his family. It soon transpires that a vengeful spirit is behind it all.<br /><br />On the surface the plot appears to be a standard poltergeist affair, albeit one based on real events.<br /><br />Where execution of the brilliant concept is concerned however, just about everything that could go wrong does go wrong. And then some!<br /><br />First, the acting. The acting is almost uniformly terrible right across the board. This factor does the most damage to the production, undermining any possible credibility of belief or interest on the part of the viewer. The voice of the vengeful spirit sounds more like a teenage girl experiencing teenage angst rather than a powerful demonic force expressing malevolent intent. I almost laughed when I heard some of her lines. Unfortunately, this voice began to become very annoying very quickly! I may not have been alive in the 1800s, but I find it incredibly hard to believe that any young woman alive at that time would speak in the way that this \"ghost\" does!<br /><br />Second, the direction. The direction is haphazard and very uneven. Some scenes show promise but potential is squandered by the clearly inexperienced director. Nothing is done with the camera, with sound or with lighting to add intensity to the scenes intended to be scary. The atmosphere is equally flat. A vengeful spirit is supposedly behind supernatural occurrences. Yet the effects are so incredibly inept that no one who has seen a proper horror movie would buy into them. I'll give one example. In one scene, the spirit attacks someone. See the scene for yourself. It's almost funny - almost.<br /><br />Third, the script. Whilst it may be the case that the events shown are faithful to accounts of real occurrences, it cannot be denied that most scenes are incredibly flat and boring. Scenes as short as two minutes feel much longer thanks to the poor dialogue - dialogue that fails to add depth to the characters or story. This movie is far too reliant on conversations to advance the story. Whilst this style was also the case with British movies from the British horror heyday of the 1960s and 1970s, it cannot be denied that the dialogue exchanges were always interesting to watch in these more professional earlier works. Peter Cushing for example could read a telephone directory and still hold attention of the viewers. The same cannot be said of the actors in THE HAUNT.<br /><br />Finally, the humour. The ill-guided attempts at humour in this movie are excruciating. An obese boy is the butt of many jokes. One particularly awful scene sees the said boy going to the outside toilet. This scene should never have been included - but it is and complete with sound effects in case you fail to understand what he is doing!<br /><br />The only positive points about the movie are the location and the costumes. The decision to shoot the picture near the original location helped add some authenticity. The costumes were also well chosen.<br /><br />Overall, THE HAUNT is an appalling movie. It is not even in the \"so bad it's good\" league. It is instead just boring. I advise everyone to save their money and avoid this movie like the plague. Don't even bother seeing it for free!<br /><br />I have never seen the other movie about the Bell Witch. But it really couldn't be any worse than THE HAUNT. Could it? I'll give this other movie a chance if I can track it down.<br /><br />In the meantime, I would advise everyone on here to check out some proper horror movies about ghosts and haunting. THE LEGEND OF HELL HOUSE, THE CHANGELING, RINGU, THE GRUDGE (Japanese original) and ONE MISSED CALL (Japanese original) are good places to start. \n",
            "\n",
            "6. There really are no redeeming factors about this show. To put it simply, its just terrible. Absolutely dreadful. It's just a dreadful \"reality\" show. Not only that, it's dreadful fiction.<br /><br />Imagine this: A bunch of overly-imaginative teenagers get together one night and go \"Hey! Let's make a paranormal show just like \"Ghost Hunters\" and whatnot!\" So they grab a camera, harass local residents and film random landscapes behind a painfully \"trying-to-be-dramatic-yet-failing-misreably\" monologue. This show is basically a bunch of teenagers running around with a home movie camera trying to make a really bad horror documentary. The only difference is this show actually has a budget and writers. A wasted budget and terrible writers.<br /><br />Oh, the problems, how do I count thee? Well, first off, let's talk about this from a personal level. I am not a total skeptic when it comes to the paranormal. I am willing to believe in whats paranormal and whats not, and I'm sure there are a lot of people who feel the same. So, if you're going to do a show about the paranormal, you have to do a good job convincing the viewer that what they're seeing is either paranormal or not, because the viewer can easily believe otherwise. I hate to compare, but I don't see why not at this point. Take \"Ghost Hunters\" for example. In \"Ghost Hunters\" you can tell that the cast is leveled with the audience. They're not totally skeptical, yet they're still willing to keep the possibility of any paranormal anomalies in mind. They have to look at something and be willing to say \"this is possible that its simply nothing\". And, with that in mind, they set out to try and prove themselves wrong. They use technology and several other gadgets along with constant moderation to determine what is paranormal along with bearing the fact that what they may be monitoring could be nothing in mind. Not only are they trying to convince themselves what is real and what is not, in the process they are trying to convince you. That element of doubt is not present in \"Paranormal State\". Strike one.<br /><br />In \"Paranormal State\", the cast simply says \"there's this spooky place, and its HAUNTED, so we're going to find some SPIRITS!\" And immediately you know and saying to yourself \"Okay, convince me otherwise\". The cast is not professional in their interviews. In fact, sometimes it seems like they're just harassing local residents of these so-called \"haunted\" areas. They have no real evidence to back up their claims besides assumptions and theories, and the best they can must up is somebody who \"claims\" they can contact the dead, with no one ever backing up who this person is and how valid they really are. They could have easily just picked some random person off the street and said \"pretend you can contact spirits for our show\" and went at it. In the \"Mothman\" episode, this just happens. Without any convincing evidence towards the end of the show, they bring this sort of individual out where he does a random, painfully scripted \"reading\" of a supposed area of how something is \"haunted\" in order to convince its audience. Very, very poor effort. I feel that one of the main problems with the show is that it feels scripted. During one of the episodes, the cast gets attacked by one of these \"paranormal anomalies\" at times in an attempt to be dramatic. These sort of dramatic sequences would make any skeptic laugh and even those who are on the fence realize what they're watching is just a bunch of tabloid-esquire trash. If the show's aim was to try and convince their audience that these \"paranormal\" events are real, they're doing a horrifically poor job at doing so. Strike two.<br /><br />However, there is always the counter. Just one last viewpoint to see if the show is actually worth something. What if the show isn't trying to convince you that these paranormal events are real and are simply trying to entertain you with good fiction? It even fails on that level as well. If the show's creators were trying to craft fiction to entertain its audience, the writing is too poor and even on a fictional level, it fails to convince the audience that its cast members are really experiencing the unknown in all its full, horrifying glory. The writing is simply not compelling and even, dare I say, boring. Strike three.<br /><br />So what remains of this show is simply a bunch of teenagers who are too willing or too gullible to believe in the paranormal simply because its simply much more amazing than reality who set out with a camera, a bad script and bad actors to generally just make a really bad horror documentary. Thats all the show is at this point. There is no reason to see it, not even for the entertainment factor, and there's no reason to care about it. To be blunt, its lame. There are absolutely no redeeming factors about this show. \n",
            "\n",
            "7. Mom begins at night in the middle of nowhere, at what looks like a wooden building in the desert. A pick-up truck pulls up & an angry Father chucks his slutty daughter Virginia Monroe (Claudia Christian) out & leaves her there, but she isn't alone as the shadowy figure of Nestor Duvalier (Brion James) watches her from a short distance. Virginia tries to make conversation but as she grinds a cigarette out under her Leopard print, thigh high, high heeled boots Nestor grabs her by her throat & drags her off into the darkness. Nestor then rips her top open, turns into a monster & starts to eat her innards. Virginia is the latest victim of a serial killer that have Lieutenant Carlo Hendrix (Art Evans) & the LAPD baffled, or at least that's the message a local TV news reporter named Clay Dwyer (Mark Thomas MIller) is telling his viewers. Clay is happily living with his pregnant girlfriend Alice (Mary Beth McDonough) & therefore his Mother Emily (Jeanne Bates) has a spare room going which she decides to rent out to the 'blind' dark sunglass wearing Nestor. Unfortunately for Emily she accidentally knocks Nestor's sunglasses off which reveal he has strange coloured eyes, Nestor then turns into a monster again & bites Emily turning her into a flesh-eating monster just like himself. Nestor takes Emily out to train her, they find a suitable homeless bum (Rory VanSaint), murder him & eat his guts but Emily's son Clay has witnessed the whole thing & he must choose between doing what is right & his love for his Mother who now just happens to be a grotesque bloodsucking & flesh-eating monster!<br /><br />Edited, written & directed by Patrick Rand I thought Mom was a pretty awful film. Looking at some of the other comments on the IMDb & the genre listing it has been given it appears many seem to think that Mom is a comedy horror. Well I can tell you now that I didn't see any comedic elements in Mom at all because there aren't any, unless they are very subtle. The only thing that I can assume is that people see comedy in the actual situation which Mom presents, that being an old lady turning into a flesh-eating monster & the predictable problems & emotional angst that it causes to her son who finds out. There are no jokes (apart from naming a prostitute Beverly Hills (Stella Stevens)), slapstick humour or anything even remotely funny in the film itself & as far as I could see it is played totally straight throughout it's 90 minute run time. So with there being no comedy in Mom that must mean there's lots of horror right? Wrong, Mom sucks & is painfully slow to watch especially after the first thirty odd minutes which consist of Nestor turning into a monster a couple of times, biting Emily, showing her how to hunt for food & Clay finding out. Until this point Mom was moving at a fairly decent pace, had some OK special make-up effects & had me interested, unfortunately Mom runs for another hour which is basically the emotional crap suffered by Emily's Son, the eventual breakdown of his marriage & him being torn between love for his Mother & the fact that she's a flesh-eating monster. This part of the film is incredibly slow, boring & as dull as dishwater even having the nerve to resort to a clichéd role-reversal scenario where Clay tells his Mom to go to her room & stay there locking the door behind her, telling her off & putting bars over her window so she can't escape her room. Mom's script totally ignores the monsters origins & ask's us to just accept that this thing exists without giving a single reason why we should, no matter how silly an explanation might have been I think some background to the monster would have helped. Technically Mom is bland & cheap looking, although I can't say it's badly made it's very average stuff all the way with nothing that particularly impresses or anything with which I could make fun of to pass the time. The special make-up effect's on the monster are OK but their used in very quick flashes, blink & you'll miss them. Don't be fooled by any fancy video box artwork like I was, the monster is only in it three times maximum & all of those are within the pacey first thirty minutes. There isn't much gore either, a severed arm, some brief intestine eating, a burnt body & a drill in someone's arm is all we get. The acting is OK but please Mr. Brion James what is that dodgy accent all about!? At least James had the good sense to know he was in crap & sensibly opted to be killed off early on in the proceedings, everyone else are nobodies expect the black Lieutenant who was also a black police officer in Fright Night (1985) but you may recognise him from Die Hard 2 (1990), he made Mom & Die Hard 2 in the same year?! Talk about opposite ends of the spectrum! Overall there is nothing by which I can really recommend Mom as a horror film & it certainly isn't a comedy as far as I'm concerned. Very poor, very disappointing & yet again I've been conned by fancy video-box artwork with lots of stills of cool looking monsters. Definitely one to avoid. \n",
            "\n",
            "8. Curse of the Wolf starts as reluctant Werewolf Dakota (Renee Porada) manages to escape from her 'pack' & into the city where 6 months later she is working in a vet's. The rest of Dakota's pack are unhappy & want her back, their leader Michael (Todd Humes) says she will come back to them but fat Werewolf Franklin (Brian Heffron) picks her scent up & the pack decides to force the issue & get her back using her affections for her human friends including her boyfriend Danny (Dennis Carver). Can Dakota save Danny & finally rid herself of her Werewolf pursuers? I doubt you will care...<br /><br />Executive produced, written & directed by Len Kabasinski who also had a fairly large role in the film as Stick I was dreading watching Curse of the Wolf since Kabasinski was the man behind Swamp Zombies (2005) which is surely one of the worst films ever made, ever. Unfortunately my worst fears were confirmed & one has to say that Curse of the Wolf is a truly horrible film in every way, both conceptually & technically. Curse of the Wolf is the sort of film where the low budget dictates what happens & the script rather than the script dictating the budget. You get the impression that everything was written & conceived to take advantage of the few sets & actor's they had, you can almost imagine the makers saying we've got a few actor's, some basic equipment & a couple of locations so lets make a horror film around them. The story is awful (Michael finds the location of Dakota by looking at a large dog two women are taking for a walk), the character's are awful (a big fat Werewolf guy who farts a lot), the dialogue is awful (just about every line in the thing) & there's never any motivation for anything that happens (why are the pack so desperate to get Dakota back?), people just do seemingly random things & since director Kabasinski's background is in martial arts he insists in inserting lots of random martial arts fight sequences into the plot. No offence but this is meant to be a horror film not a martial arts one, isn't it? In fact apart from the presence of a few Werewolves you would be hard pushed to describe Curse of the Wolf as anything approaching a horror film. At almost two hours in length it feels like it goes on forever & is so slow & uneventful it's just not funny.<br /><br />Director Kabasinski was obviously working on a low budget but film-making this bad should be a crime. There's no continuity between shots, the fight scenes look awful & are so poorly staged it's untrue & it's sometimes impossible to follow what's going on be it because of the choppy editing & poor camera angles or the fact that it is sometimes so dark that you literally can't see a thing. Seriously there are times during Curse of the Wolf where the screen is totally black & you can't see a thing, I would hate to have to sit through this watching it on a fuzzy low resolution VHS. The sound is awful too, you can hear the wind & breeze against the microphone! There are also lots of other unpleasant & unwanted ambient sounds during just about every scene. Did the production actually have any lighting gear while making this? It doesn't feel like it. The special effects mostly consist of Werewolf mask's that look like the sort of thing shops sell at Halloween for the kids, basically they look awful.<br /><br />Technically Curse of the Wolf is as bad as they come, I'm sorry because I know this had a low budget but it's truly horrible to sit through & try to garner some entertainment from. This is high school film student quality, I'm sorry if that sounds unkind but it's a fact. The acting is, well you can probably guess so I'll stop myself right here before I say something else negative, I mean I've done enough of that already & I really take no pleasure in it.<br /><br />Curse of the Wolf is terrible, both conceptually & technically this is a real chore to sit through. Curse of the Wolf is the type of film where while your watching it time seems to stand still, it's the type of film that lasts for almost two hours yet feels like two years. One of the worst films you or I am ever likely to see, definitely one to avoid. \n",
            "\n",
            "9. The Bone Collector is set in New York City & starts as one of the world's foremost criminologist's & crime scene experts Lincoln Rhyme (Denzel Washington) is involved in an accident which leaves him a bedridden quadriplegic. Jump forward four years & Alan (Gary Swanson) & his wife Lindsay Rubin (Olivia Birkelund) are kidnapped, soon after New York cop Amelia Donaghy (Angelina Jolie) is called to a crime scene & finds the buried & mutilated body of Alan. Amelia notices some unusual crime scene evidence & makes a note of it which impresses Rhyme when he is asked to work on the case, he quickly realises the evidence are in fact cryptic clues to the whereabouts of Lindsay. Having cracked the clues the cops get there too late to save her but this is just the beginning as a sadistic serial killer continues to kill & leave forensic clues for Rhyme & the police...<br /><br />Directed by Phillip Noyce I watched The Bone Collector last night & I have to say it's one of the worst big budget post The Silence of the Lambs (1991) & Se7en (1995) serial killer thrillers I have seen, in fact it makes Friday the 13th (1980) look sophisticated & realistic! The script by Jeremy Iacone was based on the book by Jeffery Deaver & is so poor on so many levels I hardly know where to begin. For a start it takes itself deadly seriously & that makes all the other flaws seem twice as bad. The character's are truly awful & I didn't believe any of them were actual human beings. First we have Lincoln Rhyme who is paralysed from the neck down & there's just not a lot the script can do with him, in fact he quite literally can't do anything but lie in bed for the whole film. He is seemingly impressed with Amelia because she stopped a train & thought a fresh footprint near a murdered person might be of relevance, I'm not being funny here but wouldn't any cop realise a footprint near a murder victim might be of some relevance? Why is he so impressed with her? Then there's Capatin Cheney who is not only unlikable & shouts at everyone for no apparent reason but is so incompetent that he failed to connect several murders committed in a short space of time where each victim had sections of flesh & skin surgically removed from their bodies, how exactly did this guy get to be a police Captain? Then there's the killer whose motives are less than plausible, are you trying to tell me they devised an intricate plan to murder at least seven people because they spent six years in jail for something they actually did? If they wanted revenge on Rhyme why did they kill all those other people who had no connection to anything, I could maybe just about buy someone wanting revenge against the guy who put them away but not to kill several other people who have no connection to themselves, the intended target Rhyme anything else. Also after devising an intricate plan to kill these people & get away with it they suddenly turn into the most stupid person in history as despite holding a large knife & being able to walk & use their arms they are actually defeated & nearly killed by a quadriplegic who has no movement in his body below his neck! How did that happen? I should also mention Amelia who is a terrible character, she actually buys her own camera to take crime scene photo's & shoots rats for no apparent reason.<br /><br />Besides some of the worst written character's ever the story & plot isn't much better We never find out why the killer is using The Bone Collector book as inspiration We never find out why the killer was taking strips of flesh from his victims. It's never explained why a rookie cop like Amelia is allowed to enter crime scenes even before the proper forensic teams. There is no reason given for why the killer chooses his victims. Also the killers clues are a little obscure aren't they? I mean a bloody animal bone & shaved rat hair? Logically how does someone go from a bone & rat hair to the exact pinpoint location of the next victim & has the whole of New York to choose from? There's some nonsense about a bird that sits on Rhymes window ledge which is just totally random & at almost two hours The Bone Collector is really slow going. There is so much wrong with The Bone Collector & it all comes down to one of the worst scripts ever, it's atrocious on all levels & has zero credibility. Apparently Angelina Jolie has stated that she shot nude scenes for this film but they were cut because they were felt to be too distracting.<br /><br />With a supposed budget of about $48,000,000 The Bone Collector is well made with good production values & that Hollywood gloss about it. I also must add right now that I think Angelina Jolie gives one of the worst performances I have ever seen, I think she is absolutely terrible in this. Denzel Washington just sort of lies there really, Queen Latifah is awful & even Michael Rooker can't do much as he is stuck with a clichéd & one dimensional character.<br /><br />The Bone Collector has to be one of the worst Hollywood films I have seen in a while, I saw it for free on telly last night & I still feel cheated & ripped-off. There are just so many things to poke holes at it's silly, embarrassingly awful or should that be awfully embarrassing? Works either way to be honest... \n",
            "\n",
            "10. I don't understand jokes. I do believe this is my problem with modern cinema, or those films that are made with millions of dollars in hopes that it will become the next greatest sensation. Isn't it odd  people just don't laugh as much anymore, and I do believe one of the diseases to that problem is the film \"Showtime\". There was absolutely nothing, from the beginning to the end of the credits, with all of the bantering between Murphy and De Niro, with Russo as eye candy, with even standard clichés which make the general population swoon with pre-programmed laughter, there was nothing in this film that made me laugh. There weren't the overbearing physical jokes or the calculated mental vocal jokes at all throughout this debacle of a film. From the beginning, I didn't buy the match-up of De Niro and Murphy as anything more than Hollywood excitement, throughout the commentary the director vividly talks about the hijinks and laughter going on during the shoot  where was it in the film? This falls to either two problems  the director really doesn't have a sense of comedy or the editor didn't understand the value of the film. Either way, they both doomed the entire hour and a half spent on the Hollywood nightmare \"Showtime\".<br /><br />Outside of finding no reason to laugh, there was no reason to follow these characters through any moment of the film. There was a glimpse of humor with De Niro's desire to pick up pottery as a hobby (but the director had to write KILN on the machine so audiences would understand  WHO DOES THAT?), but that was dropped and never developed. There was the idea that Murphy was an actor, but outside of that one opening monologue, nobody would have understood that. He rents a room in a producer's house in which he can afford on a police officer's salary? This just didn't compute even for Hollywood standards. There was a bad guy who wanted a big gun, but the gun was never developed, nor was there any true test of the weapons capability  even at the end. It became a bigger joke to laugh at an accent than remember the guns. Where was the television show in this? Russo had to get permission from this random guy at the beginning, but there were no consequences. There was nothing in the middle of this film outside of further questions and meaningless dribble. Random characters were introduced, forgotten, re-introduced, and forgotten all over again. The director and producer laughed at this, while we, the meager viewer, must suffer through inside jokes and cliché stereotypes.<br /><br />Was there a love interest in this film? Was there a truly sinister bad guy that went apart from the comic duo to bring true evil to the screen? Were there any pop culture references that didn't come back to Robert De Niro? Was there random chaos throughout this film? If you need the answers to these, obviously, you won't find them in \"Showtime\". The fact that I am riddling this review with question upon question, only means that this sub-par (actually, well below sub-sub-sub par) filled no quota or resembled anything of value to the cinematic world. Sure, it had big names and one really neat explosion, but there was nothing of substance to this at all. It was almost as if the director said prior to the shoot that he wanted clichés, but not regular clichés  go with the bad ones. The plot had no linear structure. The jokes were boring. The characters were drab and underdeveloped. This ranks below even the best of \"buddy-cop\" films. I like to give films the benefit of the doubt, but nothing worked in this film. Not even Shatner could save this film, and he even tried hard.<br /><br />Overall, I cannot, nor will I, suggest this film to anyone with a pulse. The commentary only confirms the pathetic nature of the film with obvious flaws, horrid jokes, and creators questioning the validity of their work. If creators can't stand behind \"Showtime\", why should we? I didn't want a \"Lethal Weapon\" when I watched this, but I did want something like that. I understand there was some form of criticism of \"reality television\" and the corrupt nature of the media, but that message didn't make it off the page. In fact, I believe I saw \"media\" leave the theater first when I watched this. Shame carries its heavy hand with this film and I cannot blame it. Murphy used to be a big star, comedy was his middle name (see \"Coming to America\"), but lately he seems to have lost his edge. De Niro obviously wants to get away from an image that haunts him, but making these sort of films is only going to set him back further. One of these films is equal to one Scorsese picture.<br /><br />Skip this one. I promise, it will make your final cinematic days worthwhile. Oh, and if you laughed at any of the jokes in this film  I am truly sorry! <br /><br />Grade: * out of ***** \n",
            "\n",
            "11. With this movie I was really hoping that the idea was to make up for the hashed together ineptitude of the first AVP, and yet to my horror: Requiem is far worse than I could have imagined.<br /><br />My hopes were up in the opening moments of the film inside the Predator ship, and I almost breathed a sigh of relief when we finally saw the Predator home world (a throwaway digital matte painting, but still nice to finally see it) and then of course, the humans (if such poorly written characters can be referred to as such) are introduced...<br /><br />One must wonder why it seems to be impossible for Fox to make a good film out of Aliens and Predators. At the very least the supposed filmmakers could have done their homework.<br /><br />Characters are set up in the same manner in which we would expect from the worst Friday the 13th Sequel. The pizza delivery scene was cringe inducing as was every other scene of character interaction that followed it. Bimbos and teen non actors do not make for a REAL film, they make for a cheap flick, and Alien 1-3 and the Predator movies were good because they were produced above the concept (remember that the 1st Alien is a \"B\" movie done as an \"A\" movie) The Strause brothers really missed an opportunity, that could have been rectified by simply knowing their Alien+Predator roots: In both the Alien and Predator films we are introduced to characters that are part of a larger group (Alien: Refinery workers, Aliens: Marines, Alien 3: Convicts and in the Predator films we generally follow a main hero part of a unit; Predator, Arnold--Special forces, Predator 2: Danny Glover, Police) and it's easy to see where the filmmakers of both franchises started to go wrong: in Alien Ressurrection we have pirates...or something, AVP we have...explorers?...with guns?? and of course in AVP-R we have teen slasher clichés. What is there to identify with here? In concept the idea of a convict returning to a small town and a war vet returning seemed a set up for a First Blood type of action hero, but like many things it was never paid off.<br /><br />The Film-making is equally devoid of rhyme of reason. There is no sense of forward momentum to the action, just small sequences that build the most minuscule levels of tension or interest only to cut away just when they're getting interesting...taking the audience out of the movie at every turn. The action scenes themselves, though much ballyhooed in the trailers, are so darkly lit, it is literally impossible to tell what is going on during the fight scenes when they finally occur. Basically, the movie is hindered from many levels. Bad actors combined with poor direction and an atrocious screenplay (which as a screenwriter myself I noticed, seemed to hit every wrong note and cliché that only the most untalented writer devoid of ideas could have hashed together) The WRITING, if it can be called that, is not even direct to video quality, nor does it demonstrate a shred of respect for the established lore of the previous entries in the series. Why does the Predalien all the sudden have the ability to shoot alien embryos down a pregnant woman's throat to use her as an incubator for chestbursters? More than likely because the brain dead screenwriter needed a way to have more aliens for the predator to fight (and given the accelerated growth time even more so than the first AVP: as quickly as possible. Why must meaningless small talk between cardboard cutouts on sticks (meaning the supposed characters)substitute for real character development? (Remember a character is defined by what they DO, not SAY). Why is the Sheriff leading civilians to a cache of guns? (isn't he an officer of the law?) How does the bimbo of all people know where they are? Why does the Predalien wait for the Predator to VERY SLOWLY remove his mask before it attacks? Why are the aliens still falling into that nasty series-post-Alien 3 habit of hissing all the time to let their prey know to run? How on Earth did this series devolve to a character saying \"People are dying...we need guns!\" (how this writer even works is beyond me, and reflects badly on Fox's already destroyed artistic reputation. It's like everyone involved in the making of this film suffered from a mental impairment or really are that inept at every level of the film-making process. <br /><br />The EFFECTS are pretty lousy this time around. The Aliens look like men in suits and ADI is just getting lazy with their creature design. The Aliens look like modified leftovers from Alien Resurrection, with that same bulky musculature around the arms as if they did not learn from that movie that it was not a good design, nor a good one to recycle. Again, everything is shrouded in such a state of darkness not to create mystery or atmosphere, but simply to hide how bad the creatures look. And just like in AVP, Stan Winston is sorely missed when the fake looking Predator face is revealed.<br /><br />There are too many faults to list so I will just say this: Do not waste your money on this movie. Fox is beyond caring about the fans, as this cheap and trashy film is clearly evidence of. I felt bad having taken my girlfriend to see it (though it was free) and apologized to her profusely after. This is one die-hard fan who is done with the franchise.<br /><br />Note to Fox: What we really wanted wasn't a mindless slasher flick, it was a film adaptation of the original Darkhorse Comicbook, which was better than anything you've produced for this franchise post 1993.<br /><br />Signing off. \n",
            "\n",
            "12. It is the early morning of our discontent, and some friends of mine and I have just gotten through watching \"The Wind.\" Truly a disaster film. Not in the sense of forces of nature wreaking havoc on an unsuspecting populace, but rather an awful movie wreaking havoc on an unsuspecting audience. To give you an indication of how frustrating it was to watch this particular bomb, I'll give you an example quoted during my first pained viewing. If given the choice of watching this movie for a second time and, say, boiling myself, I'm afraid to say the choice would not be an immediate one. But rather than simply ranting \"ad peliculam\" with lousy one-liners, I'm going to get specific as to why exactly my friends and I panned this particular film.<br /><br />To start this off, I like low-budget horror flicks. I even like artsy, low-budget horror flicks. I liked \"Cold Hearts\", \"Midnight Mass,\" \"Jugular Wine,\" etc. Films that were ambitious and daring, even if they were lacking in production value, execution and even acting. Generally, an interesting premise, unusual camera technique or merely just a well done scene or two will save a movie that is running a little rough around the edges. With these provisos in mind, I would like to say conclusively that I hated \"The Wind.\"<br /><br />The movie was probably most disappointing in the sense that it was incredibly frustrating to watch. From the actions of the main characters, to the flow (?) of the plot, to the big portents hinted at by the opening which ultimately aspired to dust (and did not even attach themselves logically to what transpired in the remainder of the film, and left the viewer, expecting something more, with a sense of much ado about nothing). The dialogue was spotty at best, woodenly delivered and completely unrealistic. By this I mean, no one in any of the situations that the characters were in would have reacted the way the characters did, or said the things that they said in the way that they said them. There was an obvious lack of vision and direction that would have corrected this problem. <br /><br />Character interaction and development was abysmal. Claire, the \"lambent sex goddess,\" or so the aggravating, passive-aggressive lamesters in the movie thought, was so overt in her manipulations she may as well have pulled a gun on the characters. Nevertheless, she was the shining high point of the film. The other main characters (with the exception of Mick's Milfy Mom, who was not terrible) are so indistinct that they may as well have been portrayed by the same actor. Let's see if I missed anything: borderline personality, co-submissive goons with profound feelings of sexual confusion and inadequacy, spurred to fits of puerile rage through the artless orchestrations of a loose-lipped bimbette-suddenly-and-unmasterfully-turned-Caligari. No, I think that about covers it.<br /><br />Lack of scope was also problematic. How did those involved with the making of this film expect the casual viewer to derive that this was the beginning of the end of the world from this amateurish, unbelievable, poorly-portrayed lust pentagon (well, what would you call it?) that occurred largely in the woods in the middle of nowhere? There were no witnesses to the \"atrocities\" presented. There were no witnesses anywhere in this film.<br /><br />The believability problems stemming from this lack of attention to detail were rife even from the point where the plot begins to sicken. Case-in-point: If that guy Bob took that route through the woods to come home from the gym, and here's the key, ****every day****, there's a jolly good chance that someone else would have been around to see something at some point afterwards while the perpetrators argued vociferously about the crime scene. One would think that with the murder of a young man in the woods, said town would have been in an uproar, the characters would have been questioned, etc. But instead, there wasn't a witness in sight (other than Earl, the closet psychopath with no inner monologue). We suggest that there be no witnesses *for* this film, either. <br /><br />As for the quasi-homosexual meanderings present, I don't have a problem with those either. It's not as if they came as a surprise, considering we had been shouting as to the closet case stati of most of the male characters since the second scene. Again, not problematic in and of itself, but thrown in for the wrong reasons. It was utterly unnecessary, thrown in for pure \"shock\" and/or \"dangerous art\" value, and neither shocking nor dangerously artistic from any perspective. What we had instead was an awkward attempt to redeem a boring, clumsy movie with a boring, clumsy plot. The poorly hinted-at sexual tension, which was only hinted at heavy-handedly in anticipation of this flaccid snogging scene, only pushed this film further down the totem pole from \"mediocrity warranting criticism\" to \"film sucking so bad that it lacks the inherent grace to suck enough to properly mock and harangue.\"<br /><br />So it is with most of the film, a lot of artistic fumbling, very little meat and a lot of aggravation. It's not that we don't get it. Oh, we got it, alright. We just don't want it. Look, the very fact that we were cheering the bludgeoning in the final scene as the *only* tableau that made sense on its face is an indication that something was terribly wrong with this film. Rather than moving briskly along as its name implies, this movie oozed languidly forward like the sweat trail working it's way down the side of your nose while your hands are full. Argh. That sensation pretty well sums up the gut-wrenching frustration realized while watching this train wreck. There is no breath of fresh air with regard to this movie, only the stale miasma of bad ideas poorly realized, putrefying before coming to fruition. \n",
            "\n",
            "13. Based on the excellent novel, Watchers by Dean Koontz, is this extremely awful motion picture that probably shouldn't be viewed by anyone. Not since \"The Running Man\" have I seen a book butchered so far beyond recognition. The difference, however, is that \"The Running Man\" film was still enjoyable as an amusing action film laden down a million catch phrases. This film Nope, nothing remotely amusing. In fact, if you love the book, as I do, you'll hate this bastardization even more.<br /><br />**WARNING**CONTAINS SPOILERS** Rightio, I'm basically going to tell you the story here, almost in it's entirety. Why? Because you, dear reader, do not also need to suffer through this abominationit's okay for me, because I enjoy watching crap. Because I like complaining about sh*tty things. Now, on to the nasty: This film revolves around a boy and his mother running away from the government and a mutant-monkey-creature-soldier which escaped from a destroyed Government genetics lab with a super-smart golden retriever which the \"hero\" calls \"Furface.\" Groan Trust me, in the novel, this story rocked. I'll get to that later. Anyway, the hero is none other that dreamy boy-child Corey Haim. Oh, I'm not kidding. Our hero runs around, crackly voice and all, trying to convince his Mom to help save this dog from the \"evil government\" which birthed him and made him genetically ultra-smart. The monkey-creature, retardedly referred to as an \"Oxcom\" (God help us) is also a genetic-stew of a creature built to be the ultimate fighter on battlefields of the future. Michael Ironside (Total Recall, Starship Troopersalways plays a badass) is also in this film, and no, I couldn't figure out how anyone convinced him this would be a good idea. He plays a government agent with the NSO hunting the dog and creature. Oh yeah, here's some spoilerama: He's also a creation from the government, and the same lab, and lo and behold spends most of the movie being a prick and killing peopleand all that killing is supposed to be done by the monkey-soldier. Instead of a rockin' kick-ass, creepy horror film, we have a rectal hemorrhage of a teenybopper horror flick. The dog's intelligence is discovered all-too-conveniently, and believed easier than we believe we can see clouds by looking outside. Breakdown!!<br /><br />Change from Book to Film:<br /><br />--Lead character (Travis) turned from man to boy-child.<br /><br />--Man's love interest in book (Nora), is now his motherand all her depth and character growth is completely gone.<br /><br />--Lem Johnson, black man, is now white Mr. Ironside. This matters as the character's strength was built on his heritage in the book.<br /><br />--Relationship between two authority figures completely ignored, Lem now kills the guy who was originally his best friend.<br /><br />--One principle character in the book is now totally absent, the \"immortal\" that hunted the heroes--maybe this is supposed to be Ironside, but then why is he someone else?<br /><br />--Dog never receives deserving name of \"Einstein\" in the movie.<br /><br />--No part of the book took place in a High Schoolat least nothing that had strong bearing on the plot.<br /><br />--Takes place over a matter of days, rather months like the bookunrealistic pacing.<br /><br />--Corey Haim's girlfriend in the movie appeared in no more than two chapters in the book--and they never met in the book.<br /><br />--Character of Lem Johnson is no longer cool-headed; instead, he's a total asshole that bullies his way through people.<br /><br />--Hero Travis was part of Delta Force (military segment specializing in hunting terrorists), instead, his Dad, who is never seen in the film, was part of that group.<br /><br />--Perceived intelligence in the monster now totally absent.<br /><br />--Subplots involving Soviets and The Mob completely gutted out of the story.<br /><br />--These are just the most obnoxious changes, and the one's I could remember off hand (and a day later).<br /><br />The Good:<br /><br />--Eventually, after 90-odd minutes of pain and mental anguish, the movie ended.<br /><br />Didn't Hurt It, Didn't Help It:<br /><br />--Michael Ironsideusually, I like him.<br /><br />--The dog is still fairly likable.<br /><br />--Wacky \"totally 80's\" title screen.<br /><br />The Bad:<br /><br />--Okay, the writing for one is extremely awful.<br /><br />--The direction is so half-assed that anyone watching the film will feel superior to everyone involved in it.<br /><br />--The acting is crappy and weak, especially from Corey Haim.<br /><br />--Loose, weak, watered down story.<br /><br />--The monster looks just pathetic, that is, when we are actually allowed to see the bloody thing. Its head is gigantically over-sized, the yellow eyes that were so much a part of the thing in the book are seen for no more than two seconds. Instead of a lean, powerful, fast, intelligent killing machine, we have some jackass in a puke-ugly monkey suit forced upon us.<br /><br />--Absolutely no character development.<br /><br />--Even the violence and gore are done poorly, for f*ck sakes, this is supposed to be a HORROR film!! Usually violence is at least done well!<br /><br />The Ugly:<br /><br />--The idea that Dean Koontz whored out his brilliant novel to become this filthy f*cking piece of sh*t brings me dangerously close to vomiting all over myself and anyone near me. There are movies worse than this (headache-inducing as that idea may seem), but so far, only \"Alien vs Predator,\" at least to me, is a bigger travesty and more painful disappointment. <br /><br />Memorable Scene: Watching the end credits start.<br /><br />Acting: 3/10 Story: 4/10 (the novel was really good, this is just terrible) Atmosphere: 5/10 Cinematography: 4/10 Character Development: 1/10 Special Effects/Make-up: 4/10 Nudity/Sexuality: 0/10 Violence/Gore: 4/10 Music: 5/10 Direction: 3/10<br /><br />Cheesiness: 7/10 Crappiness: 9/10<br /><br />Overall: 3/10<br /><br />I would recommend that no one watch this movie ever, except for a few extreme die-hard horror fansand only if you haven't read the novel. Instead, I would recommend that anyone interested in this avoid it entirely and buy/check/borrow the book.<br /><br />www.ResidentHazard.com \n",
            "\n",
            "14. If you loved the early-60's version of \"The Time Machine\", don't waste your time; as with last year's \"The Planet of the Apes\", this has been \"reimagined\", and not for the better. And, just as with \"Planet...\", its lead actor is woefully miscast and leaden; Guy Pearce, a terrific actor of great range, is all wrong for this role, giving a one-note performance that elicits zero sympathy; he's so dour and serious, and lacking in awe of the (supposedly) amazing things he sees that you don't believe for a moment that he's experiencing them. Worse yet, whose idea was it for him to resemble the love child of David Spade and Calista Flockhart?? A handsome actor, here he is sickeningly gaunt, which is, believe it or not, a major distraction. Frankly, the man looks gravely ill and is photographed cruelly. He shares absolutely NO chemistry with anyone on the screen, a direct result of a performance that is out of sync with anyone else's. Sadly, even with a proper leading man this movie doesn't stand a chance for it is fatally burdened with both a totally inept director - whole scenes go nowhere and are poorly realized - and a screenplay that is utterly inferior, scattered and at times incoherent - not for a single moment do you care about anyone in this film, for the single fact that there is NOTHING in the way of character development! In the original, you got to KNOW the Eloi, so therefore you felt for them, and felt their terror of the Morelocks; here, as the movie stresses several times, they are nothing but sheep and act accordingly. Unless you're a member of PETA, scared sheep are HARDLY the stuff of entertainment! <br /><br />Samantha Mumba does as well as possible, in her movie debut, but, like everyone else in this mess, most especially Jeremy Irons (if he's the leader of the Morelocks [who look like rejects from \"The Mummy Returns\"], why then does HE look like Edgar Winter's long-lost brother?) is COMPLETELY WASTED. Also wasted was the money spent on the endless 'special' effects, which belie the $70M spent on the film; they are uniformly lackluster, obvious and unconvincing. And then there's the look of the film: poorly photographed, its art direction and sets are just \"there\" and its costumes are typical in design. There isn't an original thought or idea expressed behind or on the screen. Most of all, it isn't even fun! (The filmmakers use the now-ubiquitous Orlando Jones as \"comic relief\" but, as usual, Jones is irritating, and just HOW does his electrically-driven character survive in a world seemingly devoid of electricity?)<br /><br />All in all, this is an empty, lifeless, dull, sterile and confused affair: didn't they ALREADY REMAKE \"Planet of the Apes\"??? (At least THAT had the fortune of some strong performances!) <br /><br />*SPOILER!* The final insult (beyond a head-shakingly terrible, not to mention convenient, ending)? Not only do they BARELY feature the changing dress-store figures, they make even the time machine itself an anachronistic, gaudy glass-n-chrome bore! (If \"The Sopranos\" had a time machine, THIS is exactly what it would look like.) Pathetic... \n",
            "\n",
            "15. Plankton, or Creatures from the Abyss as I'm positive it's more commonly known as & filmed under as the title Creatures from the Abyss appears over a moving image & in the same font type as the rest of the credits, starts with five 20 something kids, Mike (Clay Rogers) his girlfriend Margaret (Sharon Twomey), sisters Julie (Ann Wolf) & Dorothy (Loren DePalm) & an annoying idiot named Bobby (Michael Bon) whom decide to all fit into a small rubber boat & head out to sea, don't ask why as I don't know. Oh & the complete idiot Bobby left the petrol behind & never thought to tell anyone so it comes as no great surprise that they end up stranded out at sea without any petrol for the motor & to make matters worse they become trapped in a thunder storm & discover a dead body floating in the water. Shortly after their luck seems to change when they come across a yacht & potential safety, in a flash everyone boards the yacht & begin to explore. First of all they find a scientific lab with various fish specimens & computer equipment, then down below they find fully furnished & luxurious cabins. They find a chemist (Deran Sarafian) who appears mad & can't talk. They eat fish from the fridge which makes Dorothy puke up green vomit, beetles & slugs. They learn that these fish are living fossil's 1000's of years old & have been contaminated by toxic waste dumped in the sea & that they fly, mutate, bite & are generally unpleasant to be around. I really can't be bothered to go on with this plot outline so I won't, here's what I think...<br /><br />This Italian production was produced & directed by Massimiliano Cerchi under the pseudonym Al Passeri (I'd hide under a different name if I made a film this bad too) & I think Plankton is quite simply one of the worst films ever, there are so many things wrong with this film it's difficult to know where to start. First the script by Richard Baumann is total crap, it makes no sense whatsoever & is so slow & dull it was torture for me to sit through. Why would five people just simply set sail for the middle of the ocean on a rubber dinghy barely big enough to fit them all in? What were they planning on doing exactly? Why do we often get point-of-view shots from these fish creatures but they seem to be totally invisible to the characters as they are never shown on screen even though they are right next to a character, & how do these fish get around the boat as there is no water for them to swim in? People's actions & reactions to things are all wrong, they constantly split up, they make bizarre decisions that simply don't make any sense in the situation they find themselves in & some of the dialogue is as awful as anything I've heard. I could go on all day about all the plot holes & ridiculous goings on but I'll run out of space if I do. The fish creatures themselves look awful, a mixture of rubbish rubber puppets & some really bad stop motion animation at the end, the scenes where they interact with the human cast also look terrible with some bad super imposition. I have heard a lot of comments saying that Plankton is gory, don't make me laugh! Forget it there is virtually no blood or gore in Plankton whatsoever, there are a couple of slimy scenes when Bobby transforms into a fish monster while having sex with Julie but it's pretty brief & he doesn't kill her, he just sort of drips slime on her, grows a couple of tentacles & a fish head comes out of his mouth. Later on Julie's vagina starts to drip some dark slime but that's it, we never get to actually see what happens to her or what the slime is. Dorothy has a fish creature come out of her back, off screen, & control her but again we never get to see what happens to her while Margaret commits suicide, a very brief shot of a plastic harpoon stuck to her forehead. Easily the grossest scene is when Dorothy pukes up that green stuff with what looks like beetles & slugs in it. That's it, only one person actually dies on screen & for the most part Plankton is quite tame & as exciting as watching paint dry & I nearly fell asleep it's so boring. I can't see how anybody can like this total crap, I just can't. The acting is awful, the dubbing is awful, the characters are awful & I hated all of them. Tecnically Plankton is predictably crap as well, with an estimated budget of only $250,000 all I can say is where did the money go? The sets are monotonous & dull with one lab & a few cabins, the special effect's are bottom of the barrel stuff including the most fake looking exploding boat ever, the cinematography is bland, the music sucks there is zero atmosphere or tension & as a whole Plankton, like it's name sake, is as low in the food chain as it could possibly be. I hate Plankton, it's awful in every single aspect of it's overlong 86 minute duration. Do yourself a favour & avoid this one at all costs unless your either a masochist or insomniac. \n",
            "\n"
          ],
          "name": "stdout"
        }
      ]
    },
    {
      "cell_type": "markdown",
      "metadata": {
        "id": "YX2_ZsYXVS06"
      },
      "source": [
        "Самостоятельно написанные метрики tp, tn, fp, fn"
      ]
    },
    {
      "cell_type": "code",
      "metadata": {
        "id": "N4cpoQgIVvsz"
      },
      "source": [
        "def tp(y_true, y_pred):\n",
        "    tp = 0\n",
        "    for i in range(len(y_true)):\n",
        "        if y_true[i] == 1 and y_pred[i] == 1:\n",
        "            tp += 1\n",
        "    return tp"
      ],
      "execution_count": null,
      "outputs": []
    },
    {
      "cell_type": "code",
      "metadata": {
        "id": "UH4UMQvjZaAa"
      },
      "source": [
        "def tn(y_true, y_pred):\n",
        "    tn = 0\n",
        "    for i in range(len(y_true)):\n",
        "        if y_true[i] == 0 and y_pred[i] == 0:\n",
        "            tn += 1\n",
        "    return tn"
      ],
      "execution_count": null,
      "outputs": []
    },
    {
      "cell_type": "code",
      "metadata": {
        "id": "W0f94MnzZiUe"
      },
      "source": [
        "def fp(y_true, y_pred):\n",
        "    fp = 0\n",
        "    for i in range(len(y_true)):\n",
        "        if y_true[i] == 0 and y_pred[i] == 1:\n",
        "            fp+=1\n",
        "    return fp"
      ],
      "execution_count": null,
      "outputs": []
    },
    {
      "cell_type": "code",
      "metadata": {
        "id": "_vNKS-OUZnRE"
      },
      "source": [
        "def fn(y_true, y_pred):\n",
        "    fn = 0\n",
        "    for i in range(len(y_true)):\n",
        "        if y_true[i] == 1 and y_pred[i] == 0:\n",
        "            fn+=1\n",
        "    return fn"
      ],
      "execution_count": null,
      "outputs": []
    },
    {
      "cell_type": "code",
      "metadata": {
        "id": "TMuNp4OYZtVg"
      },
      "source": [
        "def own_accuracy(y_true, y_pred):\n",
        "    return (tp(y_true, y_pred) + tn(y_true, y_pred)) / (tp(y_true, y_pred) + tn(y_true, y_pred) + \n",
        "            fp(y_true, y_pred) + fn(y_true, y_pred))"
      ],
      "execution_count": null,
      "outputs": []
    },
    {
      "cell_type": "code",
      "metadata": {
        "id": "qwRV_c9JZ5jZ"
      },
      "source": [
        "def own_precision(y_true, y_pred):\n",
        "    return tp(y_true, y_pred) / (tp(y_true, y_pred) + fp(y_true, y_pred))"
      ],
      "execution_count": null,
      "outputs": []
    },
    {
      "cell_type": "code",
      "metadata": {
        "id": "masYwGkzaJOv"
      },
      "source": [
        "def own_recall(y_true, y_pred):\n",
        "    return tp(y_true, y_pred) / (tp(y_true, y_pred) + fn(y_true, y_pred))"
      ],
      "execution_count": null,
      "outputs": []
    },
    {
      "cell_type": "code",
      "metadata": {
        "id": "9osuASEBVR6_"
      },
      "source": [
        "def own_f1(y_true, y_pred):\n",
        "    return 2 * own_precision(y_true, y_pred) * own_recall(y_true, y_pred) / (own_precision(y_true, y_pred) + own_recall(y_true, y_pred))"
      ],
      "execution_count": null,
      "outputs": []
    },
    {
      "cell_type": "code",
      "metadata": {
        "id": "p7lqo_ryZsh1",
        "outputId": "49b379a8-bc86-4cb4-d515-275f83fc7b70",
        "colab": {
          "base_uri": "https://localhost:8080/",
          "height": 35
        }
      },
      "source": [
        "own_accuracy(test.evaluation, pred)"
      ],
      "execution_count": null,
      "outputs": [
        {
          "output_type": "execute_result",
          "data": {
            "text/plain": [
              "0.86404"
            ]
          },
          "metadata": {
            "tags": []
          },
          "execution_count": 107
        }
      ]
    },
    {
      "cell_type": "code",
      "metadata": {
        "id": "_N-0f31mbR99",
        "outputId": "90a71329-ea2d-4a1f-9b05-26f979ac6139",
        "colab": {
          "base_uri": "https://localhost:8080/",
          "height": 35
        }
      },
      "source": [
        "own_recall(test.evaluation, pred)"
      ],
      "execution_count": null,
      "outputs": [
        {
          "output_type": "execute_result",
          "data": {
            "text/plain": [
              "0.8702302497762591"
            ]
          },
          "metadata": {
            "tags": []
          },
          "execution_count": 108
        }
      ]
    },
    {
      "cell_type": "code",
      "metadata": {
        "id": "-57tjwa-cBvz",
        "outputId": "2e98ef86-b104-4037-d09d-0d3c5c230d25",
        "colab": {
          "base_uri": "https://localhost:8080/",
          "height": 35
        }
      },
      "source": [
        "own_f1(test.evaluation, pred)"
      ],
      "execution_count": null,
      "outputs": [
        {
          "output_type": "execute_result",
          "data": {
            "text/plain": [
              "0.8628937921019725"
            ]
          },
          "metadata": {
            "tags": []
          },
          "execution_count": 119
        }
      ]
    },
    {
      "cell_type": "code",
      "metadata": {
        "id": "_ctufvC6b2yi",
        "outputId": "b19c2fd4-791f-4aec-8c7c-f98332c81d35",
        "colab": {
          "base_uri": "https://localhost:8080/",
          "height": 69
        }
      },
      "source": [
        "print(own_accuracy(test.evaluation, pred) == accuracy_score(test.evaluation, pred))\n",
        "print(own_recall(test.evaluation, pred) == recall_score(test.evaluation, pred))\n",
        "print(own_f1(test.evaluation, pred) == f1_score(test.evaluation, pred))"
      ],
      "execution_count": null,
      "outputs": [
        {
          "output_type": "stream",
          "text": [
            "True\n",
            "True\n",
            "True\n"
          ],
          "name": "stdout"
        }
      ]
    }
  ]
}