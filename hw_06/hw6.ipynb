{
  "nbformat": 4,
  "nbformat_minor": 0,
  "metadata": {
    "colab": {
      "name": "hw6.ipynb",
      "provenance": [],
      "collapsed_sections": [],
      "authorship_tag": "ABX9TyOPULk5yg4sRlmwUUg4j8iT",
      "include_colab_link": true
    },
    "kernelspec": {
      "name": "python3",
      "display_name": "Python 3"
    },
    "accelerator": "GPU"
  },
  "cells": [
    {
      "cell_type": "markdown",
      "metadata": {
        "id": "view-in-github",
        "colab_type": "text"
      },
      "source": [
        "<a href=\"https://colab.research.google.com/github/aleksandrabliznyuchenko/CompLing_2020/blob/main/hw6.ipynb\" target=\"_parent\"><img src=\"https://colab.research.google.com/assets/colab-badge.svg\" alt=\"Open In Colab\"/></a>"
      ]
    },
    {
      "cell_type": "code",
      "metadata": {
        "colab": {
          "base_uri": "https://localhost:8080/"
        },
        "id": "VTQ0DU1AEeze",
        "outputId": "095b689c-447d-4732-e8e1-a1c55f1fb461"
      },
      "source": [
        "!wget https://www.dropbox.com/s/r6u59ljhhjdg6j0/negative.csv"
      ],
      "execution_count": 1,
      "outputs": [
        {
          "output_type": "stream",
          "text": [
            "--2021-02-20 21:21:07--  https://www.dropbox.com/s/r6u59ljhhjdg6j0/negative.csv\n",
            "Resolving www.dropbox.com (www.dropbox.com)... 162.125.6.18, 2620:100:6019:18::a27d:412\n",
            "Connecting to www.dropbox.com (www.dropbox.com)|162.125.6.18|:443... connected.\n",
            "HTTP request sent, awaiting response... 301 Moved Permanently\n",
            "Location: /s/raw/r6u59ljhhjdg6j0/negative.csv [following]\n",
            "--2021-02-20 21:21:07--  https://www.dropbox.com/s/raw/r6u59ljhhjdg6j0/negative.csv\n",
            "Reusing existing connection to www.dropbox.com:443.\n",
            "HTTP request sent, awaiting response... 302 Found\n",
            "Location: https://ucbb8182d2d05d20489649a31c40.dl.dropboxusercontent.com/cd/0/inline/BJW-hgNRLz-dpUOj8UyZCNXo2dGWCuD8YjoHqoltT-1_C4g_fzS_BBSxj2f3pq5ZW5sQ_nTTfgezSWeFi_CWUEto2a_-BwebA0LdEkEO_15Z-w/file# [following]\n",
            "--2021-02-20 21:21:07--  https://ucbb8182d2d05d20489649a31c40.dl.dropboxusercontent.com/cd/0/inline/BJW-hgNRLz-dpUOj8UyZCNXo2dGWCuD8YjoHqoltT-1_C4g_fzS_BBSxj2f3pq5ZW5sQ_nTTfgezSWeFi_CWUEto2a_-BwebA0LdEkEO_15Z-w/file\n",
            "Resolving ucbb8182d2d05d20489649a31c40.dl.dropboxusercontent.com (ucbb8182d2d05d20489649a31c40.dl.dropboxusercontent.com)... 162.125.6.15, 2620:100:601d:15::a27d:50f\n",
            "Connecting to ucbb8182d2d05d20489649a31c40.dl.dropboxusercontent.com (ucbb8182d2d05d20489649a31c40.dl.dropboxusercontent.com)|162.125.6.15|:443... connected.\n",
            "HTTP request sent, awaiting response... 200 OK\n",
            "Length: 24450101 (23M) [text/plain]\n",
            "Saving to: ‘negative.csv.4’\n",
            "\n",
            "negative.csv.4      100%[===================>]  23.32M  --.-KB/s    in 0.1s    \n",
            "\n",
            "2021-02-20 21:21:08 (198 MB/s) - ‘negative.csv.4’ saved [24450101/24450101]\n",
            "\n"
          ],
          "name": "stdout"
        }
      ]
    },
    {
      "cell_type": "code",
      "metadata": {
        "colab": {
          "base_uri": "https://localhost:8080/"
        },
        "id": "vQWr01UXEjqP",
        "outputId": "ec350d13-91d4-4581-8920-b83a964d8b28"
      },
      "source": [
        "!wget https://www.dropbox.com/s/fnpq3z4bcnoktiv/positive.csv"
      ],
      "execution_count": 2,
      "outputs": [
        {
          "output_type": "stream",
          "text": [
            "--2021-02-20 21:21:08--  https://www.dropbox.com/s/fnpq3z4bcnoktiv/positive.csv\n",
            "Resolving www.dropbox.com (www.dropbox.com)... 162.125.6.18, 2620:100:6019:18::a27d:412\n",
            "Connecting to www.dropbox.com (www.dropbox.com)|162.125.6.18|:443... connected.\n",
            "HTTP request sent, awaiting response... 301 Moved Permanently\n",
            "Location: /s/raw/fnpq3z4bcnoktiv/positive.csv [following]\n",
            "--2021-02-20 21:21:08--  https://www.dropbox.com/s/raw/fnpq3z4bcnoktiv/positive.csv\n",
            "Reusing existing connection to www.dropbox.com:443.\n",
            "HTTP request sent, awaiting response... 302 Found\n",
            "Location: https://uc719dbf8c64843a6d743f7a7257.dl.dropboxusercontent.com/cd/0/inline/BJXMFlo1mujiWDbvDzo_GCeTcc_HHDnLtoek32lixT23hjEFl5fDAMB-rvAf4O1t-cVdMFdklRQpJT8wdu4jhPTG3mjBHLoMjo8txQwv5Wvhvg/file# [following]\n",
            "--2021-02-20 21:21:09--  https://uc719dbf8c64843a6d743f7a7257.dl.dropboxusercontent.com/cd/0/inline/BJXMFlo1mujiWDbvDzo_GCeTcc_HHDnLtoek32lixT23hjEFl5fDAMB-rvAf4O1t-cVdMFdklRQpJT8wdu4jhPTG3mjBHLoMjo8txQwv5Wvhvg/file\n",
            "Resolving uc719dbf8c64843a6d743f7a7257.dl.dropboxusercontent.com (uc719dbf8c64843a6d743f7a7257.dl.dropboxusercontent.com)... 162.125.7.15, 2620:100:601d:15::a27d:50f\n",
            "Connecting to uc719dbf8c64843a6d743f7a7257.dl.dropboxusercontent.com (uc719dbf8c64843a6d743f7a7257.dl.dropboxusercontent.com)|162.125.7.15|:443... connected.\n",
            "HTTP request sent, awaiting response... 200 OK\n",
            "Length: 26233379 (25M) [text/plain]\n",
            "Saving to: ‘positive.csv.4’\n",
            "\n",
            "positive.csv.4      100%[===================>]  25.02M  25.5MB/s    in 1.0s    \n",
            "\n",
            "2021-02-20 21:21:10 (25.5 MB/s) - ‘positive.csv.4’ saved [26233379/26233379]\n",
            "\n"
          ],
          "name": "stdout"
        }
      ]
    },
    {
      "cell_type": "code",
      "metadata": {
        "id": "FFUtIrCSE7t_"
      },
      "source": [
        "import re\r\n",
        "import pandas as pd\r\n",
        "import numpy as np\r\n",
        "from sklearn.model_selection import train_test_split\r\n",
        "from collections import Counter\r\n",
        "from gensim.models import KeyedVectors\r\n",
        "from tensorflow.keras.preprocessing.sequence import pad_sequences\r\n",
        "from tensorflow.keras.utils import to_categorical\r\n",
        "from tensorflow.keras.models import Model\r\n",
        "from tensorflow.keras.layers import Dense, Activation, LSTM, Bidirectional, TimeDistributed, Conv1D, concatenate, Flatten\r\n",
        "from tensorflow.keras.layers import Embedding, Input\r\n",
        "from tensorflow.keras import optimizers\r\n",
        "from tensorflow.keras.metrics import Accuracy, Recall, Precision"
      ],
      "execution_count": 3,
      "outputs": []
    },
    {
      "cell_type": "markdown",
      "metadata": {
        "id": "bPWyEIgd_a3A"
      },
      "source": [
        "Обученные эмбеддинги для русского языка"
      ]
    },
    {
      "cell_type": "code",
      "metadata": {
        "colab": {
          "base_uri": "https://localhost:8080/"
        },
        "id": "LZ6oHVK7Hpo6",
        "outputId": "89510f2f-4070-4464-aa0e-7ac6bc778df6"
      },
      "source": [
        "!wget https://rusvectores.org/static/models/rusvectores4/fasttext/araneum_none_fasttextcbow_300_5_2018.tgz"
      ],
      "execution_count": 4,
      "outputs": [
        {
          "output_type": "stream",
          "text": [
            "--2021-02-20 21:21:14--  https://rusvectores.org/static/models/rusvectores4/fasttext/araneum_none_fasttextcbow_300_5_2018.tgz\n",
            "Resolving rusvectores.org (rusvectores.org)... 116.203.104.23\n",
            "Connecting to rusvectores.org (rusvectores.org)|116.203.104.23|:443... connected.\n",
            "HTTP request sent, awaiting response... 200 OK\n",
            "Length: 2691248108 (2.5G) [application/x-gzip]\n",
            "Saving to: ‘araneum_none_fasttextcbow_300_5_2018.tgz.1’\n",
            "\n",
            "araneum_none_fastte 100%[===================>]   2.51G  31.8MB/s    in 81s     \n",
            "\n",
            "2021-02-20 21:22:36 (31.5 MB/s) - ‘araneum_none_fasttextcbow_300_5_2018.tgz.1’ saved [2691248108/2691248108]\n",
            "\n"
          ],
          "name": "stdout"
        }
      ]
    },
    {
      "cell_type": "code",
      "metadata": {
        "colab": {
          "base_uri": "https://localhost:8080/"
        },
        "id": "9ThX_WdsCkPD",
        "outputId": "6c23ca83-d3dc-405d-bc9a-63d2b810ab74"
      },
      "source": [
        "!tar --gunzip --extract --verbose --file=araneum_none_fasttextcbow_300_5_2018.tgz"
      ],
      "execution_count": 5,
      "outputs": [
        {
          "output_type": "stream",
          "text": [
            "araneum_none_fasttextcbow_300_5_2018.model\n",
            "araneum_none_fasttextcbow_300_5_2018.model.vectors_ngrams.npy\n",
            "araneum_none_fasttextcbow_300_5_2018.model.vectors.npy\n",
            "araneum_none_fasttextcbow_300_5_2018.model.vectors_vocab.npy\n"
          ],
          "name": "stdout"
        }
      ]
    },
    {
      "cell_type": "code",
      "metadata": {
        "id": "UaMZcZtoHuMn"
      },
      "source": [
        "model_file = 'araneum_none_fasttextcbow_300_5_2018.model'\r\n",
        "model = KeyedVectors.load(model_file)"
      ],
      "execution_count": 6,
      "outputs": []
    },
    {
      "cell_type": "markdown",
      "metadata": {
        "id": "mLs3NSmqHGo4"
      },
      "source": [
        "##**Подготовка данных**"
      ]
    },
    {
      "cell_type": "code",
      "metadata": {
        "id": "PZ-jNRZpFCdg"
      },
      "source": [
        "colnames = ['id', 'date', 'author', 'text', 'type', 'reply', 'retwt', 'fav',  \r\n",
        "            'stcount', 'fol', 'friends', 'listcount']"
      ],
      "execution_count": 7,
      "outputs": []
    },
    {
      "cell_type": "code",
      "metadata": {
        "id": "0dT3eS0NGkDD"
      },
      "source": [
        "pos = pd.read_csv('positive.csv', sep=';', names=colnames)"
      ],
      "execution_count": 8,
      "outputs": []
    },
    {
      "cell_type": "code",
      "metadata": {
        "id": "UgT40Q3hGm5Y"
      },
      "source": [
        "neg = pd.read_csv('negative.csv', sep=';', names=colnames)"
      ],
      "execution_count": 9,
      "outputs": []
    },
    {
      "cell_type": "code",
      "metadata": {
        "colab": {
          "base_uri": "https://localhost:8080/",
          "height": 289
        },
        "id": "upLXtYZiGp1m",
        "outputId": "a79e3471-bf1e-443a-be34-4b35adb12971"
      },
      "source": [
        "pos.head()"
      ],
      "execution_count": 10,
      "outputs": [
        {
          "output_type": "execute_result",
          "data": {
            "text/html": [
              "<div>\n",
              "<style scoped>\n",
              "    .dataframe tbody tr th:only-of-type {\n",
              "        vertical-align: middle;\n",
              "    }\n",
              "\n",
              "    .dataframe tbody tr th {\n",
              "        vertical-align: top;\n",
              "    }\n",
              "\n",
              "    .dataframe thead th {\n",
              "        text-align: right;\n",
              "    }\n",
              "</style>\n",
              "<table border=\"1\" class=\"dataframe\">\n",
              "  <thead>\n",
              "    <tr style=\"text-align: right;\">\n",
              "      <th></th>\n",
              "      <th>id</th>\n",
              "      <th>date</th>\n",
              "      <th>author</th>\n",
              "      <th>text</th>\n",
              "      <th>type</th>\n",
              "      <th>reply</th>\n",
              "      <th>retwt</th>\n",
              "      <th>fav</th>\n",
              "      <th>stcount</th>\n",
              "      <th>fol</th>\n",
              "      <th>friends</th>\n",
              "      <th>listcount</th>\n",
              "    </tr>\n",
              "  </thead>\n",
              "  <tbody>\n",
              "    <tr>\n",
              "      <th>0</th>\n",
              "      <td>408906692374446080</td>\n",
              "      <td>1386325927</td>\n",
              "      <td>pleease_shut_up</td>\n",
              "      <td>@first_timee хоть я и школота, но поверь, у на...</td>\n",
              "      <td>1</td>\n",
              "      <td>0</td>\n",
              "      <td>0</td>\n",
              "      <td>0</td>\n",
              "      <td>7569</td>\n",
              "      <td>62</td>\n",
              "      <td>61</td>\n",
              "      <td>0</td>\n",
              "    </tr>\n",
              "    <tr>\n",
              "      <th>1</th>\n",
              "      <td>408906692693221377</td>\n",
              "      <td>1386325927</td>\n",
              "      <td>alinakirpicheva</td>\n",
              "      <td>Да, все-таки он немного похож на него. Но мой ...</td>\n",
              "      <td>1</td>\n",
              "      <td>0</td>\n",
              "      <td>0</td>\n",
              "      <td>0</td>\n",
              "      <td>11825</td>\n",
              "      <td>59</td>\n",
              "      <td>31</td>\n",
              "      <td>2</td>\n",
              "    </tr>\n",
              "    <tr>\n",
              "      <th>2</th>\n",
              "      <td>408906695083954177</td>\n",
              "      <td>1386325927</td>\n",
              "      <td>EvgeshaRe</td>\n",
              "      <td>RT @KatiaCheh: Ну ты идиотка) я испугалась за ...</td>\n",
              "      <td>1</td>\n",
              "      <td>0</td>\n",
              "      <td>1</td>\n",
              "      <td>0</td>\n",
              "      <td>1273</td>\n",
              "      <td>26</td>\n",
              "      <td>27</td>\n",
              "      <td>0</td>\n",
              "    </tr>\n",
              "    <tr>\n",
              "      <th>3</th>\n",
              "      <td>408906695356973056</td>\n",
              "      <td>1386325927</td>\n",
              "      <td>ikonnikova_21</td>\n",
              "      <td>RT @digger2912: \"Кто то в углу сидит и погибае...</td>\n",
              "      <td>1</td>\n",
              "      <td>0</td>\n",
              "      <td>1</td>\n",
              "      <td>0</td>\n",
              "      <td>1549</td>\n",
              "      <td>19</td>\n",
              "      <td>17</td>\n",
              "      <td>0</td>\n",
              "    </tr>\n",
              "    <tr>\n",
              "      <th>4</th>\n",
              "      <td>408906761416867842</td>\n",
              "      <td>1386325943</td>\n",
              "      <td>JumpyAlex</td>\n",
              "      <td>@irina_dyshkant Вот что значит страшилка :D\\nН...</td>\n",
              "      <td>1</td>\n",
              "      <td>0</td>\n",
              "      <td>0</td>\n",
              "      <td>0</td>\n",
              "      <td>597</td>\n",
              "      <td>16</td>\n",
              "      <td>23</td>\n",
              "      <td>1</td>\n",
              "    </tr>\n",
              "  </tbody>\n",
              "</table>\n",
              "</div>"
            ],
            "text/plain": [
              "                   id        date           author  ... fol  friends  listcount\n",
              "0  408906692374446080  1386325927  pleease_shut_up  ...  62       61          0\n",
              "1  408906692693221377  1386325927  alinakirpicheva  ...  59       31          2\n",
              "2  408906695083954177  1386325927        EvgeshaRe  ...  26       27          0\n",
              "3  408906695356973056  1386325927    ikonnikova_21  ...  19       17          0\n",
              "4  408906761416867842  1386325943        JumpyAlex  ...  16       23          1\n",
              "\n",
              "[5 rows x 12 columns]"
            ]
          },
          "metadata": {
            "tags": []
          },
          "execution_count": 10
        }
      ]
    },
    {
      "cell_type": "code",
      "metadata": {
        "colab": {
          "base_uri": "https://localhost:8080/",
          "height": 271
        },
        "id": "JBKSO6jZGrNP",
        "outputId": "b8408248-4c79-4c8e-ac2b-dc9ed8b4cdbc"
      },
      "source": [
        "neg.head()"
      ],
      "execution_count": 11,
      "outputs": [
        {
          "output_type": "execute_result",
          "data": {
            "text/html": [
              "<div>\n",
              "<style scoped>\n",
              "    .dataframe tbody tr th:only-of-type {\n",
              "        vertical-align: middle;\n",
              "    }\n",
              "\n",
              "    .dataframe tbody tr th {\n",
              "        vertical-align: top;\n",
              "    }\n",
              "\n",
              "    .dataframe thead th {\n",
              "        text-align: right;\n",
              "    }\n",
              "</style>\n",
              "<table border=\"1\" class=\"dataframe\">\n",
              "  <thead>\n",
              "    <tr style=\"text-align: right;\">\n",
              "      <th></th>\n",
              "      <th>id</th>\n",
              "      <th>date</th>\n",
              "      <th>author</th>\n",
              "      <th>text</th>\n",
              "      <th>type</th>\n",
              "      <th>reply</th>\n",
              "      <th>retwt</th>\n",
              "      <th>fav</th>\n",
              "      <th>stcount</th>\n",
              "      <th>fol</th>\n",
              "      <th>friends</th>\n",
              "      <th>listcount</th>\n",
              "    </tr>\n",
              "  </thead>\n",
              "  <tbody>\n",
              "    <tr>\n",
              "      <th>0</th>\n",
              "      <td>408906762813579264</td>\n",
              "      <td>1386325944</td>\n",
              "      <td>dugarchikbellko</td>\n",
              "      <td>на работе был полный пиддес :| и так каждое за...</td>\n",
              "      <td>-1</td>\n",
              "      <td>0</td>\n",
              "      <td>0</td>\n",
              "      <td>0</td>\n",
              "      <td>8064</td>\n",
              "      <td>111</td>\n",
              "      <td>94</td>\n",
              "      <td>2</td>\n",
              "    </tr>\n",
              "    <tr>\n",
              "      <th>1</th>\n",
              "      <td>408906818262687744</td>\n",
              "      <td>1386325957</td>\n",
              "      <td>nugemycejela</td>\n",
              "      <td>Коллеги сидят рубятся в Urban terror, а я из-з...</td>\n",
              "      <td>-1</td>\n",
              "      <td>0</td>\n",
              "      <td>0</td>\n",
              "      <td>0</td>\n",
              "      <td>26</td>\n",
              "      <td>42</td>\n",
              "      <td>39</td>\n",
              "      <td>0</td>\n",
              "    </tr>\n",
              "    <tr>\n",
              "      <th>2</th>\n",
              "      <td>408906858515398656</td>\n",
              "      <td>1386325966</td>\n",
              "      <td>4post21</td>\n",
              "      <td>@elina_4post как говорят обещаного три года жд...</td>\n",
              "      <td>-1</td>\n",
              "      <td>0</td>\n",
              "      <td>0</td>\n",
              "      <td>0</td>\n",
              "      <td>718</td>\n",
              "      <td>49</td>\n",
              "      <td>249</td>\n",
              "      <td>0</td>\n",
              "    </tr>\n",
              "    <tr>\n",
              "      <th>3</th>\n",
              "      <td>408906914437685248</td>\n",
              "      <td>1386325980</td>\n",
              "      <td>Poliwake</td>\n",
              "      <td>Желаю хорошего полёта и удачной посадки,я буду...</td>\n",
              "      <td>-1</td>\n",
              "      <td>0</td>\n",
              "      <td>0</td>\n",
              "      <td>0</td>\n",
              "      <td>10628</td>\n",
              "      <td>207</td>\n",
              "      <td>200</td>\n",
              "      <td>0</td>\n",
              "    </tr>\n",
              "    <tr>\n",
              "      <th>4</th>\n",
              "      <td>408906914723295232</td>\n",
              "      <td>1386325980</td>\n",
              "      <td>capyvixowe</td>\n",
              "      <td>Обновил за каким-то лешим surf, теперь не рабо...</td>\n",
              "      <td>-1</td>\n",
              "      <td>0</td>\n",
              "      <td>0</td>\n",
              "      <td>0</td>\n",
              "      <td>35</td>\n",
              "      <td>17</td>\n",
              "      <td>34</td>\n",
              "      <td>0</td>\n",
              "    </tr>\n",
              "  </tbody>\n",
              "</table>\n",
              "</div>"
            ],
            "text/plain": [
              "                   id        date           author  ...  fol  friends  listcount\n",
              "0  408906762813579264  1386325944  dugarchikbellko  ...  111       94          2\n",
              "1  408906818262687744  1386325957     nugemycejela  ...   42       39          0\n",
              "2  408906858515398656  1386325966          4post21  ...   49      249          0\n",
              "3  408906914437685248  1386325980         Poliwake  ...  207      200          0\n",
              "4  408906914723295232  1386325980       capyvixowe  ...   17       34          0\n",
              "\n",
              "[5 rows x 12 columns]"
            ]
          },
          "metadata": {
            "tags": []
          },
          "execution_count": 11
        }
      ]
    },
    {
      "cell_type": "code",
      "metadata": {
        "id": "xwcBpYNXG3GA"
      },
      "source": [
        "corpus = pd.concat([pos, neg])"
      ],
      "execution_count": 12,
      "outputs": []
    },
    {
      "cell_type": "code",
      "metadata": {
        "colab": {
          "base_uri": "https://localhost:8080/",
          "height": 289
        },
        "id": "4od_5xEFG7xv",
        "outputId": "ee34e992-b049-47f0-c4cf-c8785d3cea61"
      },
      "source": [
        "corpus.head()"
      ],
      "execution_count": 13,
      "outputs": [
        {
          "output_type": "execute_result",
          "data": {
            "text/html": [
              "<div>\n",
              "<style scoped>\n",
              "    .dataframe tbody tr th:only-of-type {\n",
              "        vertical-align: middle;\n",
              "    }\n",
              "\n",
              "    .dataframe tbody tr th {\n",
              "        vertical-align: top;\n",
              "    }\n",
              "\n",
              "    .dataframe thead th {\n",
              "        text-align: right;\n",
              "    }\n",
              "</style>\n",
              "<table border=\"1\" class=\"dataframe\">\n",
              "  <thead>\n",
              "    <tr style=\"text-align: right;\">\n",
              "      <th></th>\n",
              "      <th>id</th>\n",
              "      <th>date</th>\n",
              "      <th>author</th>\n",
              "      <th>text</th>\n",
              "      <th>type</th>\n",
              "      <th>reply</th>\n",
              "      <th>retwt</th>\n",
              "      <th>fav</th>\n",
              "      <th>stcount</th>\n",
              "      <th>fol</th>\n",
              "      <th>friends</th>\n",
              "      <th>listcount</th>\n",
              "    </tr>\n",
              "  </thead>\n",
              "  <tbody>\n",
              "    <tr>\n",
              "      <th>0</th>\n",
              "      <td>408906692374446080</td>\n",
              "      <td>1386325927</td>\n",
              "      <td>pleease_shut_up</td>\n",
              "      <td>@first_timee хоть я и школота, но поверь, у на...</td>\n",
              "      <td>1</td>\n",
              "      <td>0</td>\n",
              "      <td>0</td>\n",
              "      <td>0</td>\n",
              "      <td>7569</td>\n",
              "      <td>62</td>\n",
              "      <td>61</td>\n",
              "      <td>0</td>\n",
              "    </tr>\n",
              "    <tr>\n",
              "      <th>1</th>\n",
              "      <td>408906692693221377</td>\n",
              "      <td>1386325927</td>\n",
              "      <td>alinakirpicheva</td>\n",
              "      <td>Да, все-таки он немного похож на него. Но мой ...</td>\n",
              "      <td>1</td>\n",
              "      <td>0</td>\n",
              "      <td>0</td>\n",
              "      <td>0</td>\n",
              "      <td>11825</td>\n",
              "      <td>59</td>\n",
              "      <td>31</td>\n",
              "      <td>2</td>\n",
              "    </tr>\n",
              "    <tr>\n",
              "      <th>2</th>\n",
              "      <td>408906695083954177</td>\n",
              "      <td>1386325927</td>\n",
              "      <td>EvgeshaRe</td>\n",
              "      <td>RT @KatiaCheh: Ну ты идиотка) я испугалась за ...</td>\n",
              "      <td>1</td>\n",
              "      <td>0</td>\n",
              "      <td>1</td>\n",
              "      <td>0</td>\n",
              "      <td>1273</td>\n",
              "      <td>26</td>\n",
              "      <td>27</td>\n",
              "      <td>0</td>\n",
              "    </tr>\n",
              "    <tr>\n",
              "      <th>3</th>\n",
              "      <td>408906695356973056</td>\n",
              "      <td>1386325927</td>\n",
              "      <td>ikonnikova_21</td>\n",
              "      <td>RT @digger2912: \"Кто то в углу сидит и погибае...</td>\n",
              "      <td>1</td>\n",
              "      <td>0</td>\n",
              "      <td>1</td>\n",
              "      <td>0</td>\n",
              "      <td>1549</td>\n",
              "      <td>19</td>\n",
              "      <td>17</td>\n",
              "      <td>0</td>\n",
              "    </tr>\n",
              "    <tr>\n",
              "      <th>4</th>\n",
              "      <td>408906761416867842</td>\n",
              "      <td>1386325943</td>\n",
              "      <td>JumpyAlex</td>\n",
              "      <td>@irina_dyshkant Вот что значит страшилка :D\\nН...</td>\n",
              "      <td>1</td>\n",
              "      <td>0</td>\n",
              "      <td>0</td>\n",
              "      <td>0</td>\n",
              "      <td>597</td>\n",
              "      <td>16</td>\n",
              "      <td>23</td>\n",
              "      <td>1</td>\n",
              "    </tr>\n",
              "  </tbody>\n",
              "</table>\n",
              "</div>"
            ],
            "text/plain": [
              "                   id        date           author  ... fol  friends  listcount\n",
              "0  408906692374446080  1386325927  pleease_shut_up  ...  62       61          0\n",
              "1  408906692693221377  1386325927  alinakirpicheva  ...  59       31          2\n",
              "2  408906695083954177  1386325927        EvgeshaRe  ...  26       27          0\n",
              "3  408906695356973056  1386325927    ikonnikova_21  ...  19       17          0\n",
              "4  408906761416867842  1386325943        JumpyAlex  ...  16       23          1\n",
              "\n",
              "[5 rows x 12 columns]"
            ]
          },
          "metadata": {
            "tags": []
          },
          "execution_count": 13
        }
      ]
    },
    {
      "cell_type": "markdown",
      "metadata": {
        "id": "tvh3UvRyIq1h"
      },
      "source": [
        "##**Preprocessing**"
      ]
    },
    {
      "cell_type": "markdown",
      "metadata": {
        "id": "VNO2v_IEVF0G"
      },
      "source": [
        "Уберём имена пользователей и прочие некириллические символы"
      ]
    },
    {
      "cell_type": "code",
      "metadata": {
        "id": "bCNpPwF1Iwcv"
      },
      "source": [
        "sentences = []\r\n",
        "types = []\r\n",
        "\r\n",
        "def preprocess(text, cur_type):\r\n",
        "    if cur_type != 1:\r\n",
        "      cur_type = 0\r\n",
        "    text = text.lower()\r\n",
        "    text = re.sub('[^а-я]', ' ', text)\r\n",
        "    types.append([cur_type for i in range(len(text.strip().split()))])\r\n",
        "    return text.strip().split()\r\n",
        "\r\n",
        "sentences = [preprocess(row['text'], row['type']) for _, row in corpus.iterrows()]"
      ],
      "execution_count": 14,
      "outputs": []
    },
    {
      "cell_type": "code",
      "metadata": {
        "colab": {
          "base_uri": "https://localhost:8080/"
        },
        "id": "ZAl0ZseSI_ch",
        "outputId": "2f79d1d8-8d0e-481e-e4c9-876f0d9486bd"
      },
      "source": [
        "sentences[0]"
      ],
      "execution_count": 15,
      "outputs": [
        {
          "output_type": "execute_result",
          "data": {
            "text/plain": [
              "['хоть',\n",
              " 'я',\n",
              " 'и',\n",
              " 'школота',\n",
              " 'но',\n",
              " 'поверь',\n",
              " 'у',\n",
              " 'нас',\n",
              " 'то',\n",
              " 'же',\n",
              " 'самое',\n",
              " 'общество',\n",
              " 'профилирующий',\n",
              " 'предмет',\n",
              " 'типа']"
            ]
          },
          "metadata": {
            "tags": []
          },
          "execution_count": 15
        }
      ]
    },
    {
      "cell_type": "code",
      "metadata": {
        "colab": {
          "base_uri": "https://localhost:8080/"
        },
        "id": "dvFxyekxObxw",
        "outputId": "a6b1e224-d727-461d-b59b-9e5ac836f62d"
      },
      "source": [
        "types[0]"
      ],
      "execution_count": 16,
      "outputs": [
        {
          "output_type": "execute_result",
          "data": {
            "text/plain": [
              "[1, 1, 1, 1, 1, 1, 1, 1, 1, 1, 1, 1, 1, 1, 1]"
            ]
          },
          "metadata": {
            "tags": []
          },
          "execution_count": 16
        }
      ]
    },
    {
      "cell_type": "code",
      "metadata": {
        "colab": {
          "base_uri": "https://localhost:8080/"
        },
        "id": "acH6XB3OP8RA",
        "outputId": "88ac5b89-9c1a-401a-8dc9-69fe627be445"
      },
      "source": [
        "len(sentences[0]) == len(types[0])"
      ],
      "execution_count": 17,
      "outputs": [
        {
          "output_type": "execute_result",
          "data": {
            "text/plain": [
              "True"
            ]
          },
          "metadata": {
            "tags": []
          },
          "execution_count": 17
        }
      ]
    },
    {
      "cell_type": "code",
      "metadata": {
        "id": "w6e1xn5eHcx_"
      },
      "source": [
        "sent_train, sent_test, type_train, type_test = train_test_split(sentences, types, test_size=0.2, random_state=1)"
      ],
      "execution_count": 18,
      "outputs": []
    },
    {
      "cell_type": "markdown",
      "metadata": {
        "id": "8EUsD1LyHWlX"
      },
      "source": [
        "##**Подготовка словарей**"
      ]
    },
    {
      "cell_type": "code",
      "metadata": {
        "id": "oNaU7Go6O6uR"
      },
      "source": [
        "vocab = Counter()\r\n",
        "for sentence in sent_train:\r\n",
        "    vocab.update(sentence)"
      ],
      "execution_count": 19,
      "outputs": []
    },
    {
      "cell_type": "code",
      "metadata": {
        "id": "FZ2AWJ-LPACf"
      },
      "source": [
        "filtered_vocab = {word for word in vocab if vocab[word] > 5}"
      ],
      "execution_count": 20,
      "outputs": []
    },
    {
      "cell_type": "code",
      "metadata": {
        "colab": {
          "base_uri": "https://localhost:8080/"
        },
        "id": "gVZMBNUdPFRm",
        "outputId": "7a154f79-6168-4c69-c9bb-fe078bcf697d"
      },
      "source": [
        "len(filtered_vocab)"
      ],
      "execution_count": 21,
      "outputs": [
        {
          "output_type": "execute_result",
          "data": {
            "text/plain": [
              "23081"
            ]
          },
          "metadata": {
            "tags": []
          },
          "execution_count": 21
        }
      ]
    },
    {
      "cell_type": "code",
      "metadata": {
        "id": "W5Ge9-EFPNJa"
      },
      "source": [
        "word2id = {word:i + 2 for i, word in enumerate(filtered_vocab)}\r\n",
        "word2id['pad'] = 0\r\n",
        "word2id['unk'] = 1\r\n",
        "\r\n",
        "id2word = {i:word for word, i in word2id.items()}"
      ],
      "execution_count": 22,
      "outputs": []
    },
    {
      "cell_type": "code",
      "metadata": {
        "colab": {
          "base_uri": "https://localhost:8080/"
        },
        "id": "LnAkYdBopjxv",
        "outputId": "f21ea740-4a07-497b-e9bb-7937c868c725"
      },
      "source": [
        "len(id2word)"
      ],
      "execution_count": 23,
      "outputs": [
        {
          "output_type": "execute_result",
          "data": {
            "text/plain": [
              "23083"
            ]
          },
          "metadata": {
            "tags": []
          },
          "execution_count": 23
        }
      ]
    },
    {
      "cell_type": "code",
      "metadata": {
        "id": "fN0r7quaerBu"
      },
      "source": [
        "weights = np.array([model[word] for word in id2word.values() if word in model])"
      ],
      "execution_count": 24,
      "outputs": []
    },
    {
      "cell_type": "code",
      "metadata": {
        "colab": {
          "base_uri": "https://localhost:8080/"
        },
        "id": "oAAs5QCwPUoJ",
        "outputId": "624feb09-2616-4871-a1ea-3d7606a97efd"
      },
      "source": [
        "len(id2word) == len(weights)"
      ],
      "execution_count": 25,
      "outputs": [
        {
          "output_type": "execute_result",
          "data": {
            "text/plain": [
              "True"
            ]
          },
          "metadata": {
            "tags": []
          },
          "execution_count": 25
        }
      ]
    },
    {
      "cell_type": "code",
      "metadata": {
        "id": "NJA213b9px49"
      },
      "source": [
        "type2id = {'pad':0, 'unk':1}  \r\n",
        "for cur_type in type_train:\r\n",
        "    for t in cur_type: \r\n",
        "        if t not in type2id:\r\n",
        "            type2id[t] = len(type2id)\r\n",
        "\r\n",
        "id2type = {i:t for t, i in type2id.items()}"
      ],
      "execution_count": 26,
      "outputs": []
    },
    {
      "cell_type": "code",
      "metadata": {
        "colab": {
          "base_uri": "https://localhost:8080/"
        },
        "id": "Acq4o12ap-i8",
        "outputId": "7e7fb601-b7a2-49b9-9943-ff385c9a65f1"
      },
      "source": [
        "id2type"
      ],
      "execution_count": 27,
      "outputs": [
        {
          "output_type": "execute_result",
          "data": {
            "text/plain": [
              "{0: 'pad', 1: 'unk', 2: 1, 3: 0}"
            ]
          },
          "metadata": {
            "tags": []
          },
          "execution_count": 27
        }
      ]
    },
    {
      "cell_type": "code",
      "metadata": {
        "colab": {
          "base_uri": "https://localhost:8080/"
        },
        "id": "bYWT7yX3pOOl",
        "outputId": "6eaf6f43-f894-45e8-e5d7-883b9d779329"
      },
      "source": [
        "chars = set([letter for word in filtered_vocab for letter in word])\r\n",
        "n_chars = len(chars)\r\n",
        "print(chars)"
      ],
      "execution_count": 28,
      "outputs": [
        {
          "output_type": "stream",
          "text": [
            "{'ж', 'р', 'ш', 'з', 'к', 'о', 'е', 'я', 'ъ', 'х', 'т', 'в', 'ы', 'ь', 'с', 'и', 'д', 'л', 'щ', 'ю', 'м', 'ч', 'п', 'ц', 'б', 'г', 'ф', 'н', 'а', 'й', 'э', 'у'}\n"
          ],
          "name": "stdout"
        }
      ]
    },
    {
      "cell_type": "code",
      "metadata": {
        "id": "wt5WtraBpVPR"
      },
      "source": [
        "char2id = {c: i + 2 for i, c in enumerate(chars)}\r\n",
        "char2id[\"pad\"] = 0\r\n",
        "char2id[\"unk\"] = 1\r\n",
        "\r\n",
        "id2char = {i:char for char, i in char2id.items()}"
      ],
      "execution_count": 29,
      "outputs": []
    },
    {
      "cell_type": "code",
      "metadata": {
        "colab": {
          "base_uri": "https://localhost:8080/"
        },
        "id": "JbtL2v94pcds",
        "outputId": "fe548013-bf58-455e-d12f-e34245459783"
      },
      "source": [
        "id2char"
      ],
      "execution_count": 30,
      "outputs": [
        {
          "output_type": "execute_result",
          "data": {
            "text/plain": [
              "{0: 'pad',\n",
              " 1: 'unk',\n",
              " 2: 'ж',\n",
              " 3: 'р',\n",
              " 4: 'ш',\n",
              " 5: 'з',\n",
              " 6: 'к',\n",
              " 7: 'о',\n",
              " 8: 'е',\n",
              " 9: 'я',\n",
              " 10: 'ъ',\n",
              " 11: 'х',\n",
              " 12: 'т',\n",
              " 13: 'в',\n",
              " 14: 'ы',\n",
              " 15: 'ь',\n",
              " 16: 'с',\n",
              " 17: 'и',\n",
              " 18: 'д',\n",
              " 19: 'л',\n",
              " 20: 'щ',\n",
              " 21: 'ю',\n",
              " 22: 'м',\n",
              " 23: 'ч',\n",
              " 24: 'п',\n",
              " 25: 'ц',\n",
              " 26: 'б',\n",
              " 27: 'г',\n",
              " 28: 'ф',\n",
              " 29: 'н',\n",
              " 30: 'а',\n",
              " 31: 'й',\n",
              " 32: 'э',\n",
              " 33: 'у'}"
            ]
          },
          "metadata": {
            "tags": []
          },
          "execution_count": 30
        }
      ]
    },
    {
      "cell_type": "code",
      "metadata": {
        "colab": {
          "base_uri": "https://localhost:8080/"
        },
        "id": "w_9McUUFo1Dr",
        "outputId": "57edfba4-889b-433e-9343-21ca835003ad"
      },
      "source": [
        "char_max_len = max(len(x) for x in filtered_vocab)\r\n",
        "print(\"Максимальная длина слова: %d\" % char_max_len)"
      ],
      "execution_count": 31,
      "outputs": [
        {
          "output_type": "stream",
          "text": [
            "Максимальная длина слова: 33\n"
          ],
          "name": "stdout"
        }
      ]
    },
    {
      "cell_type": "code",
      "metadata": {
        "id": "nDf9ay5sf4iw"
      },
      "source": [
        "def data2ints(data, smth2id):\r\n",
        "  int_data = []\r\n",
        "  for seq in data:\r\n",
        "      int_seq = []\r\n",
        "      for i in seq:\r\n",
        "        int_seq.append(smth2id.get(i, 1))\r\n",
        "  \r\n",
        "      int_data.append(int_seq)\r\n",
        "  return int_data"
      ],
      "execution_count": 32,
      "outputs": []
    },
    {
      "cell_type": "code",
      "metadata": {
        "colab": {
          "base_uri": "https://localhost:8080/"
        },
        "id": "gra-KIFvgB2C",
        "outputId": "61fdc81c-1eba-4fe3-a921-3cecb63935eb"
      },
      "source": [
        "X_train_ids, X_test_ids = data2ints(sent_train, word2id), data2ints(sent_test, word2id)\r\n",
        "y_train_ids, y_test_ids = data2ints(type_train, type2id), data2ints(type_test, type2id)\r\n",
        "\r\n",
        "print(X_train_ids[0])\r\n",
        "print(y_train_ids[0])\r\n",
        "\r\n",
        "print(X_test_ids[0])\r\n",
        "print(y_test_ids[0])"
      ],
      "execution_count": 33,
      "outputs": [
        {
          "output_type": "stream",
          "text": [
            "[21721, 1248, 22478, 18401, 19702, 1329, 20061, 21721, 8312, 1040, 786, 14481, 17907, 1647, 1, 2208, 21004, 10250]\n",
            "[2, 2, 2, 2, 2, 2, 2, 2, 2, 2, 2, 2, 2, 2, 2, 2, 2, 2]\n",
            "[21604, 6816, 1484, 2208, 15269, 1, 1577, 2208, 11747, 1]\n",
            "[3, 3, 3, 3, 3, 3, 3, 3, 3, 3]\n"
          ],
          "name": "stdout"
        }
      ]
    },
    {
      "cell_type": "code",
      "metadata": {
        "colab": {
          "base_uri": "https://localhost:8080/"
        },
        "id": "69lTjZ6Ef7IE",
        "outputId": "1c3cfb2b-466d-4f6c-c679-887af74f9425"
      },
      "source": [
        "sent_max_len = max(len(x) for x in X_train_ids)\r\n",
        "print(\"Максимальная длина предложения: %d\" % sent_max_len)"
      ],
      "execution_count": 34,
      "outputs": [
        {
          "output_type": "stream",
          "text": [
            "Максимальная длина предложения: 34\n"
          ],
          "name": "stdout"
        }
      ]
    },
    {
      "cell_type": "code",
      "metadata": {
        "id": "gYO5TNNXgjlr"
      },
      "source": [
        "X_train, X_test = pad_sequences(X_train_ids, maxlen=sent_max_len, padding='post'), pad_sequences(X_test_ids, maxlen=sent_max_len, padding='post')\r\n",
        "y_train, y_test = pad_sequences(y_train_ids, maxlen=sent_max_len, padding='post'), pad_sequences(y_test_ids, maxlen=sent_max_len, padding='post')"
      ],
      "execution_count": 35,
      "outputs": []
    },
    {
      "cell_type": "code",
      "metadata": {
        "colab": {
          "base_uri": "https://localhost:8080/"
        },
        "id": "KtI5FpTVgkSk",
        "outputId": "c58dd564-b194-42bf-dfb6-1d75b8d3e1aa"
      },
      "source": [
        "print(X_train.shape, y_train.shape, X_test.shape, y_test.shape)"
      ],
      "execution_count": 36,
      "outputs": [
        {
          "output_type": "stream",
          "text": [
            "(181467, 34) (181467, 34) (45367, 34) (45367, 34)\n"
          ],
          "name": "stdout"
        }
      ]
    },
    {
      "cell_type": "code",
      "metadata": {
        "id": "Hs3CMNx1q1Qr"
      },
      "source": [
        "def make_X_char(sentences):\r\n",
        "  X_char = []\r\n",
        "  for sentence in sentences:\r\n",
        "      sent_seq = []\r\n",
        "      for i in range(sent_max_len):\r\n",
        "          word_seq = []\r\n",
        "          for j in range(char_max_len):\r\n",
        "              try:\r\n",
        "                  word_seq.append(char2id[sentence[i][j].lower()])\r\n",
        "              except:\r\n",
        "                  word_seq.append(char2id[\"pad\"])\r\n",
        "          sent_seq.append(word_seq)\r\n",
        "      X_char.append(np.array(sent_seq))\r\n",
        "  return np.array(X_char)"
      ],
      "execution_count": 37,
      "outputs": []
    },
    {
      "cell_type": "code",
      "metadata": {
        "id": "TsjyjjSLq2r8"
      },
      "source": [
        "X_char_train, X_char_test = make_X_char(sent_train), make_X_char(sent_test)"
      ],
      "execution_count": 38,
      "outputs": []
    },
    {
      "cell_type": "code",
      "metadata": {
        "colab": {
          "base_uri": "https://localhost:8080/"
        },
        "id": "NmqhOhmlq-LC",
        "outputId": "76a81f29-c0a2-4160-9f5b-d3c58bc74235"
      },
      "source": [
        "X_char_train.shape"
      ],
      "execution_count": 39,
      "outputs": [
        {
          "output_type": "execute_result",
          "data": {
            "text/plain": [
              "(181467, 34, 33)"
            ]
          },
          "metadata": {
            "tags": []
          },
          "execution_count": 39
        }
      ]
    },
    {
      "cell_type": "markdown",
      "metadata": {
        "id": "A4P69oVVrESD"
      },
      "source": [
        "Проверим, что мы правильно перевели текст в индексы."
      ]
    },
    {
      "cell_type": "code",
      "metadata": {
        "colab": {
          "base_uri": "https://localhost:8080/",
          "height": 35
        },
        "id": "i_x20uxkrLmw",
        "outputId": "7d8992f3-56c6-428e-c17d-9328e5ec4ca9"
      },
      "source": [
        "sent_train[5][0]"
      ],
      "execution_count": 40,
      "outputs": [
        {
          "output_type": "execute_result",
          "data": {
            "application/vnd.google.colaboratory.intrinsic+json": {
              "type": "string"
            },
            "text/plain": [
              "'хахахахаха'"
            ]
          },
          "metadata": {
            "tags": []
          },
          "execution_count": 40
        }
      ]
    },
    {
      "cell_type": "code",
      "metadata": {
        "colab": {
          "base_uri": "https://localhost:8080/"
        },
        "id": "AJiY1u-grPDr",
        "outputId": "c5bf9ed2-c03e-429b-aa4a-d103601bbb51"
      },
      "source": [
        "X_char_train[5][0]"
      ],
      "execution_count": 41,
      "outputs": [
        {
          "output_type": "execute_result",
          "data": {
            "text/plain": [
              "array([11, 30, 11, 30, 11, 30, 11, 30, 11, 30,  0,  0,  0,  0,  0,  0,  0,\n",
              "        0,  0,  0,  0,  0,  0,  0,  0,  0,  0,  0,  0,  0,  0,  0,  0])"
            ]
          },
          "metadata": {
            "tags": []
          },
          "execution_count": 41
        }
      ]
    },
    {
      "cell_type": "code",
      "metadata": {
        "colab": {
          "base_uri": "https://localhost:8080/"
        },
        "id": "EVn1mOMmrPlq",
        "outputId": "36d3d718-4ec5-459e-995c-9e104fa6db71"
      },
      "source": [
        "[id2char[i] for i in X_char_train[5][0]]"
      ],
      "execution_count": 42,
      "outputs": [
        {
          "output_type": "execute_result",
          "data": {
            "text/plain": [
              "['х',\n",
              " 'а',\n",
              " 'х',\n",
              " 'а',\n",
              " 'х',\n",
              " 'а',\n",
              " 'х',\n",
              " 'а',\n",
              " 'х',\n",
              " 'а',\n",
              " 'pad',\n",
              " 'pad',\n",
              " 'pad',\n",
              " 'pad',\n",
              " 'pad',\n",
              " 'pad',\n",
              " 'pad',\n",
              " 'pad',\n",
              " 'pad',\n",
              " 'pad',\n",
              " 'pad',\n",
              " 'pad',\n",
              " 'pad',\n",
              " 'pad',\n",
              " 'pad',\n",
              " 'pad',\n",
              " 'pad',\n",
              " 'pad',\n",
              " 'pad',\n",
              " 'pad',\n",
              " 'pad',\n",
              " 'pad',\n",
              " 'pad']"
            ]
          },
          "metadata": {
            "tags": []
          },
          "execution_count": 42
        }
      ]
    },
    {
      "cell_type": "code",
      "metadata": {
        "colab": {
          "base_uri": "https://localhost:8080/"
        },
        "id": "k1FzeE8nrWiy",
        "outputId": "c04e8fbb-a813-4b6d-ae37-1945d80c329b"
      },
      "source": [
        "X_train[5]"
      ],
      "execution_count": 43,
      "outputs": [
        {
          "output_type": "execute_result",
          "data": {
            "text/plain": [
              "array([ 8428,  7711,  3650,  7340, 13626,     0,     0,     0,     0,\n",
              "           0,     0,     0,     0,     0,     0,     0,     0,     0,\n",
              "           0,     0,     0,     0,     0,     0,     0,     0,     0,\n",
              "           0,     0,     0,     0,     0,     0,     0], dtype=int32)"
            ]
          },
          "metadata": {
            "tags": []
          },
          "execution_count": 43
        }
      ]
    },
    {
      "cell_type": "code",
      "metadata": {
        "colab": {
          "base_uri": "https://localhost:8080/"
        },
        "id": "O1t2WZF6rZO5",
        "outputId": "3a3291f9-29ed-41eb-eadb-be0d64d7bcbd"
      },
      "source": [
        "[id2word[i] for i in X_train[5]][:50]"
      ],
      "execution_count": 44,
      "outputs": [
        {
          "output_type": "execute_result",
          "data": {
            "text/plain": [
              "['хахахахаха',\n",
              " 'согласна',\n",
              " 'будет',\n",
              " 'полный',\n",
              " 'жесткач',\n",
              " 'pad',\n",
              " 'pad',\n",
              " 'pad',\n",
              " 'pad',\n",
              " 'pad',\n",
              " 'pad',\n",
              " 'pad',\n",
              " 'pad',\n",
              " 'pad',\n",
              " 'pad',\n",
              " 'pad',\n",
              " 'pad',\n",
              " 'pad',\n",
              " 'pad',\n",
              " 'pad',\n",
              " 'pad',\n",
              " 'pad',\n",
              " 'pad',\n",
              " 'pad',\n",
              " 'pad',\n",
              " 'pad',\n",
              " 'pad',\n",
              " 'pad',\n",
              " 'pad',\n",
              " 'pad',\n",
              " 'pad',\n",
              " 'pad',\n",
              " 'pad',\n",
              " 'pad']"
            ]
          },
          "metadata": {
            "tags": []
          },
          "execution_count": 44
        }
      ]
    },
    {
      "cell_type": "code",
      "metadata": {
        "id": "XmVmIldngmhH"
      },
      "source": [
        "y_train, y_test = to_categorical(y_train, num_classes=len(type2id)), to_categorical(y_test, num_classes=len(type2id))"
      ],
      "execution_count": 45,
      "outputs": []
    },
    {
      "cell_type": "code",
      "metadata": {
        "colab": {
          "base_uri": "https://localhost:8080/"
        },
        "id": "nZXrn0vPgs1b",
        "outputId": "d2befe39-6d3e-456e-90b9-b1b5a3c8befe"
      },
      "source": [
        "y_train.shape"
      ],
      "execution_count": 46,
      "outputs": [
        {
          "output_type": "execute_result",
          "data": {
            "text/plain": [
              "(181467, 34, 4)"
            ]
          },
          "metadata": {
            "tags": []
          },
          "execution_count": 46
        }
      ]
    },
    {
      "cell_type": "markdown",
      "metadata": {
        "id": "D-ow1JVN-vTX"
      },
      "source": [
        "##**biLSTM Model с обучением эмбеддингов внутри модели**"
      ]
    },
    {
      "cell_type": "code",
      "metadata": {
        "id": "BUysfolq-z7f"
      },
      "source": [
        "word_in = Input(shape=(sent_max_len))\r\n",
        "emb_word = Embedding(input_dim=len(word2id), output_dim=20, mask_zero=True)(word_in)\r\n",
        "lstm = Bidirectional(LSTM(units=128, return_sequences=True, recurrent_dropout=0.2))(emb_word)\r\n",
        "out = TimeDistributed(Dense(len(type2id), activation=\"softmax\"))(lstm)\r\n",
        "\r\n",
        "model = Model(inputs= word_in, outputs=out)\r\n",
        "\r\n",
        "optimizer = optimizers.Adam(learning_rate=0.001)\r\n",
        "model.compile(optimizer=optimizer, loss=\"categorical_crossentropy\", metrics=[Precision(), Recall(), Accuracy()])"
      ],
      "execution_count": null,
      "outputs": []
    },
    {
      "cell_type": "code",
      "metadata": {
        "colab": {
          "base_uri": "https://localhost:8080/"
        },
        "id": "zm8zgITa-5Uz",
        "outputId": "8ef2987c-e309-42f5-9617-0fb7928b0b11"
      },
      "source": [
        "model.summary()"
      ],
      "execution_count": 48,
      "outputs": [
        {
          "output_type": "stream",
          "text": [
            "Model: \"model\"\n",
            "_________________________________________________________________\n",
            "Layer (type)                 Output Shape              Param #   \n",
            "=================================================================\n",
            "input_1 (InputLayer)         [(None, 34)]              0         \n",
            "_________________________________________________________________\n",
            "embedding (Embedding)        (None, 34, 20)            461660    \n",
            "_________________________________________________________________\n",
            "bidirectional (Bidirectional (None, 34, 256)           152576    \n",
            "_________________________________________________________________\n",
            "time_distributed (TimeDistri (None, 34, 4)             1028      \n",
            "=================================================================\n",
            "Total params: 615,264\n",
            "Trainable params: 615,264\n",
            "Non-trainable params: 0\n",
            "_________________________________________________________________\n"
          ],
          "name": "stdout"
        }
      ]
    },
    {
      "cell_type": "code",
      "metadata": {
        "colab": {
          "base_uri": "https://localhost:8080/"
        },
        "id": "hutjzX8u-7Zq",
        "outputId": "d94ec05a-250b-4135-d916-2fd0f5366ecb"
      },
      "source": [
        "model.fit(X_train, y_train, validation_data=(X_test, y_test), batch_size=1024, epochs=30, verbose=1)"
      ],
      "execution_count": 49,
      "outputs": [
        {
          "output_type": "stream",
          "text": [
            "Epoch 1/30\n",
            "178/178 [==============================] - 51s 256ms/step - loss: 0.2830 - precision: 0.4961 - recall: 0.3388 - accuracy: 0.0000e+00 - val_loss: 0.1871 - val_precision: 0.7064 - val_recall: 0.7008 - val_accuracy: 0.0000e+00\n",
            "Epoch 2/30\n",
            "178/178 [==============================] - 44s 248ms/step - loss: 0.1735 - precision: 0.7363 - recall: 0.7318 - accuracy: 0.0000e+00 - val_loss: 0.1745 - val_precision: 0.7325 - val_recall: 0.7297 - val_accuracy: 0.0000e+00\n",
            "Epoch 3/30\n",
            "178/178 [==============================] - 44s 248ms/step - loss: 0.1540 - precision: 0.7763 - recall: 0.7737 - accuracy: 0.0000e+00 - val_loss: 0.1746 - val_precision: 0.7363 - val_recall: 0.7345 - val_accuracy: 0.0000e+00\n",
            "Epoch 4/30\n",
            "178/178 [==============================] - 44s 247ms/step - loss: 0.1429 - precision: 0.7959 - recall: 0.7941 - accuracy: 0.0000e+00 - val_loss: 0.1780 - val_precision: 0.7313 - val_recall: 0.7300 - val_accuracy: 0.0000e+00\n",
            "Epoch 5/30\n",
            "178/178 [==============================] - 44s 246ms/step - loss: 0.1352 - precision: 0.8086 - recall: 0.8071 - accuracy: 0.0000e+00 - val_loss: 0.1817 - val_precision: 0.7284 - val_recall: 0.7272 - val_accuracy: 0.0000e+00\n",
            "Epoch 6/30\n",
            "178/178 [==============================] - 44s 247ms/step - loss: 0.1277 - precision: 0.8220 - recall: 0.8208 - accuracy: 0.0000e+00 - val_loss: 0.1889 - val_precision: 0.7248 - val_recall: 0.7239 - val_accuracy: 0.0000e+00\n",
            "Epoch 7/30\n",
            "178/178 [==============================] - 44s 248ms/step - loss: 0.1219 - precision: 0.8301 - recall: 0.8293 - accuracy: 0.0000e+00 - val_loss: 0.2007 - val_precision: 0.7209 - val_recall: 0.7202 - val_accuracy: 0.0000e+00\n",
            "Epoch 8/30\n",
            "178/178 [==============================] - 44s 246ms/step - loss: 0.1180 - precision: 0.8375 - recall: 0.8368 - accuracy: 0.0000e+00 - val_loss: 0.2001 - val_precision: 0.7212 - val_recall: 0.7205 - val_accuracy: 0.0000e+00\n",
            "Epoch 9/30\n",
            "178/178 [==============================] - 44s 245ms/step - loss: 0.1134 - precision: 0.8456 - recall: 0.8449 - accuracy: 0.0000e+00 - val_loss: 0.2090 - val_precision: 0.7199 - val_recall: 0.7192 - val_accuracy: 0.0000e+00\n",
            "Epoch 10/30\n",
            "178/178 [==============================] - 44s 246ms/step - loss: 0.1088 - precision: 0.8523 - recall: 0.8517 - accuracy: 0.0000e+00 - val_loss: 0.2190 - val_precision: 0.7189 - val_recall: 0.7183 - val_accuracy: 0.0000e+00\n",
            "Epoch 11/30\n",
            "178/178 [==============================] - 44s 246ms/step - loss: 0.1053 - precision: 0.8576 - recall: 0.8570 - accuracy: 0.0000e+00 - val_loss: 0.2252 - val_precision: 0.7177 - val_recall: 0.7172 - val_accuracy: 0.0000e+00\n",
            "Epoch 12/30\n",
            "178/178 [==============================] - 44s 245ms/step - loss: 0.1011 - precision: 0.8635 - recall: 0.8630 - accuracy: 0.0000e+00 - val_loss: 0.2333 - val_precision: 0.7112 - val_recall: 0.7108 - val_accuracy: 0.0000e+00\n",
            "Epoch 13/30\n",
            "178/178 [==============================] - 44s 249ms/step - loss: 0.0993 - precision: 0.8653 - recall: 0.8648 - accuracy: 0.0000e+00 - val_loss: 0.2538 - val_precision: 0.7130 - val_recall: 0.7125 - val_accuracy: 0.0000e+00\n",
            "Epoch 14/30\n",
            "178/178 [==============================] - 44s 247ms/step - loss: 0.0948 - precision: 0.8729 - recall: 0.8725 - accuracy: 5.9582e-06 - val_loss: 0.2544 - val_precision: 0.7116 - val_recall: 0.7111 - val_accuracy: 2.4931e-06\n",
            "Epoch 15/30\n",
            "178/178 [==============================] - 44s 248ms/step - loss: 0.0916 - precision: 0.8775 - recall: 0.8771 - accuracy: 5.9786e-05 - val_loss: 0.2640 - val_precision: 0.7112 - val_recall: 0.7107 - val_accuracy: 2.4433e-05\n",
            "Epoch 16/30\n",
            "178/178 [==============================] - 44s 248ms/step - loss: 0.0889 - precision: 0.8818 - recall: 0.8814 - accuracy: 9.5507e-05 - val_loss: 0.2769 - val_precision: 0.7091 - val_recall: 0.7086 - val_accuracy: 6.5818e-05\n",
            "Epoch 17/30\n",
            "178/178 [==============================] - 44s 245ms/step - loss: 0.0878 - precision: 0.8825 - recall: 0.8822 - accuracy: 1.9460e-04 - val_loss: 0.2847 - val_precision: 0.7086 - val_recall: 0.7082 - val_accuracy: 2.2588e-04\n",
            "Epoch 18/30\n",
            "178/178 [==============================] - 44s 246ms/step - loss: 0.0846 - precision: 0.8872 - recall: 0.8870 - accuracy: 3.6553e-04 - val_loss: 0.2979 - val_precision: 0.7079 - val_recall: 0.7075 - val_accuracy: 2.8721e-04\n",
            "Epoch 19/30\n",
            "178/178 [==============================] - 44s 248ms/step - loss: 0.0827 - precision: 0.8892 - recall: 0.8890 - accuracy: 5.0718e-04 - val_loss: 0.3049 - val_precision: 0.7075 - val_recall: 0.7073 - val_accuracy: 4.5425e-04\n",
            "Epoch 20/30\n",
            "178/178 [==============================] - 43s 244ms/step - loss: 0.0808 - precision: 0.8923 - recall: 0.8921 - accuracy: 7.1174e-04 - val_loss: 0.3076 - val_precision: 0.7056 - val_recall: 0.7053 - val_accuracy: 5.5946e-04\n",
            "Epoch 21/30\n",
            "178/178 [==============================] - 44s 249ms/step - loss: 0.0792 - precision: 0.8936 - recall: 0.8935 - accuracy: 8.6302e-04 - val_loss: 0.3275 - val_precision: 0.7053 - val_recall: 0.7050 - val_accuracy: 6.5669e-04\n",
            "Epoch 22/30\n",
            "178/178 [==============================] - 44s 247ms/step - loss: 0.0773 - precision: 0.8968 - recall: 0.8966 - accuracy: 0.0010 - val_loss: 0.3359 - val_precision: 0.7036 - val_recall: 0.7033 - val_accuracy: 8.6761e-04\n",
            "Epoch 23/30\n",
            "178/178 [==============================] - 44s 247ms/step - loss: 0.0752 - precision: 0.8996 - recall: 0.8994 - accuracy: 0.0013 - val_loss: 0.3371 - val_precision: 0.7015 - val_recall: 0.7013 - val_accuracy: 9.5237e-04\n",
            "Epoch 24/30\n",
            "178/178 [==============================] - 45s 251ms/step - loss: 0.0740 - precision: 0.9008 - recall: 0.9007 - accuracy: 0.0016 - val_loss: 0.3539 - val_precision: 0.7025 - val_recall: 0.7023 - val_accuracy: 0.0012\n",
            "Epoch 25/30\n",
            "178/178 [==============================] - 44s 247ms/step - loss: 0.0721 - precision: 0.9033 - recall: 0.9032 - accuracy: 0.0017 - val_loss: 0.3481 - val_precision: 0.7010 - val_recall: 0.7008 - val_accuracy: 0.0012\n",
            "Epoch 26/30\n",
            "178/178 [==============================] - 44s 245ms/step - loss: 0.0707 - precision: 0.9055 - recall: 0.9054 - accuracy: 0.0020 - val_loss: 0.3631 - val_precision: 0.7010 - val_recall: 0.7008 - val_accuracy: 0.0014\n",
            "Epoch 27/30\n",
            "178/178 [==============================] - 44s 247ms/step - loss: 0.0691 - precision: 0.9078 - recall: 0.9077 - accuracy: 0.0023 - val_loss: 0.3674 - val_precision: 0.7003 - val_recall: 0.7001 - val_accuracy: 0.0017\n",
            "Epoch 28/30\n",
            "178/178 [==============================] - 44s 248ms/step - loss: 0.0677 - precision: 0.9099 - recall: 0.9097 - accuracy: 0.0026 - val_loss: 0.3775 - val_precision: 0.7003 - val_recall: 0.7001 - val_accuracy: 0.0018\n",
            "Epoch 29/30\n",
            "178/178 [==============================] - 44s 250ms/step - loss: 0.0663 - precision: 0.9110 - recall: 0.9109 - accuracy: 0.0032 - val_loss: 0.3769 - val_precision: 0.6982 - val_recall: 0.6980 - val_accuracy: 0.0019\n",
            "Epoch 30/30\n",
            "178/178 [==============================] - 44s 247ms/step - loss: 0.0643 - precision: 0.9142 - recall: 0.9141 - accuracy: 0.0036 - val_loss: 0.3991 - val_precision: 0.6975 - val_recall: 0.6973 - val_accuracy: 0.0023\n"
          ],
          "name": "stdout"
        },
        {
          "output_type": "execute_result",
          "data": {
            "text/plain": [
              "<tensorflow.python.keras.callbacks.History at 0x7f5972d3b518>"
            ]
          },
          "metadata": {
            "tags": []
          },
          "execution_count": 49
        }
      ]
    },
    {
      "cell_type": "markdown",
      "metadata": {
        "id": "zZ6YK0vchXFO"
      },
      "source": [
        "##**biLSTM Model с предобученными для русского языка эмбеддингами**"
      ]
    },
    {
      "cell_type": "code",
      "metadata": {
        "id": "EXHO7I8qhbm2"
      },
      "source": [
        "word_in = Input(shape=(sent_max_len))\r\n",
        "emb_word = Embedding(input_dim=len(word2id), output_dim=300, trainable=False, weights=[weights])(word_in)\r\n",
        "lstm = Bidirectional(LSTM(units=128, return_sequences=True, recurrent_dropout=0.2))(emb_word)\r\n",
        "out = TimeDistributed(Dense(len(type2id), activation=\"softmax\"))(lstm)\r\n",
        "\r\n",
        "model = Model(inputs= word_in, outputs=out)\r\n",
        "\r\n",
        "optimizer = optimizers.Adam(learning_rate=0.001)\r\n",
        "model.compile(optimizer=optimizer, loss=\"categorical_crossentropy\", metrics=[Precision(), Recall(), Accuracy()])"
      ],
      "execution_count": null,
      "outputs": []
    },
    {
      "cell_type": "code",
      "metadata": {
        "colab": {
          "base_uri": "https://localhost:8080/"
        },
        "id": "luohWQLwhfpK",
        "outputId": "76cbd118-62a7-4b92-d036-2dc5d46210e2"
      },
      "source": [
        "model.summary()"
      ],
      "execution_count": 51,
      "outputs": [
        {
          "output_type": "stream",
          "text": [
            "Model: \"model_1\"\n",
            "_________________________________________________________________\n",
            "Layer (type)                 Output Shape              Param #   \n",
            "=================================================================\n",
            "input_2 (InputLayer)         [(None, 34)]              0         \n",
            "_________________________________________________________________\n",
            "embedding_1 (Embedding)      (None, 34, 300)           6924900   \n",
            "_________________________________________________________________\n",
            "bidirectional_1 (Bidirection (None, 34, 256)           439296    \n",
            "_________________________________________________________________\n",
            "time_distributed_1 (TimeDist (None, 34, 4)             1028      \n",
            "=================================================================\n",
            "Total params: 7,365,224\n",
            "Trainable params: 440,324\n",
            "Non-trainable params: 6,924,900\n",
            "_________________________________________________________________\n"
          ],
          "name": "stdout"
        }
      ]
    },
    {
      "cell_type": "code",
      "metadata": {
        "colab": {
          "base_uri": "https://localhost:8080/"
        },
        "id": "9HVhPDxDhi_M",
        "outputId": "94ec953c-fbf7-4208-8fff-7264734b7794"
      },
      "source": [
        "model.fit(X_train, y_train, validation_data=(X_test, y_test), batch_size=1024, epochs=30, verbose=1)"
      ],
      "execution_count": 52,
      "outputs": [
        {
          "output_type": "stream",
          "text": [
            "Epoch 1/30\n",
            "178/178 [==============================] - 40s 208ms/step - loss: 0.5570 - precision_1: 0.8669 - recall_1: 0.5744 - accuracy: 0.0027 - val_loss: 0.2433 - val_precision_1: 0.8641 - val_recall_1: 0.8308 - val_accuracy: 0.0625\n",
            "Epoch 2/30\n",
            "178/178 [==============================] - 37s 208ms/step - loss: 0.2371 - precision_1: 0.8684 - recall_1: 0.8450 - accuracy: 0.0261 - val_loss: 0.2242 - val_precision_1: 0.8721 - val_recall_1: 0.8622 - val_accuracy: 0.0182\n",
            "Epoch 3/30\n",
            "178/178 [==============================] - 38s 211ms/step - loss: 0.2224 - precision_1: 0.8726 - recall_1: 0.8637 - accuracy: 0.0182 - val_loss: 0.2192 - val_precision_1: 0.8720 - val_recall_1: 0.8670 - val_accuracy: 2.2691e-06\n",
            "Epoch 4/30\n",
            "178/178 [==============================] - 37s 209ms/step - loss: 0.2165 - precision_1: 0.8757 - recall_1: 0.8713 - accuracy: 0.0155 - val_loss: 0.2146 - val_precision_1: 0.8770 - val_recall_1: 0.8744 - val_accuracy: 0.0486\n",
            "Epoch 5/30\n",
            "178/178 [==============================] - 37s 210ms/step - loss: 0.2134 - precision_1: 0.8775 - recall_1: 0.8750 - accuracy: 0.0244 - val_loss: 0.2138 - val_precision_1: 0.8768 - val_recall_1: 0.8750 - val_accuracy: 0.0283\n",
            "Epoch 6/30\n",
            "178/178 [==============================] - 37s 211ms/step - loss: 0.2117 - precision_1: 0.8788 - recall_1: 0.8771 - accuracy: 0.0357 - val_loss: 0.2137 - val_precision_1: 0.8763 - val_recall_1: 0.8753 - val_accuracy: 0.0273\n",
            "Epoch 7/30\n",
            "178/178 [==============================] - 37s 207ms/step - loss: 0.2108 - precision_1: 0.8791 - recall_1: 0.8779 - accuracy: 0.0386 - val_loss: 0.2099 - val_precision_1: 0.8801 - val_recall_1: 0.8792 - val_accuracy: 0.0747\n",
            "Epoch 8/30\n",
            "178/178 [==============================] - 36s 205ms/step - loss: 0.2095 - precision_1: 0.8803 - recall_1: 0.8794 - accuracy: 0.0504 - val_loss: 0.2101 - val_precision_1: 0.8800 - val_recall_1: 0.8793 - val_accuracy: 0.0628\n",
            "Epoch 9/30\n",
            "178/178 [==============================] - 37s 208ms/step - loss: 0.2098 - precision_1: 0.8798 - recall_1: 0.8790 - accuracy: 0.0453 - val_loss: 0.2088 - val_precision_1: 0.8804 - val_recall_1: 0.8798 - val_accuracy: 0.0713\n",
            "Epoch 10/30\n",
            "178/178 [==============================] - 37s 210ms/step - loss: 0.2071 - precision_1: 0.8824 - recall_1: 0.8817 - accuracy: 0.0532 - val_loss: 0.2079 - val_precision_1: 0.8813 - val_recall_1: 0.8808 - val_accuracy: 0.0382\n",
            "Epoch 11/30\n",
            "178/178 [==============================] - 37s 209ms/step - loss: 0.2065 - precision_1: 0.8827 - recall_1: 0.8822 - accuracy: 0.0512 - val_loss: 0.2068 - val_precision_1: 0.8825 - val_recall_1: 0.8820 - val_accuracy: 0.0669\n",
            "Epoch 12/30\n",
            "178/178 [==============================] - 37s 206ms/step - loss: 0.2056 - precision_1: 0.8837 - recall_1: 0.8832 - accuracy: 0.0561 - val_loss: 0.2089 - val_precision_1: 0.8801 - val_recall_1: 0.8796 - val_accuracy: 0.0758\n",
            "Epoch 13/30\n",
            "178/178 [==============================] - 37s 207ms/step - loss: 0.2048 - precision_1: 0.8841 - recall_1: 0.8837 - accuracy: 0.0698 - val_loss: 0.2071 - val_precision_1: 0.8815 - val_recall_1: 0.8811 - val_accuracy: 0.0903\n",
            "Epoch 14/30\n",
            "178/178 [==============================] - 37s 207ms/step - loss: 0.2031 - precision_1: 0.8855 - recall_1: 0.8850 - accuracy: 0.0708 - val_loss: 0.2060 - val_precision_1: 0.8837 - val_recall_1: 0.8834 - val_accuracy: 0.0770\n",
            "Epoch 15/30\n",
            "178/178 [==============================] - 37s 206ms/step - loss: 0.2031 - precision_1: 0.8862 - recall_1: 0.8859 - accuracy: 0.0556 - val_loss: 0.2045 - val_precision_1: 0.8842 - val_recall_1: 0.8838 - val_accuracy: 0.0806\n",
            "Epoch 16/30\n",
            "178/178 [==============================] - 37s 208ms/step - loss: 0.2023 - precision_1: 0.8869 - recall_1: 0.8866 - accuracy: 0.0764 - val_loss: 0.2034 - val_precision_1: 0.8856 - val_recall_1: 0.8852 - val_accuracy: 0.0943\n",
            "Epoch 17/30\n",
            "178/178 [==============================] - 36s 204ms/step - loss: 0.2011 - precision_1: 0.8879 - recall_1: 0.8876 - accuracy: 0.0742 - val_loss: 0.2051 - val_precision_1: 0.8846 - val_recall_1: 0.8843 - val_accuracy: 0.0568\n",
            "Epoch 18/30\n",
            "178/178 [==============================] - 37s 209ms/step - loss: 0.2012 - precision_1: 0.8881 - recall_1: 0.8879 - accuracy: 0.0557 - val_loss: 0.2027 - val_precision_1: 0.8864 - val_recall_1: 0.8862 - val_accuracy: 0.0769\n",
            "Epoch 19/30\n",
            "178/178 [==============================] - 37s 208ms/step - loss: 0.1991 - precision_1: 0.8894 - recall_1: 0.8892 - accuracy: 0.0774 - val_loss: 0.2014 - val_precision_1: 0.8874 - val_recall_1: 0.8872 - val_accuracy: 0.0829\n",
            "Epoch 20/30\n",
            "178/178 [==============================] - 37s 206ms/step - loss: 0.1984 - precision_1: 0.8905 - recall_1: 0.8903 - accuracy: 0.0931 - val_loss: 0.2021 - val_precision_1: 0.8863 - val_recall_1: 0.8860 - val_accuracy: 0.0923\n",
            "Epoch 21/30\n",
            "178/178 [==============================] - 37s 207ms/step - loss: 0.1975 - precision_1: 0.8911 - recall_1: 0.8909 - accuracy: 0.0724 - val_loss: 0.2018 - val_precision_1: 0.8862 - val_recall_1: 0.8861 - val_accuracy: 0.0746\n",
            "Epoch 22/30\n",
            "178/178 [==============================] - 38s 212ms/step - loss: 0.1967 - precision_1: 0.8919 - recall_1: 0.8917 - accuracy: 0.0723 - val_loss: 0.1999 - val_precision_1: 0.8886 - val_recall_1: 0.8884 - val_accuracy: 0.0952\n",
            "Epoch 23/30\n",
            "178/178 [==============================] - 38s 214ms/step - loss: 0.1967 - precision_1: 0.8915 - recall_1: 0.8913 - accuracy: 0.0570 - val_loss: 0.1997 - val_precision_1: 0.8896 - val_recall_1: 0.8895 - val_accuracy: 0.1053\n",
            "Epoch 24/30\n",
            "178/178 [==============================] - 38s 211ms/step - loss: 0.1949 - precision_1: 0.8934 - recall_1: 0.8932 - accuracy: 0.0957 - val_loss: 0.2055 - val_precision_1: 0.8847 - val_recall_1: 0.8846 - val_accuracy: 0.0889\n",
            "Epoch 25/30\n",
            "178/178 [==============================] - 37s 211ms/step - loss: 0.1945 - precision_1: 0.8937 - recall_1: 0.8936 - accuracy: 0.0791 - val_loss: 0.1989 - val_precision_1: 0.8904 - val_recall_1: 0.8902 - val_accuracy: 0.1067\n",
            "Epoch 26/30\n",
            "178/178 [==============================] - 37s 210ms/step - loss: 0.1938 - precision_1: 0.8945 - recall_1: 0.8943 - accuracy: 0.0848 - val_loss: 0.1985 - val_precision_1: 0.8907 - val_recall_1: 0.8906 - val_accuracy: 0.1148\n",
            "Epoch 27/30\n",
            "178/178 [==============================] - 38s 211ms/step - loss: 0.1934 - precision_1: 0.8947 - recall_1: 0.8945 - accuracy: 0.0927 - val_loss: 0.1989 - val_precision_1: 0.8899 - val_recall_1: 0.8898 - val_accuracy: 0.1257\n",
            "Epoch 28/30\n",
            "178/178 [==============================] - 37s 210ms/step - loss: 0.1927 - precision_1: 0.8956 - recall_1: 0.8955 - accuracy: 0.1103 - val_loss: 0.1975 - val_precision_1: 0.8916 - val_recall_1: 0.8915 - val_accuracy: 0.1190\n",
            "Epoch 29/30\n",
            "178/178 [==============================] - 37s 209ms/step - loss: 0.1916 - precision_1: 0.8961 - recall_1: 0.8960 - accuracy: 0.1069 - val_loss: 0.1994 - val_precision_1: 0.8907 - val_recall_1: 0.8906 - val_accuracy: 0.1127\n",
            "Epoch 30/30\n",
            "178/178 [==============================] - 38s 214ms/step - loss: 0.1905 - precision_1: 0.8975 - recall_1: 0.8973 - accuracy: 0.0910 - val_loss: 0.1972 - val_precision_1: 0.8918 - val_recall_1: 0.8917 - val_accuracy: 0.0961\n"
          ],
          "name": "stdout"
        },
        {
          "output_type": "execute_result",
          "data": {
            "text/plain": [
              "<tensorflow.python.keras.callbacks.History at 0x7f596d349518>"
            ]
          },
          "metadata": {
            "tags": []
          },
          "execution_count": 52
        }
      ]
    },
    {
      "cell_type": "markdown",
      "metadata": {
        "id": "W-K90urIf1xB"
      },
      "source": [
        "Посмотрим на показатели accuracy у двух моделей - модель с использованием предобученных эмбеддингов эффективнее. Построим усложнённую модель на предобученных эмбеддингах."
      ]
    },
    {
      "cell_type": "markdown",
      "metadata": {
        "id": "L_wUUTBNiZh8"
      },
      "source": [
        "##**biLSTM + CharCNN с предобученными для русского языка эмбеддингами**"
      ]
    },
    {
      "cell_type": "code",
      "metadata": {
        "id": "WuVj8q97jGF2"
      },
      "source": [
        "# один вход для слов\r\n",
        "word_in = Input(shape=(sent_max_len))\r\n",
        "emb_word = Embedding(input_dim=len(word2id), output_dim=300, trainable=False, weights=[weights])(word_in)\r\n",
        "\r\n",
        "# другой вход для символов\r\n",
        "char_in = Input(shape=(sent_max_len, char_max_len))\r\n",
        "emb_char = TimeDistributed(Embedding(input_dim=len(char2id), output_dim=10, input_length=char_max_len))(char_in)\r\n",
        "# свертка на символах (CharRNN) применяется к каждому слову отдельно\r\n",
        "char_enc = TimeDistributed(Conv1D(filters=12, kernel_size=3))(emb_char)\r\n",
        "char_flat = TimeDistributed(Flatten())(char_enc)\r\n",
        "\r\n",
        "# LSTM проходится по всей последовательности, на каждом шаге беря эмбеддинг слова по словарю + символьный эмбеддинг слова \r\n",
        "x = concatenate([emb_word, char_flat])\r\n",
        "main_lstm = Bidirectional(LSTM(units=128, return_sequences=True,\r\n",
        "                               recurrent_dropout=0.5))(x)\r\n",
        "out = TimeDistributed(Dense(len(type2id), activation=\"softmax\"))(main_lstm)\r\n",
        "\r\n",
        "model = Model(inputs=[char_in, word_in], outputs=out)\r\n",
        "\r\n",
        "\r\n",
        "optimizer = optimizers.Adam(learning_rate=0.001)\r\n",
        "model.compile(optimizer=optimizer, loss=\"categorical_crossentropy\", metrics=[Precision(), Recall(), Accuracy()])"
      ],
      "execution_count": null,
      "outputs": []
    },
    {
      "cell_type": "code",
      "metadata": {
        "colab": {
          "base_uri": "https://localhost:8080/"
        },
        "id": "i4_w0ncojJuS",
        "outputId": "39ef61e9-d711-4444-f3bd-72434e410f9d"
      },
      "source": [
        "model.summary()"
      ],
      "execution_count": 57,
      "outputs": [
        {
          "output_type": "stream",
          "text": [
            "Model: \"model_3\"\n",
            "__________________________________________________________________________________________________\n",
            "Layer (type)                    Output Shape         Param #     Connected to                     \n",
            "==================================================================================================\n",
            "input_6 (InputLayer)            [(None, 34, 33)]     0                                            \n",
            "__________________________________________________________________________________________________\n",
            "time_distributed_6 (TimeDistrib (None, 34, 33, 10)   340         input_6[0][0]                    \n",
            "__________________________________________________________________________________________________\n",
            "input_5 (InputLayer)            [(None, 34)]         0                                            \n",
            "__________________________________________________________________________________________________\n",
            "time_distributed_7 (TimeDistrib (None, 34, 31, 12)   372         time_distributed_6[0][0]         \n",
            "__________________________________________________________________________________________________\n",
            "embedding_4 (Embedding)         (None, 34, 300)      6924900     input_5[0][0]                    \n",
            "__________________________________________________________________________________________________\n",
            "time_distributed_8 (TimeDistrib (None, 34, 372)      0           time_distributed_7[0][0]         \n",
            "__________________________________________________________________________________________________\n",
            "concatenate_1 (Concatenate)     (None, 34, 672)      0           embedding_4[0][0]                \n",
            "                                                                 time_distributed_8[0][0]         \n",
            "__________________________________________________________________________________________________\n",
            "bidirectional_3 (Bidirectional) (None, 34, 256)      820224      concatenate_1[0][0]              \n",
            "__________________________________________________________________________________________________\n",
            "time_distributed_9 (TimeDistrib (None, 34, 4)        1028        bidirectional_3[0][0]            \n",
            "==================================================================================================\n",
            "Total params: 7,746,864\n",
            "Trainable params: 821,964\n",
            "Non-trainable params: 6,924,900\n",
            "__________________________________________________________________________________________________\n"
          ],
          "name": "stdout"
        }
      ]
    },
    {
      "cell_type": "markdown",
      "metadata": {
        "id": "uieDIX5ylznA"
      },
      "source": [
        "В ходе эскпериментов уменьшила кол-во эпох до 20, т.к. после 20-ой эпохи показатели стали понемногу падать."
      ]
    },
    {
      "cell_type": "code",
      "metadata": {
        "colab": {
          "base_uri": "https://localhost:8080/"
        },
        "id": "A1nn3YhtjL-S",
        "outputId": "f64ee481-5638-48b3-efad-dcb5cd6720eb"
      },
      "source": [
        "model.fit([X_char_train, X_train], y_train, validation_data=([X_char_test, X_test], y_test), batch_size=1024, epochs=20, verbose=1)"
      ],
      "execution_count": 59,
      "outputs": [
        {
          "output_type": "stream",
          "text": [
            "Epoch 1/20\n",
            "178/178 [==============================] - 51s 288ms/step - loss: 0.1706 - precision_3: 0.9133 - recall_3: 0.9133 - accuracy: 0.0330 - val_loss: 0.1826 - val_precision_3: 0.9050 - val_recall_3: 0.9049 - val_accuracy: 0.0465\n",
            "Epoch 2/20\n",
            "178/178 [==============================] - 50s 283ms/step - loss: 0.1688 - precision_3: 0.9146 - recall_3: 0.9146 - accuracy: 0.0184 - val_loss: 0.1874 - val_precision_3: 0.9027 - val_recall_3: 0.9027 - val_accuracy: 0.0670\n",
            "Epoch 3/20\n",
            "178/178 [==============================] - 51s 286ms/step - loss: 0.1667 - precision_3: 0.9161 - recall_3: 0.9160 - accuracy: 0.0310 - val_loss: 0.1825 - val_precision_3: 0.9060 - val_recall_3: 0.9059 - val_accuracy: 0.0816\n",
            "Epoch 4/20\n",
            "178/178 [==============================] - 51s 287ms/step - loss: 0.1653 - precision_3: 0.9172 - recall_3: 0.9171 - accuracy: 0.0231 - val_loss: 0.1836 - val_precision_3: 0.9054 - val_recall_3: 0.9053 - val_accuracy: 0.0470\n",
            "Epoch 5/20\n",
            "178/178 [==============================] - 51s 285ms/step - loss: 0.1634 - precision_3: 0.9184 - recall_3: 0.9183 - accuracy: 0.0115 - val_loss: 0.1831 - val_precision_3: 0.9068 - val_recall_3: 0.9068 - val_accuracy: 0.0165\n",
            "Epoch 6/20\n",
            "178/178 [==============================] - 51s 284ms/step - loss: 0.1614 - precision_3: 0.9197 - recall_3: 0.9196 - accuracy: 0.0164 - val_loss: 0.1828 - val_precision_3: 0.9065 - val_recall_3: 0.9065 - val_accuracy: 0.0858\n",
            "Epoch 7/20\n",
            "178/178 [==============================] - 51s 284ms/step - loss: 0.1591 - precision_3: 0.9213 - recall_3: 0.9212 - accuracy: 0.0160 - val_loss: 0.1840 - val_precision_3: 0.9064 - val_recall_3: 0.9064 - val_accuracy: 0.0593\n",
            "Epoch 8/20\n",
            "178/178 [==============================] - 50s 283ms/step - loss: 0.1570 - precision_3: 0.9228 - recall_3: 0.9227 - accuracy: 0.0236 - val_loss: 0.1827 - val_precision_3: 0.9068 - val_recall_3: 0.9068 - val_accuracy: 0.0905\n",
            "Epoch 9/20\n",
            "178/178 [==============================] - 50s 283ms/step - loss: 0.1556 - precision_3: 0.9237 - recall_3: 0.9236 - accuracy: 0.0261 - val_loss: 0.1849 - val_precision_3: 0.9069 - val_recall_3: 0.9069 - val_accuracy: 0.0803\n",
            "Epoch 10/20\n",
            "178/178 [==============================] - 51s 285ms/step - loss: 0.1538 - precision_3: 0.9251 - recall_3: 0.9251 - accuracy: 0.0351 - val_loss: 0.1849 - val_precision_3: 0.9077 - val_recall_3: 0.9077 - val_accuracy: 0.0899\n",
            "Epoch 11/20\n",
            "178/178 [==============================] - 51s 286ms/step - loss: 0.1505 - precision_3: 0.9269 - recall_3: 0.9269 - accuracy: 0.0346 - val_loss: 0.1849 - val_precision_3: 0.9079 - val_recall_3: 0.9078 - val_accuracy: 0.0963\n",
            "Epoch 12/20\n",
            "178/178 [==============================] - 51s 285ms/step - loss: 0.1492 - precision_3: 0.9279 - recall_3: 0.9279 - accuracy: 0.0380 - val_loss: 0.1869 - val_precision_3: 0.9074 - val_recall_3: 0.9074 - val_accuracy: 0.1121\n",
            "Epoch 13/20\n",
            "178/178 [==============================] - 51s 284ms/step - loss: 0.1468 - precision_3: 0.9293 - recall_3: 0.9293 - accuracy: 0.0484 - val_loss: 0.1858 - val_precision_3: 0.9090 - val_recall_3: 0.9090 - val_accuracy: 0.1091\n",
            "Epoch 14/20\n",
            "178/178 [==============================] - 50s 283ms/step - loss: 0.1446 - precision_3: 0.9307 - recall_3: 0.9306 - accuracy: 0.0490 - val_loss: 0.1866 - val_precision_3: 0.9088 - val_recall_3: 0.9087 - val_accuracy: 0.1017\n",
            "Epoch 15/20\n",
            "178/178 [==============================] - 50s 283ms/step - loss: 0.1423 - precision_3: 0.9321 - recall_3: 0.9320 - accuracy: 0.0458 - val_loss: 0.1863 - val_precision_3: 0.9091 - val_recall_3: 0.9091 - val_accuracy: 0.1292\n",
            "Epoch 16/20\n",
            "178/178 [==============================] - 51s 284ms/step - loss: 0.1401 - precision_3: 0.9335 - recall_3: 0.9334 - accuracy: 0.0523 - val_loss: 0.1894 - val_precision_3: 0.9091 - val_recall_3: 0.9091 - val_accuracy: 0.1088\n",
            "Epoch 17/20\n",
            "178/178 [==============================] - 50s 283ms/step - loss: 0.1384 - precision_3: 0.9345 - recall_3: 0.9345 - accuracy: 0.0553 - val_loss: 0.1949 - val_precision_3: 0.9069 - val_recall_3: 0.9068 - val_accuracy: 0.1117\n",
            "Epoch 18/20\n",
            "178/178 [==============================] - 51s 288ms/step - loss: 0.1361 - precision_3: 0.9358 - recall_3: 0.9358 - accuracy: 0.0574 - val_loss: 0.1991 - val_precision_3: 0.9069 - val_recall_3: 0.9069 - val_accuracy: 0.0668\n",
            "Epoch 19/20\n",
            "178/178 [==============================] - 51s 286ms/step - loss: 0.1343 - precision_3: 0.9369 - recall_3: 0.9369 - accuracy: 0.0590 - val_loss: 0.1984 - val_precision_3: 0.9068 - val_recall_3: 0.9067 - val_accuracy: 0.1006\n",
            "Epoch 20/20\n",
            "178/178 [==============================] - 51s 285ms/step - loss: 0.1324 - precision_3: 0.9380 - recall_3: 0.9380 - accuracy: 0.0549 - val_loss: 0.1923 - val_precision_3: 0.9085 - val_recall_3: 0.9085 - val_accuracy: 0.1055\n"
          ],
          "name": "stdout"
        },
        {
          "output_type": "execute_result",
          "data": {
            "text/plain": [
              "<tensorflow.python.keras.callbacks.History at 0x7f59512a7d30>"
            ]
          },
          "metadata": {
            "tags": []
          },
          "execution_count": 59
        }
      ]
    },
    {
      "cell_type": "markdown",
      "metadata": {
        "id": "ZWQE_dfEg5n8"
      },
      "source": [
        "###**Попытка сравнения трёх моделей**"
      ]
    },
    {
      "cell_type": "markdown",
      "metadata": {
        "id": "EjH6rUyIhfnG"
      },
      "source": [
        "Как мы видим, показатели простых моделей biLSTM повышались в процессе обучения, также результаты работы модели с использованием предобученных эмбеддингов были лучше, чем у первой модели.\r\n",
        "\r\n",
        "У усложнённой модели показатели accuracy сначала скорее ухудшаются, но после прохожения 5 эпохи они начинают постепенно расти. В целом же, качество работы третьей модели превосходит предыдущие, так что предварительно мы можем сделать вывод, что увеличение числа слоёв в модели положительно влияет на её эффективность.\r\n",
        "\r\n"
      ]
    }
  ]
}
