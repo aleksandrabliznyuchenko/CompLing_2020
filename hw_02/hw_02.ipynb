{
 "cells": [
  {
   "cell_type": "markdown",
   "metadata": {
    "colab_type": "text",
    "id": "view-in-github"
   },
   "source": [
    "<a href=\"https://colab.research.google.com/gist/oserikov/f430e81939ffff48cafd6377b9e67b9c/.ipynb\" target=\"_parent\"><img src=\"https://colab.research.google.com/assets/colab-badge.svg\" alt=\"Open In Colab\"/></a>"
   ]
  },
  {
   "cell_type": "markdown",
   "metadata": {
    "id": "Uh6wr5m8ZFot"
   },
   "source": [
    "# Домашнее задание о векторизации текстов"
   ]
  },
  {
   "cell_type": "markdown",
   "metadata": {
    "id": "_bm1AFbqZFIY"
   },
   "source": [
    "В задании вам предстоит сравнить несколько методов снижения размерности\n",
    "* PCA\n",
    "* t-SNE\n",
    "\n",
    "а так же попробовать осуществить тематическое моделирование методом LDA.\n",
    "\n",
    "**Формат сдачи задания** -- указание в гуглформе ссылки на тетрадь с решением + ответ на вопросы (см. последние вопросы первой задачи) в форме. Форма появится ближе к дедлайну.\n",
    "\n",
    "**Дедлайн** 23.59 7 октября MSK.  \n",
    "\n",
    "ДЗ предполагает возможность получения **до 12 баллов** по десятибалльной шкале. Оценки 11 и 12 поступают в ведомость, как оценки 11 и 12.\n",
    "\n",
    "---\n",
    "\n",
    "Если вы уже хорошо знакомы с снижением размерности, реализуйте первую задачу, используя не Bag-of-Words векторы текстов, а эмбеддинги текстов, полученные алгоритмом на ваш выбор. \n",
    "**Если вы собираетесь решать задачу так, то, приступая, сообщите об этом @oserikov в телеграме.**\n",
    "\n",
    "Если вы уже хорошо знакомы ещё и с векторизацией текстов эмбеддингами, напишите @oserikov для обсуждения замены первой задачи на другую.\n"
   ]
  },
  {
   "cell_type": "markdown",
   "metadata": {
    "id": "EHqgPgL_Z9XF"
   },
   "source": [
    "# [6 баллов] Задача о снижении размерности\n",
    "\n",
    "\n"
   ]
  },
  {
   "cell_type": "markdown",
   "metadata": {
    "id": "jYhZCZwHnSan"
   },
   "source": [
    "[Вот](https://drive.google.com/drive/folders/1HX5rz4UZHtbzhPguUFolOg-xm6HFc0KO?usp=sharing) корпус, однажды собранный без особенных размышлений.\n",
    "Это -- корпус любительской литературы. Он был собран для забавы и непонятно, какая природа у представленных там текстов.\n",
    "\n",
    "Вам предстоит оценить, насколько эти тексты интересны в качестве простого датасета для задачи классификации: информативны ли Bag-of-Words векторы в смысле разделения текстов по жанрам.\n",
    "\n",
    "---\n",
    "\n",
    "### Постановка задачи\n",
    "\n",
    "**Задача**: взяв фанифики и два каких-то других жанра из корпуса, визуализировать их BoW-представления на плоскости.\n",
    "\n",
    "---\n",
    "\n",
    "Визуализацию стоит осуществлять scatter-плотом, информацию о принадлежности документа какому-то жанру стоит передавать цветом.\n",
    "\n",
    "Количество документов, представляющих каждый жанр, стоит подобрать семплированием нужного количества элементов под доступные вычислительные ресурсы -- полный корпус точно слишком велик.\n",
    "\n",
    "Гиперпараметры BoW-векторизатора стоит подобрать под доступные вычислительные ресурсы -- если код работает дольше часа, то стоит упростить вычислительную задачу: подобрать другие гиперпараметры векторизации или уменьшить выборку."
   ]
  },
  {
   "cell_type": "markdown",
   "metadata": {
    "id": "zIbAkSSnnOp8"
   },
   "source": [
    "#### Критерии\n",
    "\n",
    "\n",
    "* **1 БАЛЛ**: \n",
    "  * В выбранных документах осуществлена какая-то **стандартная предобработка текста**: удалены стоп-слова и мусорные токены (e.g. html-теги), проведена лемматизация.  \n",
    "  Решение о каждой конкретной детали предобработки остаётся на усмотрение студентов: каждое нестандартное действие (e.g. отказ от лемматизации или удаление каких-то особенных токенов) стоит пояснить коротким комментарием, описывающим мотивацию.\n",
    "  * Получены **Bag-of-Words векторы** документов, выбранных для исследования. \n",
    "* **1 БАЛЛ**: получена визуализация документов на плоскости **методом главных компонент** снижения размерности Bag-of-Words векторов.\n",
    "* **1 БАЛЛ**: получена визуализация документов на плоскости методом **t-SNE** снижения размерности Bag-of-Words векторов.\n",
    "* **1 БАЛЛ**: на полученных визуализациях **получилось передать цветом точек классы** документов; понятно, точка какого цвета относится к какому классу.\n",
    "\n",
    "\n",
    "Скорее всего визуализация t-SNE и PCA заметно отличаются раскладкой точек по плоскости: один метод как будто раскладывает их вдоль двух пересекающихся прямых, за другим такого свойства скорее всего нет. Ответ на два вопроса ниже вам предстоит указать в гуглформе, сдавая задание.\n",
    "* **1 БАЛЛ**: верно указано, какой метод укладывает точки примерно вдоль прямых, а какой -- нет\n",
    "* **1 БАЛЛ**: предложено верное описание тому, почему у одного из методов всегда результаты располагаются вдоль некоторых прямых. \n",
    "\n"
   ]
  },
  {
   "cell_type": "markdown",
   "metadata": {
    "id": "bMEZ9Qng58B5"
   },
   "source": [
    "#### Примеры кода"
   ]
  },
  {
   "cell_type": "markdown",
   "metadata": {
    "id": "lzf0J9IX6Kr6"
   },
   "source": [
    "Использование t-SNE и PCA для визуализации векторов: [ссылка](https://www.kaggle.com/jbencina/clustering-documents-with-tfidf-and-kmeans).\n",
    "\n",
    "\n",
    "\n"
   ]
  },
  {
   "cell_type": "markdown",
   "metadata": {},
   "source": [
    "## Выполнение"
   ]
  },
  {
   "cell_type": "markdown",
   "metadata": {},
   "source": [
    "### Препроцессинг и лемматизация текста"
   ]
  },
  {
   "cell_type": "code",
   "execution_count": 36,
   "metadata": {},
   "outputs": [],
   "source": [
    "import re"
   ]
  },
  {
   "cell_type": "code",
   "execution_count": 40,
   "metadata": {},
   "outputs": [],
   "source": [
    "from razdel import sentenize, tokenize\n",
    "from nltk.corpus import stopwords\n",
    "from string import punctuation\n",
    "\n",
    "stop = set(stopwords.words(\"russian\"))"
   ]
  },
  {
   "cell_type": "code",
   "execution_count": 2,
   "metadata": {},
   "outputs": [],
   "source": [
    "import pymorphy2\n",
    "morph = pymorphy2.MorphAnalyzer()"
   ]
  },
  {
   "cell_type": "code",
   "execution_count": 37,
   "metadata": {},
   "outputs": [],
   "source": [
    "def tokenization(text):\n",
    "    text = re.sub(r'\\n', ' ', text).lower()\n",
    "    tokens = list(tokenize(text))\n",
    "    return [token.text for token in tokens if token.text not in stop \n",
    "                                           and token.text not in punctuation\n",
    "                                           and len(token.text) > 1]"
   ]
  },
  {
   "cell_type": "code",
   "execution_count": 38,
   "metadata": {},
   "outputs": [],
   "source": [
    "def lemmatization(text):\n",
    "    tokens = tokenization(text)\n",
    "    lemmas = [morph.parse(word)[0].normal_form for word in tokens]\n",
    "    return ' '.join(lemmas)"
   ]
  },
  {
   "cell_type": "markdown",
   "metadata": {},
   "source": [
    "### Создание датафрейма из обработанных текстов, разделённых по жанрам"
   ]
  },
  {
   "cell_type": "code",
   "execution_count": 4,
   "metadata": {},
   "outputs": [],
   "source": [
    "import os\n",
    "import pandas as pd"
   ]
  },
  {
   "cell_type": "code",
   "execution_count": 8,
   "metadata": {},
   "outputs": [],
   "source": [
    "dirnames = ['Фанфик', 'Драматургия', 'Киберпанк']"
   ]
  },
  {
   "cell_type": "code",
   "execution_count": null,
   "metadata": {},
   "outputs": [],
   "source": [
    "df = pd.DataFrame(columns=['text', 'filepath', 'genre'])"
   ]
  },
  {
   "cell_type": "code",
   "execution_count": 41,
   "metadata": {},
   "outputs": [],
   "source": [
    "cur_dir = os.getcwd()\n",
    "\n",
    "filepaths = []\n",
    "texts = []\n",
    "for dirname in dirnames:\n",
    "    filepath = os.path.join(cur_dir, dirname)\n",
    "    for root, dirs, files in os.walk(filepath):\n",
    "        for name in files[:150]:\n",
    "            filename = os.path.join(root, name)\n",
    "            with open(filename, 'r', encoding='utf-8') as f:\n",
    "                text = f.read()\n",
    "                texts.append(lemmatization(text))\n",
    "                filepaths.append(filepath)"
   ]
  },
  {
   "cell_type": "code",
   "execution_count": 42,
   "metadata": {},
   "outputs": [],
   "source": [
    "df['text'] = texts\n",
    "df['filepath'] = filepaths"
   ]
  },
  {
   "cell_type": "code",
   "execution_count": 64,
   "metadata": {},
   "outputs": [],
   "source": [
    "for i, row in df.iterrows():\n",
    "    if 'Фанфик' in row['filepath']:\n",
    "        row['genre'] = 'fanfiction'\n",
    "    elif 'Драматургия' in row['filepath']:\n",
    "        row['genre'] = 'drama'\n",
    "    else:\n",
    "        row['genre'] = 'cyberpunk'"
   ]
  },
  {
   "cell_type": "code",
   "execution_count": 65,
   "metadata": {},
   "outputs": [
    {
     "data": {
      "text/html": [
       "<div>\n",
       "<style scoped>\n",
       "    .dataframe tbody tr th:only-of-type {\n",
       "        vertical-align: middle;\n",
       "    }\n",
       "\n",
       "    .dataframe tbody tr th {\n",
       "        vertical-align: top;\n",
       "    }\n",
       "\n",
       "    .dataframe thead th {\n",
       "        text-align: right;\n",
       "    }\n",
       "</style>\n",
       "<table border=\"1\" class=\"dataframe\">\n",
       "  <thead>\n",
       "    <tr style=\"text-align: right;\">\n",
       "      <th></th>\n",
       "      <th>text</th>\n",
       "      <th>filepath</th>\n",
       "      <th>genre</th>\n",
       "    </tr>\n",
       "  </thead>\n",
       "  <tbody>\n",
       "    <tr>\n",
       "      <th>0</th>\n",
       "      <td>ленточка фанфик роман андрей круз земля лишний...</td>\n",
       "      <td>C:\\Users\\AleksandraB\\CompLing\\hw\\Фанфик</td>\n",
       "      <td>fanfiction</td>\n",
       "    </tr>\n",
       "    <tr>\n",
       "      <th>1</th>\n",
       "      <td>mass effect while the reaper назвый mass effec...</td>\n",
       "      <td>C:\\Users\\AleksandraB\\CompLing\\hw\\Фанфик</td>\n",
       "      <td>fanfiction</td>\n",
       "    </tr>\n",
       "    <tr>\n",
       "      <th>2</th>\n",
       "      <td>дмитрий крам s-t-i-k-s подкидыш улья андрей пр...</td>\n",
       "      <td>C:\\Users\\AleksandraB\\CompLing\\hw\\Фанфик</td>\n",
       "      <td>fanfiction</td>\n",
       "    </tr>\n",
       "    <tr>\n",
       "      <th>3</th>\n",
       "      <td>дмитрий крам исчезнуть клан фанфик играть жить...</td>\n",
       "      <td>C:\\Users\\AleksandraB\\CompLing\\hw\\Фанфик</td>\n",
       "      <td>fanfiction</td>\n",
       "    </tr>\n",
       "    <tr>\n",
       "      <th>4</th>\n",
       "      <td>содержание часть акклиматиазия часть полёт ......</td>\n",
       "      <td>C:\\Users\\AleksandraB\\CompLing\\hw\\Фанфик</td>\n",
       "      <td>fanfiction</td>\n",
       "    </tr>\n",
       "    <tr>\n",
       "      <th>5</th>\n",
       "      <td>хогвартс-экспресс выть словно запереть клетка ...</td>\n",
       "      <td>C:\\Users\\AleksandraB\\CompLing\\hw\\Фанфик</td>\n",
       "      <td>fanfiction</td>\n",
       "    </tr>\n",
       "    <tr>\n",
       "      <th>6</th>\n",
       "      <td>**********************************************...</td>\n",
       "      <td>C:\\Users\\AleksandraB\\CompLing\\hw\\Фанфик</td>\n",
       "      <td>fanfiction</td>\n",
       "    </tr>\n",
       "    <tr>\n",
       "      <th>7</th>\n",
       "      <td>алиса глава покойник рота спать рота подъесть ...</td>\n",
       "      <td>C:\\Users\\AleksandraB\\CompLing\\hw\\Фанфик</td>\n",
       "      <td>fanfiction</td>\n",
       "    </tr>\n",
       "    <tr>\n",
       "      <th>8</th>\n",
       "      <td>глава это такой существовать значит воспринять...</td>\n",
       "      <td>C:\\Users\\AleksandraB\\CompLing\\hw\\Фанфик</td>\n",
       "      <td>fanfiction</td>\n",
       "    </tr>\n",
       "    <tr>\n",
       "      <th>9</th>\n",
       "      <td>пока решать вернуть разговор прежний русло све...</td>\n",
       "      <td>C:\\Users\\AleksandraB\\CompLing\\hw\\Фанфик</td>\n",
       "      <td>fanfiction</td>\n",
       "    </tr>\n",
       "  </tbody>\n",
       "</table>\n",
       "</div>"
      ],
      "text/plain": [
       "                                                text  \\\n",
       "0  ленточка фанфик роман андрей круз земля лишний...   \n",
       "1  mass effect while the reaper назвый mass effec...   \n",
       "2  дмитрий крам s-t-i-k-s подкидыш улья андрей пр...   \n",
       "3  дмитрий крам исчезнуть клан фанфик играть жить...   \n",
       "4  содержание часть акклиматиазия часть полёт ......   \n",
       "5  хогвартс-экспресс выть словно запереть клетка ...   \n",
       "6  **********************************************...   \n",
       "7  алиса глава покойник рота спать рота подъесть ...   \n",
       "8  глава это такой существовать значит воспринять...   \n",
       "9  пока решать вернуть разговор прежний русло све...   \n",
       "\n",
       "                                  filepath       genre  \n",
       "0  C:\\Users\\AleksandraB\\CompLing\\hw\\Фанфик  fanfiction  \n",
       "1  C:\\Users\\AleksandraB\\CompLing\\hw\\Фанфик  fanfiction  \n",
       "2  C:\\Users\\AleksandraB\\CompLing\\hw\\Фанфик  fanfiction  \n",
       "3  C:\\Users\\AleksandraB\\CompLing\\hw\\Фанфик  fanfiction  \n",
       "4  C:\\Users\\AleksandraB\\CompLing\\hw\\Фанфик  fanfiction  \n",
       "5  C:\\Users\\AleksandraB\\CompLing\\hw\\Фанфик  fanfiction  \n",
       "6  C:\\Users\\AleksandraB\\CompLing\\hw\\Фанфик  fanfiction  \n",
       "7  C:\\Users\\AleksandraB\\CompLing\\hw\\Фанфик  fanfiction  \n",
       "8  C:\\Users\\AleksandraB\\CompLing\\hw\\Фанфик  fanfiction  \n",
       "9  C:\\Users\\AleksandraB\\CompLing\\hw\\Фанфик  fanfiction  "
      ]
     },
     "execution_count": 65,
     "metadata": {},
     "output_type": "execute_result"
    }
   ],
   "source": [
    "df.head(10)"
   ]
  },
  {
   "cell_type": "markdown",
   "metadata": {},
   "source": [
    "### Векторизуем тексты"
   ]
  },
  {
   "cell_type": "code",
   "execution_count": 66,
   "metadata": {},
   "outputs": [],
   "source": [
    "from sklearn.feature_extraction.text import CountVectorizer\n",
    "from sklearn.feature_extraction.text import TfidfVectorizer"
   ]
  },
  {
   "cell_type": "code",
   "execution_count": 67,
   "metadata": {},
   "outputs": [],
   "source": [
    "vectorizer = TfidfVectorizer(max_features=20000)\n",
    "X = vectorizer.fit_transform(df['text'])"
   ]
  },
  {
   "cell_type": "markdown",
   "metadata": {},
   "source": [
    "### Визуализируем"
   ]
  },
  {
   "cell_type": "code",
   "execution_count": 68,
   "metadata": {},
   "outputs": [],
   "source": [
    "from sklearn.decomposition import PCA\n",
    "import matplotlib.pyplot as plt"
   ]
  },
  {
   "cell_type": "code",
   "execution_count": 69,
   "metadata": {},
   "outputs": [],
   "source": [
    "pca = PCA(n_components=2)"
   ]
  },
  {
   "cell_type": "code",
   "execution_count": 70,
   "metadata": {},
   "outputs": [],
   "source": [
    "principalComponents = pca.fit_transform(X.todense())\n",
    "df_pca = pd.DataFrame(data = principalComponents, \n",
    "                      columns = ['сomponent 1', 'сomponent 2'])"
   ]
  },
  {
   "cell_type": "code",
   "execution_count": 81,
   "metadata": {},
   "outputs": [],
   "source": [
    "pca_final = pd.concat([df_pca, df[['genre']]], axis = 1)"
   ]
  },
  {
   "cell_type": "code",
   "execution_count": 82,
   "metadata": {},
   "outputs": [
    {
     "data": {
      "text/html": [
       "<div>\n",
       "<style scoped>\n",
       "    .dataframe tbody tr th:only-of-type {\n",
       "        vertical-align: middle;\n",
       "    }\n",
       "\n",
       "    .dataframe tbody tr th {\n",
       "        vertical-align: top;\n",
       "    }\n",
       "\n",
       "    .dataframe thead th {\n",
       "        text-align: right;\n",
       "    }\n",
       "</style>\n",
       "<table border=\"1\" class=\"dataframe\">\n",
       "  <thead>\n",
       "    <tr style=\"text-align: right;\">\n",
       "      <th></th>\n",
       "      <th>сomponent 1</th>\n",
       "      <th>сomponent 2</th>\n",
       "      <th>genre</th>\n",
       "    </tr>\n",
       "  </thead>\n",
       "  <tbody>\n",
       "    <tr>\n",
       "      <th>0</th>\n",
       "      <td>0.138107</td>\n",
       "      <td>-0.010058</td>\n",
       "      <td>fanfiction</td>\n",
       "    </tr>\n",
       "    <tr>\n",
       "      <th>1</th>\n",
       "      <td>-0.265419</td>\n",
       "      <td>0.007217</td>\n",
       "      <td>fanfiction</td>\n",
       "    </tr>\n",
       "    <tr>\n",
       "      <th>2</th>\n",
       "      <td>-0.000526</td>\n",
       "      <td>-0.008578</td>\n",
       "      <td>fanfiction</td>\n",
       "    </tr>\n",
       "    <tr>\n",
       "      <th>3</th>\n",
       "      <td>0.318106</td>\n",
       "      <td>-0.106058</td>\n",
       "      <td>fanfiction</td>\n",
       "    </tr>\n",
       "    <tr>\n",
       "      <th>4</th>\n",
       "      <td>-0.264941</td>\n",
       "      <td>-0.002173</td>\n",
       "      <td>fanfiction</td>\n",
       "    </tr>\n",
       "    <tr>\n",
       "      <th>5</th>\n",
       "      <td>-0.057680</td>\n",
       "      <td>-0.158435</td>\n",
       "      <td>fanfiction</td>\n",
       "    </tr>\n",
       "    <tr>\n",
       "      <th>6</th>\n",
       "      <td>0.235143</td>\n",
       "      <td>0.046479</td>\n",
       "      <td>fanfiction</td>\n",
       "    </tr>\n",
       "    <tr>\n",
       "      <th>7</th>\n",
       "      <td>0.313632</td>\n",
       "      <td>0.011147</td>\n",
       "      <td>fanfiction</td>\n",
       "    </tr>\n",
       "    <tr>\n",
       "      <th>8</th>\n",
       "      <td>0.104467</td>\n",
       "      <td>-0.064860</td>\n",
       "      <td>fanfiction</td>\n",
       "    </tr>\n",
       "    <tr>\n",
       "      <th>9</th>\n",
       "      <td>-0.099042</td>\n",
       "      <td>0.050099</td>\n",
       "      <td>fanfiction</td>\n",
       "    </tr>\n",
       "    <tr>\n",
       "      <th>10</th>\n",
       "      <td>-0.037067</td>\n",
       "      <td>0.067256</td>\n",
       "      <td>fanfiction</td>\n",
       "    </tr>\n",
       "    <tr>\n",
       "      <th>11</th>\n",
       "      <td>-0.047962</td>\n",
       "      <td>0.059049</td>\n",
       "      <td>fanfiction</td>\n",
       "    </tr>\n",
       "    <tr>\n",
       "      <th>12</th>\n",
       "      <td>-0.111004</td>\n",
       "      <td>0.070497</td>\n",
       "      <td>fanfiction</td>\n",
       "    </tr>\n",
       "    <tr>\n",
       "      <th>13</th>\n",
       "      <td>-0.085295</td>\n",
       "      <td>0.038194</td>\n",
       "      <td>fanfiction</td>\n",
       "    </tr>\n",
       "    <tr>\n",
       "      <th>14</th>\n",
       "      <td>-0.137032</td>\n",
       "      <td>0.056401</td>\n",
       "      <td>fanfiction</td>\n",
       "    </tr>\n",
       "  </tbody>\n",
       "</table>\n",
       "</div>"
      ],
      "text/plain": [
       "    сomponent 1  сomponent 2       genre\n",
       "0      0.138107    -0.010058  fanfiction\n",
       "1     -0.265419     0.007217  fanfiction\n",
       "2     -0.000526    -0.008578  fanfiction\n",
       "3      0.318106    -0.106058  fanfiction\n",
       "4     -0.264941    -0.002173  fanfiction\n",
       "5     -0.057680    -0.158435  fanfiction\n",
       "6      0.235143     0.046479  fanfiction\n",
       "7      0.313632     0.011147  fanfiction\n",
       "8      0.104467    -0.064860  fanfiction\n",
       "9     -0.099042     0.050099  fanfiction\n",
       "10    -0.037067     0.067256  fanfiction\n",
       "11    -0.047962     0.059049  fanfiction\n",
       "12    -0.111004     0.070497  fanfiction\n",
       "13    -0.085295     0.038194  fanfiction\n",
       "14    -0.137032     0.056401  fanfiction"
      ]
     },
     "execution_count": 82,
     "metadata": {},
     "output_type": "execute_result"
    }
   ],
   "source": [
    "pca_final.head(15)"
   ]
  },
  {
   "cell_type": "markdown",
   "metadata": {},
   "source": [
    "### Визуализация документов на плоскости методом PCA снижения размерности Bag-of-words векторов"
   ]
  },
  {
   "cell_type": "code",
   "execution_count": 91,
   "metadata": {},
   "outputs": [
    {
     "data": {
      "image/png": "[encoded data removed]",
      "text/plain": [
       "<Figure size 576x576 with 1 Axes>"
      ]
     },
     "metadata": {
      "needs_background": "light"
     },
     "output_type": "display_data"
    }
   ],
   "source": [
    "fig = plt.figure(figsize = (8,8))\n",
    "ax = fig.add_subplot(1,1,1)\n",
    "ax.set_xlabel('Principal Component 1', fontsize = 15)\n",
    "ax.set_ylabel('Principal Component 2', fontsize = 15)\n",
    "ax.set_title('2 component PCA', fontsize = 20)\n",
    "\n",
    "targets = ['fanfiction', 'drama', 'cyberpunk']\n",
    "colors = ['yellow', 'palevioletred', 'darkcyan']\n",
    "\n",
    "for target, color in zip(targets, colors):\n",
    "    indicesToKeep  = df_new['genre'] == target\n",
    "    ax.scatter(pca_final.loc[indicesToKeep, 'сomponent 1'], \n",
    "               pca_final.loc[indicesToKeep, 'сomponent 2'],\n",
    "               c = color,\n",
    "               s = 50)\n",
    "    \n",
    "ax.legend(targets)\n",
    "ax.grid()"
   ]
  },
  {
   "cell_type": "markdown",
   "metadata": {},
   "source": [
    "### Визуализация документов на плоскости методом t-SNE снижения размерности Bag-of-words векторов"
   ]
  },
  {
   "cell_type": "code",
   "execution_count": 85,
   "metadata": {},
   "outputs": [],
   "source": [
    "from sklearn.manifold import TSNE"
   ]
  },
  {
   "cell_type": "code",
   "execution_count": 86,
   "metadata": {},
   "outputs": [],
   "source": [
    "tsne = TSNE(n_components=2).fit_transform(X.todense())"
   ]
  },
  {
   "cell_type": "code",
   "execution_count": 87,
   "metadata": {},
   "outputs": [],
   "source": [
    "df_tsne = pd.DataFrame(data = tsne, \n",
    "                       columns = ['component 1', 'component 2'])"
   ]
  },
  {
   "cell_type": "code",
   "execution_count": 88,
   "metadata": {},
   "outputs": [],
   "source": [
    "tsne_final = pd.concat([df_tsne, df[['genre']]], axis = 1)"
   ]
  },
  {
   "cell_type": "code",
   "execution_count": 89,
   "metadata": {},
   "outputs": [
    {
     "data": {
      "text/html": [
       "<div>\n",
       "<style scoped>\n",
       "    .dataframe tbody tr th:only-of-type {\n",
       "        vertical-align: middle;\n",
       "    }\n",
       "\n",
       "    .dataframe tbody tr th {\n",
       "        vertical-align: top;\n",
       "    }\n",
       "\n",
       "    .dataframe thead th {\n",
       "        text-align: right;\n",
       "    }\n",
       "</style>\n",
       "<table border=\"1\" class=\"dataframe\">\n",
       "  <thead>\n",
       "    <tr style=\"text-align: right;\">\n",
       "      <th></th>\n",
       "      <th>component 1</th>\n",
       "      <th>component 2</th>\n",
       "      <th>genre</th>\n",
       "    </tr>\n",
       "  </thead>\n",
       "  <tbody>\n",
       "    <tr>\n",
       "      <th>0</th>\n",
       "      <td>1.671888</td>\n",
       "      <td>145.039673</td>\n",
       "      <td>fanfiction</td>\n",
       "    </tr>\n",
       "    <tr>\n",
       "      <th>1</th>\n",
       "      <td>-30.613043</td>\n",
       "      <td>456.009003</td>\n",
       "      <td>fanfiction</td>\n",
       "    </tr>\n",
       "    <tr>\n",
       "      <th>2</th>\n",
       "      <td>434.869720</td>\n",
       "      <td>-77.016197</td>\n",
       "      <td>fanfiction</td>\n",
       "    </tr>\n",
       "    <tr>\n",
       "      <th>3</th>\n",
       "      <td>-97.352158</td>\n",
       "      <td>27.055061</td>\n",
       "      <td>fanfiction</td>\n",
       "    </tr>\n",
       "    <tr>\n",
       "      <th>4</th>\n",
       "      <td>-184.303818</td>\n",
       "      <td>-131.247406</td>\n",
       "      <td>fanfiction</td>\n",
       "    </tr>\n",
       "    <tr>\n",
       "      <th>5</th>\n",
       "      <td>-375.356628</td>\n",
       "      <td>131.538712</td>\n",
       "      <td>fanfiction</td>\n",
       "    </tr>\n",
       "    <tr>\n",
       "      <th>6</th>\n",
       "      <td>61.602291</td>\n",
       "      <td>44.511463</td>\n",
       "      <td>fanfiction</td>\n",
       "    </tr>\n",
       "    <tr>\n",
       "      <th>7</th>\n",
       "      <td>51.849747</td>\n",
       "      <td>32.893684</td>\n",
       "      <td>fanfiction</td>\n",
       "    </tr>\n",
       "    <tr>\n",
       "      <th>8</th>\n",
       "      <td>-297.620178</td>\n",
       "      <td>-108.081955</td>\n",
       "      <td>fanfiction</td>\n",
       "    </tr>\n",
       "    <tr>\n",
       "      <th>9</th>\n",
       "      <td>55.415909</td>\n",
       "      <td>480.061646</td>\n",
       "      <td>fanfiction</td>\n",
       "    </tr>\n",
       "    <tr>\n",
       "      <th>10</th>\n",
       "      <td>79.405960</td>\n",
       "      <td>481.334259</td>\n",
       "      <td>fanfiction</td>\n",
       "    </tr>\n",
       "    <tr>\n",
       "      <th>11</th>\n",
       "      <td>299.184753</td>\n",
       "      <td>447.980286</td>\n",
       "      <td>fanfiction</td>\n",
       "    </tr>\n",
       "    <tr>\n",
       "      <th>12</th>\n",
       "      <td>73.999954</td>\n",
       "      <td>460.458008</td>\n",
       "      <td>fanfiction</td>\n",
       "    </tr>\n",
       "    <tr>\n",
       "      <th>13</th>\n",
       "      <td>21.863884</td>\n",
       "      <td>411.356384</td>\n",
       "      <td>fanfiction</td>\n",
       "    </tr>\n",
       "    <tr>\n",
       "      <th>14</th>\n",
       "      <td>53.534435</td>\n",
       "      <td>458.337463</td>\n",
       "      <td>fanfiction</td>\n",
       "    </tr>\n",
       "  </tbody>\n",
       "</table>\n",
       "</div>"
      ],
      "text/plain": [
       "    component 1  component 2       genre\n",
       "0      1.671888   145.039673  fanfiction\n",
       "1    -30.613043   456.009003  fanfiction\n",
       "2    434.869720   -77.016197  fanfiction\n",
       "3    -97.352158    27.055061  fanfiction\n",
       "4   -184.303818  -131.247406  fanfiction\n",
       "5   -375.356628   131.538712  fanfiction\n",
       "6     61.602291    44.511463  fanfiction\n",
       "7     51.849747    32.893684  fanfiction\n",
       "8   -297.620178  -108.081955  fanfiction\n",
       "9     55.415909   480.061646  fanfiction\n",
       "10    79.405960   481.334259  fanfiction\n",
       "11   299.184753   447.980286  fanfiction\n",
       "12    73.999954   460.458008  fanfiction\n",
       "13    21.863884   411.356384  fanfiction\n",
       "14    53.534435   458.337463  fanfiction"
      ]
     },
     "execution_count": 89,
     "metadata": {},
     "output_type": "execute_result"
    }
   ],
   "source": [
    "tsne_final.head(15)"
   ]
  },
  {
   "cell_type": "code",
   "execution_count": 90,
   "metadata": {},
   "outputs": [
    {
     "data": {
      "image/png": "[encoded data removed]",
      "text/plain": [
       "<Figure size 576x576 with 1 Axes>"
      ]
     },
     "metadata": {
      "needs_background": "light"
     },
     "output_type": "display_data"
    }
   ],
   "source": [
    "fig = plt.figure(figsize = (8,8))\n",
    "ax = fig.add_subplot(1,1,1) \n",
    "ax.set_xlabel('Principal Component 1', fontsize = 15)\n",
    "ax.set_ylabel('Principal Component 2', fontsize = 15)\n",
    "ax.set_title('2 component tSNE', fontsize = 20)\n",
    "\n",
    "targets = ['fanfiction', 'drama', 'cyberpunk']\n",
    "colors = ['yellow', 'palevioletred', 'darkcyan']\n",
    "\n",
    "for target, color in zip(targets, colors):\n",
    "    indicesToKeep = tsne_final['genre'] == target\n",
    "    ax.scatter(tsne_final.loc[indicesToKeep, 'component 1'],\n",
    "               tsne_final.loc[indicesToKeep, 'component 2'],\n",
    "               c = color,\n",
    "               s = 50)\n",
    "    \n",
    "ax.legend(targets)\n",
    "ax.grid()"
   ]
  }
 ],
 "metadata": {
  "colab": {
   "authorship_tag": "ABX9TyPlA8mm5agWQ4XIne5tjyqH",
   "include_colab_link": true,
   "name": "домашнее задание о векторизации текстов.ipynb",
   "provenance": []
  },
  "kernelspec": {
   "display_name": "Python 3",
   "language": "python",
   "name": "python3"
  },
  "language_info": {
   "codemirror_mode": {
    "name": "ipython",
    "version": 3
   },
   "file_extension": ".py",
   "mimetype": "text/x-python",
   "name": "python",
   "nbconvert_exporter": "python",
   "pygments_lexer": "ipython3",
   "version": "3.7.4"
  }
 },
 "nbformat": 4,
 "nbformat_minor": 1
}
